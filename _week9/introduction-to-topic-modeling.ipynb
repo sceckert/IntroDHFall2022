{
 "cells": [
  {
   "cell_type": "markdown",
   "metadata": {},
   "source": [
    "# Introduction to Topic Modeling\n",
    "\n",
    "In today's lesson, we're going to be working on method of text analysis called \"topic modeling\".\n",
    "\n",
    "- [Part 1: What is a topic model?](#Part-1:-What-is-a-topic-model?)\n",
    "- [Part 2: Topic Modeling Historical *New York Times* Obituaries (1852-2007)](#Part-2:-Topic-Modeling-Historical-*New-York-Times*-Obituaries-(1852-2007))\n",
    "- [Part 3: Visualizing topic modeling results](#Part-3:-Visualizing-topic-modeling-results)\n",
    "\n",
    "\n",
    "\n",
    "## Part 1: What is a topic model?\n",
    "\n",
    "![image](../_images/blei-lda.png)\n",
    "From David Blei, \"Probablistic topic modeling\" (2012)\n",
    "\n",
    "How do I \"topic model\"?\n",
    "\n",
    "1. [**MALLET: MAchine Learning for LanguagE Toolkit**](http://mallet.cs.umass.edu/index.php)\n",
    "    - ![image](../_images/MALLET.png)\n",
    "\n",
    "\n",
    "2. **David Mimno's in-browswer topic model:**\n",
    "    - ![image](../_images/mimno-browser1.png)\n",
    "\n",
    "    - ![image](../_images/mimno-browser2.png)\n",
    "\n",
    "\n",
    "3. **Today: Topic Modeling using MALLET within Python**"
   ]
  },
  {
   "cell_type": "markdown",
   "metadata": {},
   "source": [
    "A Note:\n",
    "1. You can follow along with today's tutiral in Binder\n",
    "2. You can download this notebook and run it on your own machine.\n",
    "\n",
    "If you are running this notebook in the cloud, all of the necessary software has already been downloaded. \n",
    "\n",
    "If you are running this notebook locally, you need to have a few things installed:\n",
    "- See [Instructions on how to install Java Development Kit, MALLET,  little_mallet_wrapper and seaborn](https://github.com/sceckert/IntroDHFall2022/blob/main/_week9/topic-modeling-set-up-instructions.md)\n",
    "\n"
   ]
  },
  {
   "cell_type": "markdown",
   "metadata": {},
   "source": [
    "## Part 2: Topic Modeling Historical *New York Times* Obituaries (1852-2007)\n",
    "\n",
    "## Let's get started!\n",
    "\n",
    "In this particular lesson, we’re going to use [Little MALLET Wrapper](https://github.com/maria-antoniak/little-mallet-wrapper), a Python wrapper for [MALLET](http://mallet.cs.umass.edu/index.php), to topic model 379 obituaries of significant historical figures published by *The New York Times*. This dataset is based on data originally collected by Matt Lavin for his Programming Historian [TF-IDF tutorial](https://programminghistorian.org/en/lessons/analyzing-documents-with-tfidf). Melanie Walsh cleaned the obituaries so that the subject’s name and death year is included in each text file name, added 13 more “Overlooked” obituaries, including Karen Spärck Jones, the computer scientist who introduced TF-IDF. \n",
    "\n",
    "This dataset can be found on our GitHub page under \"_datasets/texts/history/NYT-Obituaries\"\n",
    "\n",
    "\n",
    "## Import Packages"
   ]
  },
  {
   "cell_type": "code",
   "execution_count": 1,
   "metadata": {},
   "outputs": [
    {
     "name": "stdout",
     "output_type": "stream",
     "text": [
      "Requirement already satisfied: little_mallet_wrapper in /Users/sceckert/anaconda3/lib/python3.8/site-packages (0.5.0)\n",
      "\u001b[33mWARNING: You are using pip version 22.0.4; however, version 22.3.1 is available.\n",
      "You should consider upgrading via the '/Users/sceckert/anaconda3/bin/python -m pip install --upgrade pip' command.\u001b[0m\u001b[33m\n",
      "\u001b[0m"
     ]
    }
   ],
   "source": [
    "!pip install little_mallet_wrapper"
   ]
  },
  {
   "cell_type": "code",
   "execution_count": 45,
   "metadata": {},
   "outputs": [
    {
     "name": "stdout",
     "output_type": "stream",
     "text": [
      "Requirement already satisfied: scipy in /Users/sceckert/anaconda3/lib/python3.8/site-packages (1.5.0)\n",
      "Requirement already satisfied: numpy>=1.14.5 in /Users/sceckert/anaconda3/lib/python3.8/site-packages (from scipy) (1.22.3)\n",
      "\u001b[33mWARNING: You are using pip version 22.0.4; however, version 22.3.1 is available.\n",
      "You should consider upgrading via the '/Users/sceckert/anaconda3/bin/python -m pip install --upgrade pip' command.\u001b[0m\u001b[33m\n",
      "\u001b[0m"
     ]
    }
   ],
   "source": [
    "!pip install scipy"
   ]
  },
  {
   "cell_type": "code",
   "execution_count": 46,
   "metadata": {},
   "outputs": [],
   "source": [
    "import little_mallet_wrapper\n",
    "import seaborn\n",
    "import glob\n",
    "import os\n",
    "import scipy\n",
    "from pathlib import Path"
   ]
  },
  {
   "cell_type": "markdown",
   "metadata": {},
   "source": [
    "## Set the path to MALLET\n",
    "Note: if you're running this notebook on your *local* machine, you need to replace the path below with the path to mallet on your own machine. Run the cell below"
   ]
  },
  {
   "cell_type": "code",
   "execution_count": 3,
   "metadata": {},
   "outputs": [],
   "source": [
    "path_to_mallet = 'mallet-2.0.8/bin/mallet'"
   ]
  },
  {
   "cell_type": "markdown",
   "metadata": {},
   "source": [
    "## Define our corpus of texts\n",
    "In this workshop, we'll be working on a dataset of NYT Obituaries, produced by Matt Lavin as part of his TF-IDF workshop, with a few recent additions added by Melanie Walsh"
   ]
  },
  {
   "cell_type": "code",
   "execution_count": 4,
   "metadata": {},
   "outputs": [],
   "source": [
    "# Make a variable and assign it to the path to our directory that contains our text files\n",
    "directory = \"../_datasets/NYT-Obituaries/\""
   ]
  },
  {
   "cell_type": "markdown",
   "metadata": {},
   "source": [
    "Using the `glob` function and the wildcard `*`, we're going to make a list of all the text files in our directory."
   ]
  },
  {
   "cell_type": "code",
   "execution_count": 5,
   "metadata": {},
   "outputs": [],
   "source": [
    "files = glob.glob(f\"{directory}/*.txt\")"
   ]
  },
  {
   "cell_type": "code",
   "execution_count": 6,
   "metadata": {},
   "outputs": [
    {
     "data": {
      "text/plain": [
       "['../_datasets/NYT-Obituaries/1945-Adolf-Hitler.txt',\n",
       " '../_datasets/NYT-Obituaries/1915-F-W-Taylor.txt',\n",
       " '../_datasets/NYT-Obituaries/1975-Chiang-Kai-shek.txt',\n",
       " '../_datasets/NYT-Obituaries/1984-Ethel-Merman.txt',\n",
       " '../_datasets/NYT-Obituaries/1953-Jim-Thorpe.txt',\n",
       " '../_datasets/NYT-Obituaries/1964-Nella-Larsen.txt',\n",
       " '../_datasets/NYT-Obituaries/1955-Margaret-Abbott.txt',\n",
       " '../_datasets/NYT-Obituaries/1984-Lillian-Hellman.txt',\n",
       " '../_datasets/NYT-Obituaries/1959-Cecil-De-Mille.txt',\n",
       " '../_datasets/NYT-Obituaries/1928-Mabel-Craty.txt',\n",
       " '../_datasets/NYT-Obituaries/1973-Eddie-Rickenbacker.txt',\n",
       " '../_datasets/NYT-Obituaries/1989-Ferdinand-Marcos.txt',\n",
       " '../_datasets/NYT-Obituaries/1991-Martha-Graham.txt',\n",
       " '../_datasets/NYT-Obituaries/1997-Deng-Xiaoping.txt',\n",
       " '../_datasets/NYT-Obituaries/1938-George-E-Hale.txt',\n",
       " '../_datasets/NYT-Obituaries/1885-Ulysses-Grant.txt',\n",
       " '../_datasets/NYT-Obituaries/1909-Sarah-Orne-Jewett.txt',\n",
       " '../_datasets/NYT-Obituaries/1957-Christian-Dior.txt',\n",
       " '../_datasets/NYT-Obituaries/1987-Clare-Boothe-Luce.txt',\n",
       " '../_datasets/NYT-Obituaries/1976-Jacques-Monod.txt',\n",
       " '../_datasets/NYT-Obituaries/1954-Getulio-Vargas.txt',\n",
       " '../_datasets/NYT-Obituaries/1979-Stan-Kenton.txt',\n",
       " '../_datasets/NYT-Obituaries/1990-Leonard-Bernstein.txt',\n",
       " '../_datasets/NYT-Obituaries/1972-Jackie-Robinson.txt',\n",
       " '../_datasets/NYT-Obituaries/1998-Fred-W-Friendly.txt',\n",
       " '../_datasets/NYT-Obituaries/1991-Leo-Durocher.txt',\n",
       " '../_datasets/NYT-Obituaries/1915-B-T-Washington.txt',\n",
       " '../_datasets/NYT-Obituaries/1997-James-Stewart.txt',\n",
       " '../_datasets/NYT-Obituaries/1981-Joe-Louis.txt',\n",
       " '../_datasets/NYT-Obituaries/1983-Muddy-Waters.txt',\n",
       " '../_datasets/NYT-Obituaries/1942-George-M-Cohan.txt',\n",
       " '../_datasets/NYT-Obituaries/1989-Samuel-Beckett.txt',\n",
       " '../_datasets/NYT-Obituaries/1962-Marilyn-Monroe.txt',\n",
       " '../_datasets/NYT-Obituaries/2000-Charles-M-Schulz.txt',\n",
       " '../_datasets/NYT-Obituaries/1967-Gregory-Pincus.txt',\n",
       " '../_datasets/NYT-Obituaries/1894-R-L-Stevenson.txt',\n",
       " '../_datasets/NYT-Obituaries/1978-Bruce-Catton.txt',\n",
       " '../_datasets/NYT-Obituaries/1982-Arthur-Rubinstein.txt',\n",
       " '../_datasets/NYT-Obituaries/1875-Andrew-Johnson.txt',\n",
       " '../_datasets/NYT-Obituaries/1974-Charles-Lindbergh.txt',\n",
       " '../_datasets/NYT-Obituaries/1964-Rachel-Carson.txt',\n",
       " '../_datasets/NYT-Obituaries/1953-Marjorie-Rawlings.txt',\n",
       " '../_datasets/NYT-Obituaries/1973-Otto-Klemperer.txt',\n",
       " '../_datasets/NYT-Obituaries/1963-Sylvia-Plath.txt',\n",
       " '../_datasets/NYT-Obituaries/1956-Charles-Merrill.txt',\n",
       " '../_datasets/NYT-Obituaries/1966-Lenny-Bruce.txt',\n",
       " '../_datasets/NYT-Obituaries/1908-Cleveland.txt',\n",
       " '../_datasets/NYT-Obituaries/1982-Anna-Freud.txt',\n",
       " '../_datasets/NYT-Obituaries/1941-Frank-Conrad.txt',\n",
       " '../_datasets/NYT-Obituaries/1966-Alfred-P-Sloan-Jr.txt',\n",
       " '../_datasets/NYT-Obituaries/1960-Beno-Gutenberg.txt',\n",
       " '../_datasets/NYT-Obituaries/1976-J-Paul-Getty.txt',\n",
       " '../_datasets/NYT-Obituaries/1891-P-T-Barnum.txt',\n",
       " '../_datasets/NYT-Obituaries/1901-Queen-Victoria.txt',\n",
       " '../_datasets/NYT-Obituaries/1970-Erich-Maria-Remarque.txt',\n",
       " '../_datasets/NYT-Obituaries/1989-August-A-Busch-Jr.txt',\n",
       " '../_datasets/NYT-Obituaries/1992-John-Cage.txt',\n",
       " '../_datasets/NYT-Obituaries/1994-Erik-Erikson.txt',\n",
       " '../_datasets/NYT-Obituaries/1990-Erte.txt',\n",
       " '../_datasets/NYT-Obituaries/1966-Chester-Nimitz.txt',\n",
       " '../_datasets/NYT-Obituaries/1954-Enrico-Fermi.txt',\n",
       " '../_datasets/NYT-Obituaries/1961-Primitive-Artist.txt',\n",
       " '../_datasets/NYT-Obituaries/1945-Bela-Bartok.txt',\n",
       " '../_datasets/NYT-Obituaries/1978-Pope-Paul-VI.txt',\n",
       " '../_datasets/NYT-Obituaries/1965-Martin-Buber.txt',\n",
       " '../_datasets/NYT-Obituaries/1971-Diane-Arbus.txt',\n",
       " '../_datasets/NYT-Obituaries/1973-Lyndon-Johnson.txt',\n",
       " '../_datasets/NYT-Obituaries/1998-Bob-Kane.txt',\n",
       " '../_datasets/NYT-Obituaries/1969-Judy-Garland.txt',\n",
       " '../_datasets/NYT-Obituaries/1959-Frank-Lloyd-Wright.txt',\n",
       " '../_datasets/NYT-Obituaries/1995-Ginger-Rogers.txt',\n",
       " '../_datasets/NYT-Obituaries/1920-Marlene-Dietrich.txt',\n",
       " '../_datasets/NYT-Obituaries/1998-Alan-B-Shepard-Jr.txt',\n",
       " '../_datasets/NYT-Obituaries/1971-Khrushchev.txt',\n",
       " '../_datasets/NYT-Obituaries/1935-Justice-Holmes.txt',\n",
       " '../_datasets/NYT-Obituaries/1969-David-Eisenhower.txt',\n",
       " '../_datasets/NYT-Obituaries/1992-Marsha-P-Johnson.txt',\n",
       " '../_datasets/NYT-Obituaries/1914-Alfred-Thayer-Mahan.txt',\n",
       " '../_datasets/NYT-Obituaries/1965-Branch-Rickey.txt',\n",
       " '../_datasets/NYT-Obituaries/2007-Karen-Sparck-Jones.txt',\n",
       " '../_datasets/NYT-Obituaries/1965-Albert-Schweitzer.txt',\n",
       " '../_datasets/NYT-Obituaries/1992-Isaac-Asimov.txt',\n",
       " '../_datasets/NYT-Obituaries/1989-William-B-Shockley.txt',\n",
       " '../_datasets/NYT-Obituaries/1910-William-James.txt',\n",
       " '../_datasets/NYT-Obituaries/1951-Fanny-Brice.txt',\n",
       " '../_datasets/NYT-Obituaries/1916-Jack-London.txt',\n",
       " '../_datasets/NYT-Obituaries/1947-Al-Capone.txt',\n",
       " '../_datasets/NYT-Obituaries/1989-Lucille-Ball.txt',\n",
       " '../_datasets/NYT-Obituaries/1980-Jean-Paul-Sartre.txt',\n",
       " '../_datasets/NYT-Obituaries/1969-Sonja-Henie.txt',\n",
       " '../_datasets/NYT-Obituaries/1976-Adolph-Zukor.txt',\n",
       " '../_datasets/NYT-Obituaries/1959-John-Dulles.txt',\n",
       " '../_datasets/NYT-Obituaries/1980-Alfred-Hitchcock.txt',\n",
       " '../_datasets/NYT-Obituaries/1901-Benjamin-Harrison.txt',\n",
       " '../_datasets/NYT-Obituaries/1994-Richard-Nixon.txt',\n",
       " '../_datasets/NYT-Obituaries/1917-Hilaire-G-E-Degas.txt',\n",
       " '../_datasets/NYT-Obituaries/1987-James-Baldwin.txt',\n",
       " '../_datasets/NYT-Obituaries/1941-Virginia-Woolf.txt',\n",
       " '../_datasets/NYT-Obituaries/1922-Alexander-Graham-Bell.txt',\n",
       " '../_datasets/NYT-Obituaries/1907-Qiu-Jin.txt',\n",
       " '../_datasets/NYT-Obituaries/1895-Fred-Douglass.txt',\n",
       " '../_datasets/NYT-Obituaries/1971-Florence-Blanchfield.txt',\n",
       " '../_datasets/NYT-Obituaries/1984-Ray-A-Kroc.txt',\n",
       " '../_datasets/NYT-Obituaries/1947-Fiorello-La-Guardia.txt',\n",
       " '../_datasets/NYT-Obituaries/1988-Louis-L-Amour.txt',\n",
       " '../_datasets/NYT-Obituaries/1902-Elizabeth-Cady-Stanton.txt',\n",
       " '../_datasets/NYT-Obituaries/1965-Shirley-Jackson.txt',\n",
       " '../_datasets/NYT-Obituaries/1979-John-Wayne.txt',\n",
       " '../_datasets/NYT-Obituaries/1994-Thomas-P-O-Neill-Jr.txt',\n",
       " '../_datasets/NYT-Obituaries/1982-Thelonious-Monk.txt',\n",
       " '../_datasets/NYT-Obituaries/1919-C-J-Walker.txt',\n",
       " '../_datasets/NYT-Obituaries/1954-Liberty-H-Bailey.txt',\n",
       " '../_datasets/NYT-Obituaries/1977-Dash-Ended.txt',\n",
       " '../_datasets/NYT-Obituaries/1936-Maxim-Gorky.txt',\n",
       " '../_datasets/NYT-Obituaries/2000-Pierre-Trudeau.txt',\n",
       " '../_datasets/NYT-Obituaries/1976-Mao-Tse-Tung.txt',\n",
       " '../_datasets/NYT-Obituaries/1955-Walter-White.txt',\n",
       " '../_datasets/NYT-Obituaries/1930-Conan-Doyle.txt',\n",
       " '../_datasets/NYT-Obituaries/1995-Jonas-Salk.txt',\n",
       " '../_datasets/NYT-Obituaries/1949-Mitchell.txt',\n",
       " '../_datasets/NYT-Obituaries/1951-Henrietta-Lacks.txt',\n",
       " '../_datasets/NYT-Obituaries/1903-James-M-N-Whistler.txt',\n",
       " '../_datasets/NYT-Obituaries/1950-A-J-Dempster.txt',\n",
       " '../_datasets/NYT-Obituaries/1937-Edith-Wharton.txt',\n",
       " '../_datasets/NYT-Obituaries/1935-Jane-Addams.txt',\n",
       " '../_datasets/NYT-Obituaries/1941-James-Joyce.txt',\n",
       " '../_datasets/NYT-Obituaries/1952-John-Dewey.txt',\n",
       " '../_datasets/NYT-Obituaries/1940-Marcus-Garvey.txt',\n",
       " '../_datasets/NYT-Obituaries/1971-Louis-Armstrong.txt',\n",
       " '../_datasets/NYT-Obituaries/1923-Warren-Harding.txt',\n",
       " '../_datasets/NYT-Obituaries/1937-John-Rockefeller.txt',\n",
       " '../_datasets/NYT-Obituaries/2000-Elliot-Richardson.txt',\n",
       " '../_datasets/NYT-Obituaries/1972-J-Edgar-Hoover.txt',\n",
       " '../_datasets/NYT-Obituaries/1975-Franco.txt',\n",
       " '../_datasets/NYT-Obituaries/1973-Jeanette-Rankin.txt',\n",
       " '../_datasets/NYT-Obituaries/1888-Louisa-M-Alcott.txt',\n",
       " '../_datasets/NYT-Obituaries/1977-Charles-Chaplin.txt',\n",
       " '../_datasets/NYT-Obituaries/1990-Ralph-David-Abernathy.txt',\n",
       " '../_datasets/NYT-Obituaries/1946-Lord-Keynes.txt',\n",
       " '../_datasets/NYT-Obituaries/1996-Gene-Kelly.txt',\n",
       " '../_datasets/NYT-Obituaries/1973-Roberto-Clemente.txt',\n",
       " '../_datasets/NYT-Obituaries/1986-Georgia-O-Keeffe.txt',\n",
       " '../_datasets/NYT-Obituaries/1990-Rex-Harrison.txt',\n",
       " '../_datasets/NYT-Obituaries/1916-Martian-Theory.txt',\n",
       " '../_datasets/NYT-Obituaries/1961-Ernest-Hemingway.txt',\n",
       " '../_datasets/NYT-Obituaries/1978-Margaret-Mead.txt',\n",
       " '../_datasets/NYT-Obituaries/1982-Ingrid-Bergman.txt',\n",
       " '../_datasets/NYT-Obituaries/1946-C-E-M-Clung.txt',\n",
       " '../_datasets/NYT-Obituaries/1977-Maria-Callas.txt',\n",
       " '../_datasets/NYT-Obituaries/1952-Eva-Peron.txt',\n",
       " '../_datasets/NYT-Obituaries/1961-Emily-Balch.txt',\n",
       " '../_datasets/NYT-Obituaries/1979-Arthur-Fiedler.txt',\n",
       " '../_datasets/NYT-Obituaries/1896-Harriet-Beecher-Stowe.txt',\n",
       " '../_datasets/NYT-Obituaries/1989-Andrei-Sakharov.txt',\n",
       " '../_datasets/NYT-Obituaries/1939-W-B-Yeats.txt',\n",
       " '../_datasets/NYT-Obituaries/1961-Hammarskjold.txt',\n",
       " '../_datasets/NYT-Obituaries/1969-Madhubala.txt',\n",
       " '../_datasets/NYT-Obituaries/1970-Edouard-Daladier.txt',\n",
       " '../_datasets/NYT-Obituaries/1988-John-Houseman.txt',\n",
       " '../_datasets/NYT-Obituaries/1992-William-Shawn.txt',\n",
       " '../_datasets/NYT-Obituaries/1950-Edna-St-V-Millay.txt',\n",
       " '../_datasets/NYT-Obituaries/1989-Claude-Pepper.txt',\n",
       " '../_datasets/NYT-Obituaries/1929-Marie-Curie.txt',\n",
       " '../_datasets/NYT-Obituaries/1972-The-Duke-of-Windsor.txt',\n",
       " '../_datasets/NYT-Obituaries/1984-Count-Basie.txt',\n",
       " '../_datasets/NYT-Obituaries/1998-Helen-Moody.txt',\n",
       " '../_datasets/NYT-Obituaries/1936-Anne-Macy.txt',\n",
       " '../_datasets/NYT-Obituaries/1900-Nietzsche.txt',\n",
       " '../_datasets/NYT-Obituaries/1880-Lucretia-Mott.txt',\n",
       " '../_datasets/NYT-Obituaries/1967-J-Robert-Oppenheimer.txt',\n",
       " '../_datasets/NYT-Obituaries/1984-Richard-Burton.txt',\n",
       " '../_datasets/NYT-Obituaries/1964-Sean-O-Casey.txt',\n",
       " '../_datasets/NYT-Obituaries/1931-Thomas-Edison.txt',\n",
       " '../_datasets/NYT-Obituaries/1971-Bobby-Jones.txt',\n",
       " '../_datasets/NYT-Obituaries/1914-John-P-Holland.txt',\n",
       " '../_datasets/NYT-Obituaries/1995-George-Abbott.txt',\n",
       " '../_datasets/NYT-Obituaries/1950-Henry-L-Stimson.txt',\n",
       " '../_datasets/NYT-Obituaries/1955-Dale-Carnegie.txt',\n",
       " '../_datasets/NYT-Obituaries/1934-T-A-Watson.txt',\n",
       " '../_datasets/NYT-Obituaries/1968-Martin-Luther-King-Jr.txt',\n",
       " '../_datasets/NYT-Obituaries/1933-Louis-C-Tiffany.txt',\n",
       " '../_datasets/NYT-Obituaries/1909-Geronimo.txt',\n",
       " '../_datasets/NYT-Obituaries/1952-Charles-Spaulding.txt',\n",
       " '../_datasets/NYT-Obituaries/1922-Nellie-Bly.txt',\n",
       " '../_datasets/NYT-Obituaries/1955-Cy-Young.txt',\n",
       " '../_datasets/NYT-Obituaries/1993-Arthur-Ashe.txt',\n",
       " '../_datasets/NYT-Obituaries/1986-Bernard-Malamud.txt',\n",
       " '../_datasets/NYT-Obituaries/1939-Howard-Carter.txt',\n",
       " '../_datasets/NYT-Obituaries/1994-Linus-C-Pauling.txt',\n",
       " '../_datasets/NYT-Obituaries/1967-Langston-Hughes.txt',\n",
       " '../_datasets/NYT-Obituaries/1948-Mohandas-K-Gandhi.txt',\n",
       " '../_datasets/NYT-Obituaries/1931-Melvil-Dewey.txt',\n",
       " '../_datasets/NYT-Obituaries/1969-Everett-Dirksen.txt',\n",
       " '../_datasets/NYT-Obituaries/1968-Helen-Keller.txt',\n",
       " '../_datasets/NYT-Obituaries/1992-Alex-Haley.txt',\n",
       " '../_datasets/NYT-Obituaries/1953-Eugene-O-Neill.txt',\n",
       " '../_datasets/NYT-Obituaries/1981-Anwar-el-Sadat.txt',\n",
       " '../_datasets/NYT-Obituaries/1937-Maurice-Ravel.txt',\n",
       " '../_datasets/NYT-Obituaries/1966-Margaret-Sanger.txt',\n",
       " '../_datasets/NYT-Obituaries/1989-I-F-Stone.txt',\n",
       " '../_datasets/NYT-Obituaries/1943-J-H-Kellogg.txt',\n",
       " '../_datasets/NYT-Obituaries/1985-Roger-Maris.txt',\n",
       " '../_datasets/NYT-Obituaries/1972-Mahalia-Jackson.txt',\n",
       " '../_datasets/NYT-Obituaries/1990-Greta-Garbo.txt',\n",
       " '../_datasets/NYT-Obituaries/1998-Benjamin-Spock.txt',\n",
       " '../_datasets/NYT-Obituaries/1994-Jessica-Tandy.txt',\n",
       " '../_datasets/NYT-Obituaries/1979-Richard-Rodgers.txt',\n",
       " '../_datasets/NYT-Obituaries/1958-W-C-Handy.txt',\n",
       " '../_datasets/NYT-Obituaries/1974-Ed-Sullivan.txt',\n",
       " '../_datasets/NYT-Obituaries/1989-Hirohito.txt',\n",
       " '../_datasets/NYT-Obituaries/1933-Calvin-Coolidge.txt',\n",
       " '../_datasets/NYT-Obituaries/1969-Ho-Chi-Minh.txt',\n",
       " '../_datasets/NYT-Obituaries/1987-John-Huston.txt',\n",
       " '../_datasets/NYT-Obituaries/1984-Johnny-Weissmuller.txt',\n",
       " '../_datasets/NYT-Obituaries/1969-Maureen-Connolly.txt',\n",
       " '../_datasets/NYT-Obituaries/1968-Yuri-Gagarin.txt',\n",
       " '../_datasets/NYT-Obituaries/1991-Peggy-Ashcroft.txt',\n",
       " '../_datasets/NYT-Obituaries/1979-A-Philip-Randolph.txt',\n",
       " '../_datasets/NYT-Obituaries/1946-Gertrude-Stein.txt',\n",
       " '../_datasets/NYT-Obituaries/1993-Thurgood-Marshall.txt',\n",
       " '../_datasets/NYT-Obituaries/1887-Emma-Lazarus.txt',\n",
       " '../_datasets/NYT-Obituaries/1986-James-Cagney.txt',\n",
       " '../_datasets/NYT-Obituaries/1976-Richard-Daley.txt',\n",
       " '../_datasets/NYT-Obituaries/1977-Joan-Crawford.txt',\n",
       " '../_datasets/NYT-Obituaries/1971-Hugo-Black.txt',\n",
       " '../_datasets/NYT-Obituaries/1954-Henri-Matisse.txt',\n",
       " '../_datasets/NYT-Obituaries/1906-Susan-B-Anthony.txt',\n",
       " '../_datasets/NYT-Obituaries/1990-Sammy-Davis-Jr.txt',\n",
       " '../_datasets/NYT-Obituaries/1914-John-Muir.txt',\n",
       " '../_datasets/NYT-Obituaries/1954-Anne-O-Hare-McCormick.txt',\n",
       " '../_datasets/NYT-Obituaries/1986-Kate-Smith.txt',\n",
       " '../_datasets/NYT-Obituaries/1919-Anna-H-Shaw.txt',\n",
       " '../_datasets/NYT-Obituaries/1980-Jean-Piaget.txt',\n",
       " '../_datasets/NYT-Obituaries/1966-Buster-Keaton.txt',\n",
       " '../_datasets/NYT-Obituaries/1997-Allen-Ginsberg.txt',\n",
       " '../_datasets/NYT-Obituaries/1991-Miles-Davis.txt',\n",
       " '../_datasets/NYT-Obituaries/1982-Satchel-Paige.txt',\n",
       " '../_datasets/NYT-Obituaries/1931-Ida-B-Wells.txt',\n",
       " '../_datasets/NYT-Obituaries/1967-Henry-R-Luce.txt',\n",
       " '../_datasets/NYT-Obituaries/1984-Ansel-Adams.txt',\n",
       " '../_datasets/NYT-Obituaries/1945-Ernie-Pyle.txt',\n",
       " '../_datasets/NYT-Obituaries/1952-Chaim-Weizmann.txt',\n",
       " '../_datasets/NYT-Obituaries/1973-Nancy-Mitford.txt',\n",
       " '../_datasets/NYT-Obituaries/1852-Ada-Lovelace.txt',\n",
       " '../_datasets/NYT-Obituaries/1996-Timothy-Leary.txt',\n",
       " '../_datasets/NYT-Obituaries/1919-Carnegie-Started.txt',\n",
       " '../_datasets/NYT-Obituaries/1989-Andrei-A-Gromyko.txt',\n",
       " '../_datasets/NYT-Obituaries/1965-David-O-Selznick.txt',\n",
       " '../_datasets/NYT-Obituaries/1870-Robert-E-Lee.txt',\n",
       " '../_datasets/NYT-Obituaries/1968-Robert-Francis-Kennedy.txt',\n",
       " '../_datasets/NYT-Obituaries/1900-Stephen-Crane.txt',\n",
       " '../_datasets/NYT-Obituaries/1936-John-W-Heisman.txt',\n",
       " '../_datasets/NYT-Obituaries/1998-Maureen-O-Sullivan.txt',\n",
       " '../_datasets/NYT-Obituaries/1953-Joseph-Stalin.txt',\n",
       " '../_datasets/NYT-Obituaries/1944-Alfred-E-Smith.txt',\n",
       " '../_datasets/NYT-Obituaries/1910-Tolstoy.txt',\n",
       " '../_datasets/NYT-Obituaries/1964-Cole-Porter.txt',\n",
       " '../_datasets/NYT-Obituaries/1983-Jack-Dempsey.txt',\n",
       " '../_datasets/NYT-Obituaries/1975-Haile-Selassie.txt',\n",
       " '../_datasets/NYT-Obituaries/1882-Charles-Darwin.txt',\n",
       " '../_datasets/NYT-Obituaries/1903-Emily-Warren-Roebling.txt',\n",
       " '../_datasets/NYT-Obituaries/1962-Eleanor-Roosevelt.txt',\n",
       " '../_datasets/NYT-Obituaries/1926-Harry-Houdini.txt',\n",
       " '../_datasets/NYT-Obituaries/1955-Albert-Einstein.txt',\n",
       " '../_datasets/NYT-Obituaries/1971-Coco-Chanel.txt',\n",
       " '../_datasets/NYT-Obituaries/1959-Billie-Holiday.txt',\n",
       " '../_datasets/NYT-Obituaries/1969-Coleman-Hawkins.txt',\n",
       " '../_datasets/NYT-Obituaries/1954-Frida-Kahlo.txt',\n",
       " '../_datasets/NYT-Obituaries/1911-Joseph-Pulitzer.txt',\n",
       " '../_datasets/NYT-Obituaries/1993-Carlos-Montoya.txt',\n",
       " '../_datasets/NYT-Obituaries/1947-Max-Planck.txt',\n",
       " '../_datasets/NYT-Obituaries/1985-Orson-Welles.txt',\n",
       " '../_datasets/NYT-Obituaries/1974-Earl-Warren.txt',\n",
       " '../_datasets/NYT-Obituaries/1971-Ralph-Bunche.txt',\n",
       " '../_datasets/NYT-Obituaries/1999-Hassan-II.txt',\n",
       " '../_datasets/NYT-Obituaries/1931-Knute-Rocke.txt',\n",
       " '../_datasets/NYT-Obituaries/1998-Theodore-Schultz.txt',\n",
       " '../_datasets/NYT-Obituaries/1960-Boris-Pasternak.txt',\n",
       " '../_datasets/NYT-Obituaries/1927-Victoria-Martin.txt',\n",
       " '../_datasets/NYT-Obituaries/1943-George-Washington-Carver.txt',\n",
       " '../_datasets/NYT-Obituaries/1956-Thomas-J-Watson-Sr.txt',\n",
       " '../_datasets/NYT-Obituaries/1947-Henry-Ford.txt',\n",
       " '../_datasets/NYT-Obituaries/1953-Fred-Vinson.txt',\n",
       " '../_datasets/NYT-Obituaries/1982-Leonid-Brezhnev.txt',\n",
       " '../_datasets/NYT-Obituaries/1999-King-Hussein.txt',\n",
       " '../_datasets/NYT-Obituaries/1930-Elmer-Sperry.txt',\n",
       " '../_datasets/NYT-Obituaries/1985-E-B-White.txt',\n",
       " '../_datasets/NYT-Obituaries/1959-Ethel-Barrymore.txt',\n",
       " '../_datasets/NYT-Obituaries/1986-Benny-Goodman.txt',\n",
       " '../_datasets/NYT-Obituaries/1963-W-E-B-DuBois.txt',\n",
       " '../_datasets/NYT-Obituaries/1975-Elijah-Muhammad.txt',\n",
       " '../_datasets/NYT-Obituaries/1973-Pablo-Picasso.txt',\n",
       " '../_datasets/NYT-Obituaries/1993-Federico-Fellini.txt',\n",
       " '../_datasets/NYT-Obituaries/1945-Harry-S-Truman.txt',\n",
       " '../_datasets/NYT-Obituaries/1970-De-Gaulle-Rallied.txt',\n",
       " '../_datasets/NYT-Obituaries/1995-Alfred-Eisenstaedt.txt',\n",
       " '../_datasets/NYT-Obituaries/1999-Iris-Murdoch.txt',\n",
       " '../_datasets/NYT-Obituaries/1987-Alf-Landon.txt',\n",
       " '../_datasets/NYT-Obituaries/1998-Bella-Abzug.txt',\n",
       " '../_datasets/NYT-Obituaries/1940-Scott-Fitzgerald.txt',\n",
       " '../_datasets/NYT-Obituaries/1989-Vladimir-Horowitz.txt',\n",
       " '../_datasets/NYT-Obituaries/1969-Mies-van-der-Rohe.txt',\n",
       " '../_datasets/NYT-Obituaries/1944-Ida-M-Tarbell.txt',\n",
       " '../_datasets/NYT-Obituaries/1948-John-Pershing.txt',\n",
       " '../_datasets/NYT-Obituaries/1938-Clarence-Darrow.txt',\n",
       " '../_datasets/NYT-Obituaries/1987-Primo-Levi.txt',\n",
       " '../_datasets/NYT-Obituaries/1971-Igor-Stravinsky.txt',\n",
       " '../_datasets/NYT-Obituaries/1945-George-Patton.txt',\n",
       " '../_datasets/NYT-Obituaries/1930-William-Howard-Taft.txt',\n",
       " '../_datasets/NYT-Obituaries/1935-Will-Rogers.txt',\n",
       " '../_datasets/NYT-Obituaries/1992-Shirley-Booth.txt',\n",
       " '../_datasets/NYT-Obituaries/1994-Jacqueline-Kennedy.txt',\n",
       " '../_datasets/NYT-Obituaries/1933-Ring-Lardner.txt',\n",
       " '../_datasets/NYT-Obituaries/1974-Sylvia-Plath.txt',\n",
       " '../_datasets/NYT-Obituaries/1945-FDR.txt',\n",
       " '../_datasets/NYT-Obituaries/1995-Yitzhak-Rabin.txt',\n",
       " '../_datasets/NYT-Obituaries/1960-Emily-Post.txt',\n",
       " '../_datasets/NYT-Obituaries/1984-Truman-Capote.txt',\n",
       " '../_datasets/NYT-Obituaries/1968-Upton-Sinclair.txt',\n",
       " '../_datasets/NYT-Obituaries/1994-Jan-Tinbergen.txt',\n",
       " '../_datasets/NYT-Obituaries/1957-Gerard-Swope.txt',\n",
       " '../_datasets/NYT-Obituaries/1993-Albert-Sabin.txt',\n",
       " '../_datasets/NYT-Obituaries/1955-Thomas-Mann.txt',\n",
       " '../_datasets/NYT-Obituaries/1991-Dr-Seuss.txt',\n",
       " '../_datasets/NYT-Obituaries/1877-Bedford-Forrest.txt',\n",
       " '../_datasets/NYT-Obituaries/1964-Douglas-MacArthur.txt',\n",
       " '../_datasets/NYT-Obituaries/1965-Churchill.txt',\n",
       " '../_datasets/NYT-Obituaries/1962-William-Faulkner.txt',\n",
       " '../_datasets/NYT-Obituaries/1956-Babe-Zaharias.txt',\n",
       " '../_datasets/NYT-Obituaries/1932-John-Philip-Sousa.txt',\n",
       " '../_datasets/NYT-Obituaries/1964-Herbert-Hoover.txt',\n",
       " '../_datasets/NYT-Obituaries/1961-Sam-Rayburn.txt',\n",
       " '../_datasets/NYT-Obituaries/1954-Lionel-Barrymore.txt',\n",
       " '../_datasets/NYT-Obituaries/1998-Frank-Sinatra.txt',\n",
       " '../_datasets/NYT-Obituaries/1948-Babe-Ruth.txt',\n",
       " '../_datasets/NYT-Obituaries/1947-Willa-Cather.txt',\n",
       " '../_datasets/NYT-Obituaries/1963-John-F-Kennedy.txt',\n",
       " '../_datasets/NYT-Obituaries/1975-Walker-Evans.txt',\n",
       " '../_datasets/NYT-Obituaries/1916-J-J-Hill.txt',\n",
       " '../_datasets/NYT-Obituaries/1980-Jesse-Owens.txt',\n",
       " '../_datasets/NYT-Obituaries/1948-Sergei-Eisenstein.txt',\n",
       " '../_datasets/NYT-Obituaries/1981-Robert-Moses.txt',\n",
       " '../_datasets/NYT-Obituaries/1989-Robert-Penn-Warren.txt',\n",
       " '../_datasets/NYT-Obituaries/1901-William-McKinley.txt',\n",
       " '../_datasets/NYT-Obituaries/1970-Walter-Reuther.txt',\n",
       " '../_datasets/NYT-Obituaries/1930-Balfour.txt',\n",
       " '../_datasets/NYT-Obituaries/1984-Indira-Gandhi.txt',\n",
       " '../_datasets/NYT-Obituaries/1978-Golda-Meir.txt',\n",
       " '../_datasets/NYT-Obituaries/1983-Earl-Hines.txt',\n",
       " '../_datasets/NYT-Obituaries/1974-Katharine-Cornell.txt',\n",
       " '../_datasets/NYT-Obituaries/1982-Lee-Strasberg.txt',\n",
       " '../_datasets/NYT-Obituaries/1939-Pope-Pius-XI.txt',\n",
       " '../_datasets/NYT-Obituaries/1886-Mary-Ewing-Outerbridge.txt',\n",
       " '../_datasets/NYT-Obituaries/1993-Dizzy-Gillespie.txt',\n",
       " '../_datasets/NYT-Obituaries/1910-Florence-Nightingale.txt',\n",
       " '../_datasets/NYT-Obituaries/1960-Richard-Wright.txt',\n",
       " '../_datasets/NYT-Obituaries/1986-The-Challenger.txt',\n",
       " '../_datasets/NYT-Obituaries/1992-Menachem-Begin.txt',\n",
       " '../_datasets/NYT-Obituaries/1998-Galina-Ulanova.txt',\n",
       " '../_datasets/NYT-Obituaries/1976-Max-Ernst.txt',\n",
       " '../_datasets/NYT-Obituaries/1993-Cesar-Chavez.txt',\n",
       " '../_datasets/NYT-Obituaries/1965-Adlai-Ewing-Stevenson.txt',\n",
       " '../_datasets/NYT-Obituaries/1935-Adolph-S-Ochs.txt',\n",
       " '../_datasets/NYT-Obituaries/1941-Lou-Gehrig.txt',\n",
       " '../_datasets/NYT-Obituaries/1961-Carl-G-Jung.txt',\n",
       " '../_datasets/NYT-Obituaries/1963-Robert-Frost.txt',\n",
       " '../_datasets/NYT-Obituaries/1965-Edward-R-Murrow.txt',\n",
       " '../_datasets/NYT-Obituaries/1971-Dean-Acheson.txt',\n",
       " '../_datasets/NYT-Obituaries/1986-Jorge-Luis-Borges.txt',\n",
       " '../_datasets/NYT-Obituaries/1966-Walt-Disney.txt',\n",
       " '../_datasets/NYT-Obituaries/1996-Carl-Sagan.txt',\n",
       " '../_datasets/NYT-Obituaries/1959-Ross-G-Harrison.txt',\n",
       " '../_datasets/NYT-Obituaries/1945-Jerome-Kern.txt',\n",
       " '../_datasets/NYT-Obituaries/1991-Frank-Capra.txt',\n",
       " '../_datasets/NYT-Obituaries/1987-Andres-Segovie.txt',\n",
       " '../_datasets/NYT-Obituaries/1987-Rita-Hayworth.txt',\n",
       " '../_datasets/NYT-Obituaries/1993-William-Golding.txt',\n",
       " '../_datasets/NYT-Obituaries/1932-Florenz-Ziegfeld.txt',\n",
       " '../_datasets/NYT-Obituaries/1938-Constantin-Stanislavsky.txt']"
      ]
     },
     "execution_count": 6,
     "metadata": {},
     "output_type": "execute_result"
    }
   ],
   "source": [
    "files"
   ]
  },
  {
   "cell_type": "markdown",
   "metadata": {},
   "source": [
    "## Process our text files\n",
    "Next we're going to use the wrapper \"little_mallet_wrapper\" to process our text files and create two variables, \"training_data\" and \"original_texts\". We'll be using these variables to tell MALLET what to use as training data, and a copy of our original texts that we can refer back to."
   ]
  },
  {
   "cell_type": "markdown",
   "metadata": {},
   "source": [
    "The code we'll use to run this is: `little_mallet_wrapper.process_string(text, numbers='remove')`\n",
    "\n",
    " First, we're going to create an empty string, and then iterate over all the files in our `files` variable, processing each of them with the function `little_mallet_wrapper.process_string(text, numbers='remove')`, which takes all our text, makes the text lowercase, removes stopwords\n",
    "\n",
    "> For the list of stopwords that mallet removes, and to change them, look inside the directory \"mallet-2.0.8/stoplists\"  \n",
    "> What implications might that have for our model?"
   ]
  },
  {
   "cell_type": "code",
   "execution_count": 7,
   "metadata": {},
   "outputs": [],
   "source": [
    "training_data = []\n",
    "for file in files:\n",
    "    text = open(file, encoding='utf-8').read()\n",
    "    processed_text = little_mallet_wrapper.process_string(text, numbers='remove')\n",
    "    training_data.append(processed_text)"
   ]
  },
  {
   "cell_type": "code",
   "execution_count": 8,
   "metadata": {},
   "outputs": [],
   "source": [
    "original_texts = []\n",
    "for file in files:\n",
    "    text = open(file, encoding='utf-8').read()\n",
    "    original_texts.append(text)"
   ]
  },
  {
   "cell_type": "markdown",
   "metadata": {},
   "source": [
    "## Process the titles of obituaries\n",
    "Since our text files all contain the year and name of the individual in them, we're going to use the filename as part of the way we label the text of that obituary."
   ]
  },
  {
   "cell_type": "code",
   "execution_count": 9,
   "metadata": {},
   "outputs": [],
   "source": [
    "obit_titles = [Path(file).stem for file in files]\n",
    "# The Path().stem function extract the filename without the .txt extension"
   ]
  },
  {
   "cell_type": "code",
   "execution_count": 10,
   "metadata": {},
   "outputs": [
    {
     "data": {
      "text/plain": [
       "['1945-Adolf-Hitler',\n",
       " '1915-F-W-Taylor',\n",
       " '1975-Chiang-Kai-shek',\n",
       " '1984-Ethel-Merman',\n",
       " '1953-Jim-Thorpe',\n",
       " '1964-Nella-Larsen',\n",
       " '1955-Margaret-Abbott',\n",
       " '1984-Lillian-Hellman',\n",
       " '1959-Cecil-De-Mille',\n",
       " '1928-Mabel-Craty',\n",
       " '1973-Eddie-Rickenbacker',\n",
       " '1989-Ferdinand-Marcos',\n",
       " '1991-Martha-Graham',\n",
       " '1997-Deng-Xiaoping',\n",
       " '1938-George-E-Hale',\n",
       " '1885-Ulysses-Grant',\n",
       " '1909-Sarah-Orne-Jewett',\n",
       " '1957-Christian-Dior',\n",
       " '1987-Clare-Boothe-Luce',\n",
       " '1976-Jacques-Monod',\n",
       " '1954-Getulio-Vargas',\n",
       " '1979-Stan-Kenton',\n",
       " '1990-Leonard-Bernstein',\n",
       " '1972-Jackie-Robinson',\n",
       " '1998-Fred-W-Friendly',\n",
       " '1991-Leo-Durocher',\n",
       " '1915-B-T-Washington',\n",
       " '1997-James-Stewart',\n",
       " '1981-Joe-Louis',\n",
       " '1983-Muddy-Waters',\n",
       " '1942-George-M-Cohan',\n",
       " '1989-Samuel-Beckett',\n",
       " '1962-Marilyn-Monroe',\n",
       " '2000-Charles-M-Schulz',\n",
       " '1967-Gregory-Pincus',\n",
       " '1894-R-L-Stevenson',\n",
       " '1978-Bruce-Catton',\n",
       " '1982-Arthur-Rubinstein',\n",
       " '1875-Andrew-Johnson',\n",
       " '1974-Charles-Lindbergh',\n",
       " '1964-Rachel-Carson',\n",
       " '1953-Marjorie-Rawlings',\n",
       " '1973-Otto-Klemperer',\n",
       " '1963-Sylvia-Plath',\n",
       " '1956-Charles-Merrill',\n",
       " '1966-Lenny-Bruce',\n",
       " '1908-Cleveland',\n",
       " '1982-Anna-Freud',\n",
       " '1941-Frank-Conrad',\n",
       " '1966-Alfred-P-Sloan-Jr',\n",
       " '1960-Beno-Gutenberg',\n",
       " '1976-J-Paul-Getty',\n",
       " '1891-P-T-Barnum',\n",
       " '1901-Queen-Victoria',\n",
       " '1970-Erich-Maria-Remarque',\n",
       " '1989-August-A-Busch-Jr',\n",
       " '1992-John-Cage',\n",
       " '1994-Erik-Erikson',\n",
       " '1990-Erte',\n",
       " '1966-Chester-Nimitz',\n",
       " '1954-Enrico-Fermi',\n",
       " '1961-Primitive-Artist',\n",
       " '1945-Bela-Bartok',\n",
       " '1978-Pope-Paul-VI',\n",
       " '1965-Martin-Buber',\n",
       " '1971-Diane-Arbus',\n",
       " '1973-Lyndon-Johnson',\n",
       " '1998-Bob-Kane',\n",
       " '1969-Judy-Garland',\n",
       " '1959-Frank-Lloyd-Wright',\n",
       " '1995-Ginger-Rogers',\n",
       " '1920-Marlene-Dietrich',\n",
       " '1998-Alan-B-Shepard-Jr',\n",
       " '1971-Khrushchev',\n",
       " '1935-Justice-Holmes',\n",
       " '1969-David-Eisenhower',\n",
       " '1992-Marsha-P-Johnson',\n",
       " '1914-Alfred-Thayer-Mahan',\n",
       " '1965-Branch-Rickey',\n",
       " '2007-Karen-Sparck-Jones',\n",
       " '1965-Albert-Schweitzer',\n",
       " '1992-Isaac-Asimov',\n",
       " '1989-William-B-Shockley',\n",
       " '1910-William-James',\n",
       " '1951-Fanny-Brice',\n",
       " '1916-Jack-London',\n",
       " '1947-Al-Capone',\n",
       " '1989-Lucille-Ball',\n",
       " '1980-Jean-Paul-Sartre',\n",
       " '1969-Sonja-Henie',\n",
       " '1976-Adolph-Zukor',\n",
       " '1959-John-Dulles',\n",
       " '1980-Alfred-Hitchcock',\n",
       " '1901-Benjamin-Harrison',\n",
       " '1994-Richard-Nixon',\n",
       " '1917-Hilaire-G-E-Degas',\n",
       " '1987-James-Baldwin',\n",
       " '1941-Virginia-Woolf',\n",
       " '1922-Alexander-Graham-Bell',\n",
       " '1907-Qiu-Jin',\n",
       " '1895-Fred-Douglass',\n",
       " '1971-Florence-Blanchfield',\n",
       " '1984-Ray-A-Kroc',\n",
       " '1947-Fiorello-La-Guardia',\n",
       " '1988-Louis-L-Amour',\n",
       " '1902-Elizabeth-Cady-Stanton',\n",
       " '1965-Shirley-Jackson',\n",
       " '1979-John-Wayne',\n",
       " '1994-Thomas-P-O-Neill-Jr',\n",
       " '1982-Thelonious-Monk',\n",
       " '1919-C-J-Walker',\n",
       " '1954-Liberty-H-Bailey',\n",
       " '1977-Dash-Ended',\n",
       " '1936-Maxim-Gorky',\n",
       " '2000-Pierre-Trudeau',\n",
       " '1976-Mao-Tse-Tung',\n",
       " '1955-Walter-White',\n",
       " '1930-Conan-Doyle',\n",
       " '1995-Jonas-Salk',\n",
       " '1949-Mitchell',\n",
       " '1951-Henrietta-Lacks',\n",
       " '1903-James-M-N-Whistler',\n",
       " '1950-A-J-Dempster',\n",
       " '1937-Edith-Wharton',\n",
       " '1935-Jane-Addams',\n",
       " '1941-James-Joyce',\n",
       " '1952-John-Dewey',\n",
       " '1940-Marcus-Garvey',\n",
       " '1971-Louis-Armstrong',\n",
       " '1923-Warren-Harding',\n",
       " '1937-John-Rockefeller',\n",
       " '2000-Elliot-Richardson',\n",
       " '1972-J-Edgar-Hoover',\n",
       " '1975-Franco',\n",
       " '1973-Jeanette-Rankin',\n",
       " '1888-Louisa-M-Alcott',\n",
       " '1977-Charles-Chaplin',\n",
       " '1990-Ralph-David-Abernathy',\n",
       " '1946-Lord-Keynes',\n",
       " '1996-Gene-Kelly',\n",
       " '1973-Roberto-Clemente',\n",
       " '1986-Georgia-O-Keeffe',\n",
       " '1990-Rex-Harrison',\n",
       " '1916-Martian-Theory',\n",
       " '1961-Ernest-Hemingway',\n",
       " '1978-Margaret-Mead',\n",
       " '1982-Ingrid-Bergman',\n",
       " '1946-C-E-M-Clung',\n",
       " '1977-Maria-Callas',\n",
       " '1952-Eva-Peron',\n",
       " '1961-Emily-Balch',\n",
       " '1979-Arthur-Fiedler',\n",
       " '1896-Harriet-Beecher-Stowe',\n",
       " '1989-Andrei-Sakharov',\n",
       " '1939-W-B-Yeats',\n",
       " '1961-Hammarskjold',\n",
       " '1969-Madhubala',\n",
       " '1970-Edouard-Daladier',\n",
       " '1988-John-Houseman',\n",
       " '1992-William-Shawn',\n",
       " '1950-Edna-St-V-Millay',\n",
       " '1989-Claude-Pepper',\n",
       " '1929-Marie-Curie',\n",
       " '1972-The-Duke-of-Windsor',\n",
       " '1984-Count-Basie',\n",
       " '1998-Helen-Moody',\n",
       " '1936-Anne-Macy',\n",
       " '1900-Nietzsche',\n",
       " '1880-Lucretia-Mott',\n",
       " '1967-J-Robert-Oppenheimer',\n",
       " '1984-Richard-Burton',\n",
       " '1964-Sean-O-Casey',\n",
       " '1931-Thomas-Edison',\n",
       " '1971-Bobby-Jones',\n",
       " '1914-John-P-Holland',\n",
       " '1995-George-Abbott',\n",
       " '1950-Henry-L-Stimson',\n",
       " '1955-Dale-Carnegie',\n",
       " '1934-T-A-Watson',\n",
       " '1968-Martin-Luther-King-Jr',\n",
       " '1933-Louis-C-Tiffany',\n",
       " '1909-Geronimo',\n",
       " '1952-Charles-Spaulding',\n",
       " '1922-Nellie-Bly',\n",
       " '1955-Cy-Young',\n",
       " '1993-Arthur-Ashe',\n",
       " '1986-Bernard-Malamud',\n",
       " '1939-Howard-Carter',\n",
       " '1994-Linus-C-Pauling',\n",
       " '1967-Langston-Hughes',\n",
       " '1948-Mohandas-K-Gandhi',\n",
       " '1931-Melvil-Dewey',\n",
       " '1969-Everett-Dirksen',\n",
       " '1968-Helen-Keller',\n",
       " '1992-Alex-Haley',\n",
       " '1953-Eugene-O-Neill',\n",
       " '1981-Anwar-el-Sadat',\n",
       " '1937-Maurice-Ravel',\n",
       " '1966-Margaret-Sanger',\n",
       " '1989-I-F-Stone',\n",
       " '1943-J-H-Kellogg',\n",
       " '1985-Roger-Maris',\n",
       " '1972-Mahalia-Jackson',\n",
       " '1990-Greta-Garbo',\n",
       " '1998-Benjamin-Spock',\n",
       " '1994-Jessica-Tandy',\n",
       " '1979-Richard-Rodgers',\n",
       " '1958-W-C-Handy',\n",
       " '1974-Ed-Sullivan',\n",
       " '1989-Hirohito',\n",
       " '1933-Calvin-Coolidge',\n",
       " '1969-Ho-Chi-Minh',\n",
       " '1987-John-Huston',\n",
       " '1984-Johnny-Weissmuller',\n",
       " '1969-Maureen-Connolly',\n",
       " '1968-Yuri-Gagarin',\n",
       " '1991-Peggy-Ashcroft',\n",
       " '1979-A-Philip-Randolph',\n",
       " '1946-Gertrude-Stein',\n",
       " '1993-Thurgood-Marshall',\n",
       " '1887-Emma-Lazarus',\n",
       " '1986-James-Cagney',\n",
       " '1976-Richard-Daley',\n",
       " '1977-Joan-Crawford',\n",
       " '1971-Hugo-Black',\n",
       " '1954-Henri-Matisse',\n",
       " '1906-Susan-B-Anthony',\n",
       " '1990-Sammy-Davis-Jr',\n",
       " '1914-John-Muir',\n",
       " '1954-Anne-O-Hare-McCormick',\n",
       " '1986-Kate-Smith',\n",
       " '1919-Anna-H-Shaw',\n",
       " '1980-Jean-Piaget',\n",
       " '1966-Buster-Keaton',\n",
       " '1997-Allen-Ginsberg',\n",
       " '1991-Miles-Davis',\n",
       " '1982-Satchel-Paige',\n",
       " '1931-Ida-B-Wells',\n",
       " '1967-Henry-R-Luce',\n",
       " '1984-Ansel-Adams',\n",
       " '1945-Ernie-Pyle',\n",
       " '1952-Chaim-Weizmann',\n",
       " '1973-Nancy-Mitford',\n",
       " '1852-Ada-Lovelace',\n",
       " '1996-Timothy-Leary',\n",
       " '1919-Carnegie-Started',\n",
       " '1989-Andrei-A-Gromyko',\n",
       " '1965-David-O-Selznick',\n",
       " '1870-Robert-E-Lee',\n",
       " '1968-Robert-Francis-Kennedy',\n",
       " '1900-Stephen-Crane',\n",
       " '1936-John-W-Heisman',\n",
       " '1998-Maureen-O-Sullivan',\n",
       " '1953-Joseph-Stalin',\n",
       " '1944-Alfred-E-Smith',\n",
       " '1910-Tolstoy',\n",
       " '1964-Cole-Porter',\n",
       " '1983-Jack-Dempsey',\n",
       " '1975-Haile-Selassie',\n",
       " '1882-Charles-Darwin',\n",
       " '1903-Emily-Warren-Roebling',\n",
       " '1962-Eleanor-Roosevelt',\n",
       " '1926-Harry-Houdini',\n",
       " '1955-Albert-Einstein',\n",
       " '1971-Coco-Chanel',\n",
       " '1959-Billie-Holiday',\n",
       " '1969-Coleman-Hawkins',\n",
       " '1954-Frida-Kahlo',\n",
       " '1911-Joseph-Pulitzer',\n",
       " '1993-Carlos-Montoya',\n",
       " '1947-Max-Planck',\n",
       " '1985-Orson-Welles',\n",
       " '1974-Earl-Warren',\n",
       " '1971-Ralph-Bunche',\n",
       " '1999-Hassan-II',\n",
       " '1931-Knute-Rocke',\n",
       " '1998-Theodore-Schultz',\n",
       " '1960-Boris-Pasternak',\n",
       " '1927-Victoria-Martin',\n",
       " '1943-George-Washington-Carver',\n",
       " '1956-Thomas-J-Watson-Sr',\n",
       " '1947-Henry-Ford',\n",
       " '1953-Fred-Vinson',\n",
       " '1982-Leonid-Brezhnev',\n",
       " '1999-King-Hussein',\n",
       " '1930-Elmer-Sperry',\n",
       " '1985-E-B-White',\n",
       " '1959-Ethel-Barrymore',\n",
       " '1986-Benny-Goodman',\n",
       " '1963-W-E-B-DuBois',\n",
       " '1975-Elijah-Muhammad',\n",
       " '1973-Pablo-Picasso',\n",
       " '1993-Federico-Fellini',\n",
       " '1945-Harry-S-Truman',\n",
       " '1970-De-Gaulle-Rallied',\n",
       " '1995-Alfred-Eisenstaedt',\n",
       " '1999-Iris-Murdoch',\n",
       " '1987-Alf-Landon',\n",
       " '1998-Bella-Abzug',\n",
       " '1940-Scott-Fitzgerald',\n",
       " '1989-Vladimir-Horowitz',\n",
       " '1969-Mies-van-der-Rohe',\n",
       " '1944-Ida-M-Tarbell',\n",
       " '1948-John-Pershing',\n",
       " '1938-Clarence-Darrow',\n",
       " '1987-Primo-Levi',\n",
       " '1971-Igor-Stravinsky',\n",
       " '1945-George-Patton',\n",
       " '1930-William-Howard-Taft',\n",
       " '1935-Will-Rogers',\n",
       " '1992-Shirley-Booth',\n",
       " '1994-Jacqueline-Kennedy',\n",
       " '1933-Ring-Lardner',\n",
       " '1974-Sylvia-Plath',\n",
       " '1945-FDR',\n",
       " '1995-Yitzhak-Rabin',\n",
       " '1960-Emily-Post',\n",
       " '1984-Truman-Capote',\n",
       " '1968-Upton-Sinclair',\n",
       " '1994-Jan-Tinbergen',\n",
       " '1957-Gerard-Swope',\n",
       " '1993-Albert-Sabin',\n",
       " '1955-Thomas-Mann',\n",
       " '1991-Dr-Seuss',\n",
       " '1877-Bedford-Forrest',\n",
       " '1964-Douglas-MacArthur',\n",
       " '1965-Churchill',\n",
       " '1962-William-Faulkner',\n",
       " '1956-Babe-Zaharias',\n",
       " '1932-John-Philip-Sousa',\n",
       " '1964-Herbert-Hoover',\n",
       " '1961-Sam-Rayburn',\n",
       " '1954-Lionel-Barrymore',\n",
       " '1998-Frank-Sinatra',\n",
       " '1948-Babe-Ruth',\n",
       " '1947-Willa-Cather',\n",
       " '1963-John-F-Kennedy',\n",
       " '1975-Walker-Evans',\n",
       " '1916-J-J-Hill',\n",
       " '1980-Jesse-Owens',\n",
       " '1948-Sergei-Eisenstein',\n",
       " '1981-Robert-Moses',\n",
       " '1989-Robert-Penn-Warren',\n",
       " '1901-William-McKinley',\n",
       " '1970-Walter-Reuther',\n",
       " '1930-Balfour',\n",
       " '1984-Indira-Gandhi',\n",
       " '1978-Golda-Meir',\n",
       " '1983-Earl-Hines',\n",
       " '1974-Katharine-Cornell',\n",
       " '1982-Lee-Strasberg',\n",
       " '1939-Pope-Pius-XI',\n",
       " '1886-Mary-Ewing-Outerbridge',\n",
       " '1993-Dizzy-Gillespie',\n",
       " '1910-Florence-Nightingale',\n",
       " '1960-Richard-Wright',\n",
       " '1986-The-Challenger',\n",
       " '1992-Menachem-Begin',\n",
       " '1998-Galina-Ulanova',\n",
       " '1976-Max-Ernst',\n",
       " '1993-Cesar-Chavez',\n",
       " '1965-Adlai-Ewing-Stevenson',\n",
       " '1935-Adolph-S-Ochs',\n",
       " '1941-Lou-Gehrig',\n",
       " '1961-Carl-G-Jung',\n",
       " '1963-Robert-Frost',\n",
       " '1965-Edward-R-Murrow',\n",
       " '1971-Dean-Acheson',\n",
       " '1986-Jorge-Luis-Borges',\n",
       " '1966-Walt-Disney',\n",
       " '1996-Carl-Sagan',\n",
       " '1959-Ross-G-Harrison',\n",
       " '1945-Jerome-Kern',\n",
       " '1991-Frank-Capra',\n",
       " '1987-Andres-Segovie',\n",
       " '1987-Rita-Hayworth',\n",
       " '1993-William-Golding',\n",
       " '1932-Florenz-Ziegfeld',\n",
       " '1938-Constantin-Stanislavsky']"
      ]
     },
     "execution_count": 10,
     "metadata": {},
     "output_type": "execute_result"
    }
   ],
   "source": [
    "obit_titles"
   ]
  },
  {
   "cell_type": "markdown",
   "metadata": {},
   "source": [
    "## Get Statistics on our Training Dataset\n",
    "The `little_mallet_wrapper.print_dataset_stats()` function gives us some basic statistics on the dataset we want to use as our training data."
   ]
  },
  {
   "cell_type": "code",
   "execution_count": 11,
   "metadata": {},
   "outputs": [
    {
     "name": "stdout",
     "output_type": "stream",
     "text": [
      "Number of Documents: 379\n",
      "Mean Number of Words per Document: 1314.6\n",
      "Vocabulary Size: 35983\n"
     ]
    }
   ],
   "source": [
    "little_mallet_wrapper.print_dataset_stats(training_data)"
   ]
  },
  {
   "cell_type": "markdown",
   "metadata": {},
   "source": [
    "## Training the Topic Model\n",
    "Now for the big part!  We're going to use the variables we defined.\n",
    "Before we can do that, we need to define some variables. We need to tell our model:\n",
    "\n",
    "- How many topics to find\n",
    "- What our training data is\n",
    "- The location of a directory to output our topic modeling data (including sub-directories\n",
    "\n",
    "And we need to import all this information into Little MALLET Wrapper\n",
    "\n"
   ]
  },
  {
   "cell_type": "markdown",
   "metadata": {},
   "source": [
    "### Set the Number of Topics"
   ]
  },
  {
   "cell_type": "code",
   "execution_count": 12,
   "metadata": {},
   "outputs": [],
   "source": [
    "num_topics = 15 # Change this number to change the number of topics"
   ]
  },
  {
   "cell_type": "markdown",
   "metadata": {},
   "source": [
    "### Set the Training Data"
   ]
  },
  {
   "cell_type": "code",
   "execution_count": 13,
   "metadata": {},
   "outputs": [],
   "source": [
    "training_data = training_data"
   ]
  },
  {
   "cell_type": "markdown",
   "metadata": {},
   "source": [
    "### Set the Location of the Topic Model Output Files\n",
    "\n",
    "Topic modeling produces a lot of output files, including the words in topics, and statistics on their relative distributions within the documents. We need to tell Little MALLET Wrapper where to output all of these results. The code below defines a directory called “topic-model-output” and a subdirectory called “NYT-Obits”, all of which will be inside your current directory. \n",
    "\n",
    "Notice how we're able to us re-use the path we defined, \"output_directory_path\" to tell Little MALLET Wrapper where to upt each of the 5 output files."
   ]
  },
  {
   "cell_type": "code",
   "execution_count": 14,
   "metadata": {},
   "outputs": [],
   "source": [
    "#Change to your desired output directory\n",
    "output_directory_path = 'topic-model-output/NYT-Obits'\n",
    "\n",
    "#No need to change anything below here\n",
    "Path(f\"{output_directory_path}\").mkdir(parents=True, exist_ok=True)\n",
    "\n",
    "path_to_training_data           = output_directory_path + '/training.txt'\n",
    "path_to_formatted_training_data = output_directory_path + '/mallet.training'\n",
    "path_to_model                   = output_directory_path + '/mallet.model.' + str(num_topics)\n",
    "path_to_topic_keys              = output_directory_path + '/mallet.topic_keys.' + str(num_topics)\n",
    "path_to_topic_distributions     = output_directory_path + '/mallet.topic_distributions.' + str(num_topics)\n",
    "path_to_word_weights            = output_directory_path + '/mallet.word_weights.' + str(num_topics)\n",
    "path_to_diagnostics             = output_directory_path + '/mallet.diagnostics.' + str(num_topics) + '.xml'\n",
    "\n"
   ]
  },
  {
   "cell_type": "markdown",
   "metadata": {},
   "source": [
    "### Import our Data into Little MALLET Wrapper\n",
    "Here we're importing the variables we just defined into Little MALLET Wrapper"
   ]
  },
  {
   "cell_type": "code",
   "execution_count": 15,
   "metadata": {},
   "outputs": [
    {
     "name": "stdout",
     "output_type": "stream",
     "text": [
      "Importing data...\n",
      "Complete\n"
     ]
    }
   ],
   "source": [
    "little_mallet_wrapper.import_data(path_to_mallet,\n",
    "                path_to_training_data,\n",
    "                path_to_formatted_training_data,\n",
    "                training_data)"
   ]
  },
  {
   "cell_type": "markdown",
   "metadata": {},
   "source": [
    "### Train the Topic Model\n",
    "\n",
    "The final and most important step: we're going to use `little_mallet_wrapper.train_topic_model()` to train our model (using all of the parameters that we just defined. The topic model should take about 45 seconds to 1 minute to fully train and complete. \n",
    "\n",
    "If you're running this notebook locally (not in the cloud), you can look at your Terminal or PowerShell while it’s running and see what the model looks like as it trains."
   ]
  },
  {
   "cell_type": "code",
   "execution_count": 16,
   "metadata": {},
   "outputs": [
    {
     "name": "stdout",
     "output_type": "stream",
     "text": [
      "Training topic model...\n",
      "Complete\n"
     ]
    }
   ],
   "source": [
    "little_mallet_wrapper.train_topic_model(path_to_mallet,\n",
    "                      path_to_formatted_training_data,\n",
    "                      path_to_model,\n",
    "                      path_to_topic_keys,\n",
    "                      path_to_topic_distributions,\n",
    "                      path_to_word_weights,\n",
    "                      path_to_diagnostics,\n",
    "                      num_topics)"
   ]
  },
  {
   "cell_type": "markdown",
   "metadata": {},
   "source": [
    "## Display Topics and Top Words\n",
    "To examine the 15 topics that the topic model extracted from the NYT obituaries, run the cell below. This code uses the `little_mallet_wrapper.load_topic_keys()` function to read and process the MALLET topic model output from your computer, specifically the file “mallet.topic_keys.15”.\n",
    "\n",
    "Take a look at the topics below. Think about what each topic seems to capture. \n",
    "\n",
    "- Are there any that seem to have a clear theme? \n",
    "- What about any oddities or outliers?"
   ]
  },
  {
   "cell_type": "code",
   "execution_count": 17,
   "metadata": {},
   "outputs": [
    {
     "name": "stdout",
     "output_type": "stream",
     "text": [
      "✨Topic 0✨\n",
      "\n",
      "['company', 'business', 'times', 'new', 'york', 'paper', 'ochs', 'ford', 'oil', 'rockefeller', 'pulitzer', 'newspaper', 'building', 'carnegie', 'hill', 'getty', 'barnum', 'chattanooga', 'sloan', 'editorial']\n",
      "\n",
      "✨Topic 1✨\n",
      "\n",
      "['music', 'band', 'jazz', 'musical', 'piano', 'sinatra', 'composer', 'goodman', 'orchestra', 'concert', 'stravinsky', 'bernstein', 'armstrong', 'musicians', 'playing', 'songs', 'played', 'davis', 'hall', 'dance']\n",
      "\n",
      "✨Topic 2✨\n",
      "\n",
      "['would', 'one', 'time', 'could', 'life', 'never', 'said', 'great', 'man', 'people', 'made', 'much', 'even', 'way', 'part', 'however', 'first', 'came', 'make', 'many']\n",
      "\n",
      "✨Topic 3✨\n",
      "\n",
      "['miss', 'mrs', 'women', 'woman', 'husband', 'luce', 'york', 'sullivan', 'murrow', 'kennedy', 'keller', 'bell', 'graham', 'news', 'said', 'television', 'social', 'douglass', 'smith', 'suffrage']\n",
      "\n",
      "✨Topic 4✨\n",
      "\n",
      "['university', 'professor', 'science', 'research', 'scientific', 'child', 'oppenheimer', 'institute', 'atomic', 'children', 'schulz', 'work', 'theory', 'human', 'vaccine', 'spock', 'also', 'freud', 'society', 'scientist']\n",
      "\n",
      "✨Topic 5✨\n",
      "\n",
      "['war', 'hitler', 'israel', 'minister', 'german', 'peace', 'germany', 'france', 'french', 'british', 'united', 'nations', 'king', 'prime', 'states', 'churchill', 'arab', 'president', 'government', 'britain']\n",
      "\n",
      "✨Topic 6✨\n",
      "\n",
      "['years', 'new', 'first', 'one', 'world', 'later', 'year', 'said', 'two', 'american', 'became', 'last', 'old', 'home', 'died', 'time', 'made', 'many', 'york', 'born']\n",
      "\n",
      "✨Topic 7✨\n",
      "\n",
      "['queen', 'prince', 'england', 'lord', 'lindbergh', 'victoria', 'king', 'emperor', 'sir', 'london', 'english', 'schweitzer', 'duke', 'space', 'flight', 'royal', 'british', 'made', 'church', 'balfour']\n",
      "\n",
      "✨Topic 8✨\n",
      "\n",
      "['soviet', 'mao', 'china', 'party', 'communist', 'stalin', 'chinese', 'deng', 'moscow', 'chiang', 'khrushchev', 'union', 'united', 'communists', 'revolution', 'military', 'foreign', 'dulles', 'brezhnev', 'states']\n",
      "\n",
      "✨Topic 9✨\n",
      "\n",
      "['film', 'movie', 'said', 'films', 'theater', 'hollywood', 'broadway', 'movies', 'actor', 'won', 'stage', 'baseball', 'star', 'played', 'game', 'role', 'actress', 'director', 'play', 'television']\n",
      "\n",
      "✨Topic 10✨\n",
      "\n",
      "['government', 'said', 'political', 'gandhi', 'many', 'new', 'moses', 'party', 'mrs', 'nation', 'people', 'would', 'india', 'public', 'often', 'leader', 'social', 'control', 'state', 'group']\n",
      "\n",
      "✨Topic 11✨\n",
      "\n",
      "['book', 'wrote', 'art', 'published', 'work', 'writer', 'writing', 'new', 'novel', 'life', 'books', 'story', 'author', 'picasso', 'paris', 'said', 'literary', 'works', 'stories', 'write']\n",
      "\n",
      "✨Topic 12✨\n",
      "\n",
      "['general', 'gen', 'grant', 'army', 'war', 'military', 'command', 'pershing', 'men', 'macarthur', 'upon', 'troops', 'president', 'union', 'march', 'colonel', 'forces', 'days', 'battle', 'april']\n",
      "\n",
      "✨Topic 13✨\n",
      "\n",
      "['black', 'court', 'justice', 'warren', 'negro', 'king', 'rights', 'white', 'civil', 'tennis', 'said', 'atlanta', 'blacks', 'law', 'negroes', 'marshall', 'supreme', 'randolph', 'johnson', 'racial']\n",
      "\n",
      "✨Topic 14✨\n",
      "\n",
      "['president', 'roosevelt', 'state', 'house', 'united', 'states', 'truman', 'republican', 'office', 'senator', 'political', 'governor', 'election', 'democratic', 'party', 'hoover', 'congress', 'campaign', 'senate', 'war']\n",
      "\n"
     ]
    }
   ],
   "source": [
    "topics = little_mallet_wrapper.load_topic_keys(path_to_topic_keys)\n",
    "\n",
    "for topic_number, topic in enumerate(topics):\n",
    "    print(f\"✨Topic {topic_number}✨\\n\\n{topic}\\n\")"
   ]
  },
  {
   "cell_type": "markdown",
   "metadata": {},
   "source": [
    "----\n"
   ]
  },
  {
   "cell_type": "markdown",
   "metadata": {},
   "source": [
    "## Exercise 1: Training topics"
   ]
  },
  {
   "cell_type": "markdown",
   "metadata": {},
   "source": [
    "## Your Turn!!\n",
    "1. Change the number of topics (`num_topics`) from 15 to some other number\n",
    "2. Then, run command to train the topic model `little_mallet_wrapper.train_topic_model()`\n",
    "3. Then, re-reun the code in the cell above to display the topics and top numbers.\n",
    "4. How did your choice do you notice? What implications might this have for someone who wants to use a topic model?\n",
    "\n",
    "When you're done, change the number of topics back to 15, and re-train the model."
   ]
  },
  {
   "cell_type": "markdown",
   "metadata": {},
   "source": [
    "----"
   ]
  },
  {
   "cell_type": "markdown",
   "metadata": {},
   "source": [
    "## Load Topic Distributions"
   ]
  },
  {
   "cell_type": "markdown",
   "metadata": {},
   "source": [
    "MALLET also calculates the likely mixture of these topics for every single obituary in the corpus. This mixture is really a probability distribution, that is, the probability that each topic exists in the document. We can use these probability distributions to examine which of the above topics are strongly associated with which specific obituaries.\n",
    "\n",
    "To get the topic distributions, we’re going to use the little_mallet_wrapper.load_topic_distributions() function, which will read and process the MALLET topic model output, specifically the file “mallet.topic_distributions.15”, as a dataframe."
   ]
  },
  {
   "cell_type": "code",
   "execution_count": 18,
   "metadata": {},
   "outputs": [],
   "source": [
    "topic_distributions = little_mallet_wrapper.load_topic_distributions(path_to_topic_distributions)"
   ]
  },
  {
   "cell_type": "markdown",
   "metadata": {},
   "source": [
    "We can use this dataframe that we just created to look at the probability distributions of each of the 15 toipcs in on obituary.\n",
    "\n",
    "Let's look at Marilyn Monroe's obituary, which is #32"
   ]
  },
  {
   "cell_type": "code",
   "execution_count": 19,
   "metadata": {},
   "outputs": [
    {
     "data": {
      "text/plain": [
       "[0.00026486982987854125,\n",
       " 0.00014900084568986155,\n",
       " 0.2795319088015739,\n",
       " 0.05606148840740725,\n",
       " 0.0001714940442329461,\n",
       " 0.0001978013168500465,\n",
       " 0.31264691428529884,\n",
       " 0.0016969024611905375,\n",
       " 0.0032200321834696573,\n",
       " 0.2730287592655513,\n",
       " 0.04242142043233118,\n",
       " 0.014327984040528666,\n",
       " 0.015700466630027447,\n",
       " 0.00020029392599557047,\n",
       " 0.0003806635299742203]"
      ]
     },
     "execution_count": 19,
     "metadata": {},
     "output_type": "execute_result"
    }
   ],
   "source": [
    "topic_distributions[32]"
   ]
  },
  {
   "cell_type": "markdown",
   "metadata": {},
   "source": [
    "It's a little hard to get a sense of what these topics are, so we can pair this with the data we have on the title and the top words in the topic:"
   ]
  },
  {
   "cell_type": "code",
   "execution_count": 20,
   "metadata": {},
   "outputs": [
    {
     "name": "stdout",
     "output_type": "stream",
     "text": [
      "Topic Distributions for 1962-Marilyn-Monroe\n",
      "\n",
      "✨Topic 0 ['company', 'business', 'times', 'new', 'york', 'paper'] ✨\n",
      "Probability: 0.0\n",
      "\n",
      "✨Topic 1 ['music', 'band', 'jazz', 'musical', 'piano', 'sinatra'] ✨\n",
      "Probability: 0.0\n",
      "\n",
      "✨Topic 2 ['would', 'one', 'time', 'could', 'life', 'never'] ✨\n",
      "Probability: 0.28\n",
      "\n",
      "✨Topic 3 ['miss', 'mrs', 'women', 'woman', 'husband', 'luce'] ✨\n",
      "Probability: 0.056\n",
      "\n",
      "✨Topic 4 ['university', 'professor', 'science', 'research', 'scientific', 'child'] ✨\n",
      "Probability: 0.0\n",
      "\n",
      "✨Topic 5 ['war', 'hitler', 'israel', 'minister', 'german', 'peace'] ✨\n",
      "Probability: 0.0\n",
      "\n",
      "✨Topic 6 ['years', 'new', 'first', 'one', 'world', 'later'] ✨\n",
      "Probability: 0.313\n",
      "\n",
      "✨Topic 7 ['queen', 'prince', 'england', 'lord', 'lindbergh', 'victoria'] ✨\n",
      "Probability: 0.002\n",
      "\n",
      "✨Topic 8 ['soviet', 'mao', 'china', 'party', 'communist', 'stalin'] ✨\n",
      "Probability: 0.003\n",
      "\n",
      "✨Topic 9 ['film', 'movie', 'said', 'films', 'theater', 'hollywood'] ✨\n",
      "Probability: 0.273\n",
      "\n",
      "✨Topic 10 ['government', 'said', 'political', 'gandhi', 'many', 'new'] ✨\n",
      "Probability: 0.042\n",
      "\n",
      "✨Topic 11 ['book', 'wrote', 'art', 'published', 'work', 'writer'] ✨\n",
      "Probability: 0.014\n",
      "\n",
      "✨Topic 12 ['general', 'gen', 'grant', 'army', 'war', 'military'] ✨\n",
      "Probability: 0.016\n",
      "\n",
      "✨Topic 13 ['black', 'court', 'justice', 'warren', 'negro', 'king'] ✨\n",
      "Probability: 0.0\n",
      "\n",
      "✨Topic 14 ['president', 'roosevelt', 'state', 'house', 'united', 'states'] ✨\n",
      "Probability: 0.0\n",
      "\n"
     ]
    }
   ],
   "source": [
    "obituary_to_check = \"1962-Marilyn-Monroe\"\n",
    "\n",
    "obit_number = obit_titles.index(obituary_to_check)\n",
    "\n",
    "print(f\"Topic Distributions for {obit_titles[obit_number]}\\n\")\n",
    "for topic_number, (topic, topic_distribution) in enumerate(zip(topics, topic_distributions[obit_number])):\n",
    "    print(f\"✨Topic {topic_number} {topic[:6]} ✨\\nProbability: {round(topic_distribution, 3)}\\n\")"
   ]
  },
  {
   "cell_type": "markdown",
   "metadata": {},
   "source": [
    "> **💡 CHECK-IN:**  \n",
    "> Remember, these are PROBABILITIES. Each time that we re-run the model, the probabiliites will change slightly as the model trains.\n",
    "\n",
    "> **EXERCISE**  \n",
    "1. Run the \"Train the Topic Model\" command again\n",
    "2. Then click on the cell above to output the topic distributions for Marylin Monroe's obituary. \n",
    "3. What do you notice? What changed? And what implications might this have for how we use these distribution statistics? "
   ]
  },
  {
   "cell_type": "markdown",
   "metadata": {},
   "source": [
    "## Part 3: Visualizing topic modeling results"
   ]
  },
  {
   "cell_type": "markdown",
   "metadata": {},
   "source": [
    "### Create a Heatmap of Topics and Texts"
   ]
  },
  {
   "cell_type": "markdown",
   "metadata": {},
   "source": [
    "We can visualize and compare these topic probability distributions with a heatmap by using the `little_mallet_wrapper.plot_categories_by_topics_heatmap()` function.\n",
    "\n",
    "We have everything we need for the heatmap except for our list of target_labels, the sample of texts that we’d like to visualize and compare with the heatmap. Below we make our list of desired target labels."
   ]
  },
  {
   "cell_type": "code",
   "execution_count": 37,
   "metadata": {},
   "outputs": [],
   "source": [
    "target_labels = ['1852-Ada-Lovelace', '1885-Ulysses-Grant',\n",
    "                 '1900-Nietzsche', '1931-Ida-B-Wells', '1940-Marcus-Garvey',\n",
    "                 '1941-Virginia-Woolf', '1954-Frida-Kahlo', '1962-Marilyn-Monroe',\n",
    "                 '1963-John-F-Kennedy', '1964-Nella-Larsen', '1972-Jackie-Robinson',\n",
    "                 '1973-Pablo-Picasso', '1984-Ray-A-Kroc','1986-Jorge-Luis-Borges', '1991-Miles-Davis',\n",
    "                 '1992-Marsha-P-Johnson', '1993-Cesar-Chavez']"
   ]
  },
  {
   "cell_type": "markdown",
   "metadata": {},
   "source": [
    "If you’d like to make a random list of target labels, you can uncomment and run the cell below."
   ]
  },
  {
   "cell_type": "code",
   "execution_count": 38,
   "metadata": {},
   "outputs": [],
   "source": [
    "#import random\n",
    "#target_labels = random.sample(obit_titles, 10)"
   ]
  },
  {
   "cell_type": "markdown",
   "metadata": {},
   "source": [
    "Now let's use those target_labels to create a heatmap:"
   ]
  },
  {
   "cell_type": "code",
   "execution_count": 39,
   "metadata": {},
   "outputs": [
    {
     "data": {
      "image/png": "[encoded data removed]",
      "text/plain": [
       "<Figure size 936x648 with 2 Axes>"
      ]
     },
     "metadata": {},
     "output_type": "display_data"
    }
   ],
   "source": [
    "little_mallet_wrapper.plot_categories_by_topics_heatmap(obit_titles,\n",
    "                                      topic_distributions,\n",
    "                                      topics,\n",
    "                                      output_directory_path + '/categories_by_topics.pdf',\n",
    "                                      target_labels=target_labels,\n",
    "                                      dim= (13, 9)\n",
    "                                     )"
   ]
  },
  {
   "cell_type": "markdown",
   "metadata": {},
   "source": [
    "The darker squares in this heatmap represent a high probability for the corresponding topic (compared to everyone else in the heatmap) and the lighter squares in the heatmap represent a low probability for the corresponding topic. For example, if you scan across the row of Marilyn Monroe, you can see a dark square for the topic “miss film theater movie theater broadway”. If you scan across the row of Ada Lovelace, an English mathematician who is now recognized as the first computer programmer, according to her NYT obituary, you can see a dark square for “university professor research science also”.\n",
    "\n",
    "The `plot_categories_by_topics_heatmap()` function also helpfully outputs a PDF of the heatmap to `output_directory_path + '/categories_by_topics.pdf'`. We can download this PDF and explore it in more detail or embed it in an article or blog post!"
   ]
  },
  {
   "cell_type": "code",
   "execution_count": 24,
   "metadata": {},
   "outputs": [
    {
     "data": {
      "text/html": [
       "\n",
       "        <iframe\n",
       "            width=\"1000\"\n",
       "            height=\"600\"\n",
       "            src=\"topic-model-output/NYT-obits/categories_by_topics.pdf\"\n",
       "            frameborder=\"0\"\n",
       "            allowfullscreen\n",
       "        ></iframe>\n",
       "        "
      ],
      "text/plain": [
       "<IPython.lib.display.IFrame at 0x7f99698681f0>"
      ]
     },
     "execution_count": 24,
     "metadata": {},
     "output_type": "execute_result"
    }
   ],
   "source": [
    "from IPython.display import IFrame\n",
    "IFrame(\"topic-model-output/NYT-obits/categories_by_topics.pdf\", width=1000, height=600)"
   ]
  },
  {
   "cell_type": "markdown",
   "metadata": {},
   "source": [
    "### Display Top Titles Per Topic\n",
    "We can also display the obituaries that have the highest probability for every topic with the little_mallet_wrapper.get_top_docs() function.\n",
    "\n",
    "Because most of the obituaries in our corpus are pretty long, however, it will be more useful for us to simply display the title of each obituary, rather than the entire document—at least as a first step. To do so, we’ll first need to make two dictionaries, which will allow us to find the corresponding obituary title and the original text from a given training document."
   ]
  },
  {
   "cell_type": "code",
   "execution_count": 40,
   "metadata": {},
   "outputs": [],
   "source": [
    "training_data_obit_titles = dict(zip(training_data, obit_titles))\n",
    "training_data_original_text = dict(zip(training_data, original_texts))"
   ]
  },
  {
   "cell_type": "markdown",
   "metadata": {},
   "source": [
    "Then we’ll make our own function `display_top_titles_per_topic()` that will display the top text titles for every topic. This function accepts a given topic_number as well as a desired `number_of_documents` to display."
   ]
  },
  {
   "cell_type": "code",
   "execution_count": 41,
   "metadata": {},
   "outputs": [],
   "source": [
    "def display_top_titles_per_topic(topic_number=0, number_of_documents=5):\n",
    "    \n",
    "    print(f\"✨Topic {topic_number}✨\\n\\n{topics[topic_number]}\\n\")\n",
    "\n",
    "    for probability, document in little_mallet_wrapper.get_top_docs(training_data, topic_distributions, topic_number, n=number_of_documents):\n",
    "        print(round(probability, 4), training_data_obit_titles[document] + \"\\n\")\n",
    "    return"
   ]
  },
  {
   "cell_type": "markdown",
   "metadata": {},
   "source": [
    "NOTE: The number of the topic (eg Topic 2, Topic 11) does not correspond to its frequency in the corpus (there is no intrinsic difference between a topic that MALLET assigns as topic 0 and a topic that MALLET assigns as 15, it's just a labelling convention.\n",
    "\n",
    "**Topic 10**\n",
    "\n",
    "To display the top 5 obituary titles with the highest probability of containing Topic 10, we will run:"
   ]
  },
  {
   "cell_type": "code",
   "execution_count": 42,
   "metadata": {},
   "outputs": [
    {
     "name": "stdout",
     "output_type": "stream",
     "text": [
      "✨Topic 10✨\n",
      "\n",
      "['government', 'said', 'political', 'gandhi', 'many', 'new', 'moses', 'party', 'mrs', 'nation', 'people', 'would', 'india', 'public', 'often', 'leader', 'social', 'control', 'state', 'group']\n",
      "\n",
      "0.491 1984-Indira-Gandhi\n",
      "\n",
      "0.4147 1948-Mohandas-K-Gandhi\n",
      "\n",
      "0.382 1981-Robert-Moses\n",
      "\n",
      "0.3288 1973-Roberto-Clemente\n",
      "\n",
      "0.2726 1952-Eva-Peron\n",
      "\n"
     ]
    }
   ],
   "source": [
    "display_top_titles_per_topic(topic_number=10, number_of_documents=5)"
   ]
  },
  {
   "cell_type": "markdown",
   "metadata": {},
   "source": [
    "What descriptive label would you give to Topic 10? Click the cell below to assign one"
   ]
  },
  {
   "cell_type": "markdown",
   "metadata": {},
   "source": [
    "Topic 10 : [DOUBLE-CLICK HERE TO TYPE IN A LABEL]"
   ]
  },
  {
   "cell_type": "markdown",
   "metadata": {},
   "source": [
    "**Topic 7**\n",
    "\n",
    "To display the top 5 obituary titles with the highest probability of containing Topic 7, we will run:"
   ]
  },
  {
   "cell_type": "code",
   "execution_count": 28,
   "metadata": {},
   "outputs": [
    {
     "name": "stdout",
     "output_type": "stream",
     "text": [
      "✨Topic 7✨\n",
      "\n",
      "['queen', 'prince', 'england', 'lord', 'lindbergh', 'victoria', 'king', 'emperor', 'sir', 'london', 'english', 'schweitzer', 'duke', 'space', 'flight', 'royal', 'british', 'made', 'church', 'balfour']\n",
      "\n",
      "0.3865 1901-Queen-Victoria\n",
      "\n",
      "0.3724 1939-Pope-Pius-XI\n",
      "\n",
      "0.3597 1972-The-Duke-of-Windsor\n",
      "\n",
      "0.3582 1939-Howard-Carter\n",
      "\n",
      "0.3013 1998-Alan-B-Shepard-Jr\n",
      "\n"
     ]
    }
   ],
   "source": [
    "display_top_titles_per_topic(topic_number=7, number_of_documents=5)"
   ]
  },
  {
   "cell_type": "markdown",
   "metadata": {},
   "source": [
    "Topic 7 : [DOUBLE CLICK HERE TO TYPE IN A LABEL]"
   ]
  },
  {
   "cell_type": "markdown",
   "metadata": {},
   "source": [
    "**Topic 14**\n",
    "\n",
    "To display the top 5 obituary titles with the highest probability of containing Topic 14, we will run:"
   ]
  },
  {
   "cell_type": "code",
   "execution_count": 29,
   "metadata": {},
   "outputs": [
    {
     "name": "stdout",
     "output_type": "stream",
     "text": [
      "✨Topic 14✨\n",
      "\n",
      "['president', 'roosevelt', 'state', 'house', 'united', 'states', 'truman', 'republican', 'office', 'senator', 'political', 'governor', 'election', 'democratic', 'party', 'hoover', 'congress', 'campaign', 'senate', 'war']\n",
      "\n",
      "0.5093 1944-Alfred-E-Smith\n",
      "\n",
      "0.4761 1989-Claude-Pepper\n",
      "\n",
      "0.4494 1945-FDR\n",
      "\n",
      "0.4424 1987-Alf-Landon\n",
      "\n",
      "0.4379 1961-Sam-Rayburn\n",
      "\n"
     ]
    }
   ],
   "source": [
    "display_top_titles_per_topic(topic_number=14, number_of_documents=5)"
   ]
  },
  {
   "cell_type": "markdown",
   "metadata": {},
   "source": [
    "Topic 14 : [DOUBLE-CLICK HERE TO TYPE IN A LABEL]"
   ]
  },
  {
   "cell_type": "markdown",
   "metadata": {},
   "source": [
    "### Display Topic Words in Context of Original Text\n",
    "\n",
    "Often it’s useful to actually look at the document that has ranked highly for a given topic and puzzle out why it ranks so highly.\n",
    "\n",
    "To display the original obituary texts that rank highly for a given topic, with the relevant topic words **bolded** for emphasis, we are going to make the function `display_bolded_topic_words_in_context()`.\n",
    "\n",
    "In the cell below, we’re importing two special Jupyter notebook display modules, which will allow us to make the relevant topic words bolded, as well as the regular expressions library re, which will allow us to find and replace the correct words."
   ]
  },
  {
   "cell_type": "code",
   "execution_count": 43,
   "metadata": {},
   "outputs": [],
   "source": [
    "from IPython.display import Markdown, display\n",
    "import re\n",
    "\n",
    "def display_bolded_topic_words_in_context(topic_number=3, number_of_documents=3, custom_words=None):\n",
    "\n",
    "    for probability, document in little_mallet_wrapper.get_top_docs(training_data, topic_distributions, topic_number, n=number_of_documents):\n",
    "        \n",
    "        print(f\"✨Topic {topic_number}✨\\n\\n{topics[topic_number]}\\n\")\n",
    "        \n",
    "        probability = f\"✨✨✨\\n\\n**{probability}**\"\n",
    "        obit_title = f\"**{training_data_obit_titles[document]}**\"\n",
    "        original_text = training_data_original_text[document]\n",
    "        topic_words = topics[topic_number]\n",
    "        topic_words = custom_words if custom_words != None else topic_words\n",
    "\n",
    "        for word in topic_words:\n",
    "            if word in original_text:\n",
    "                original_text = re.sub(f\"\\\\b{word}\\\\b\", f\"**{word}**\", original_text)\n",
    "\n",
    "        display(Markdown(probability)), display(Markdown(obit_title)), display(Markdown(original_text))\n",
    "    return"
   ]
  },
  {
   "cell_type": "markdown",
   "metadata": {},
   "source": [
    "**Topic 3**\n",
    "\n",
    "To display the top 3 original obituaries with the highest probability of containing Topic 3 and with relevant topic words bolded, we will run:"
   ]
  },
  {
   "cell_type": "code",
   "execution_count": 44,
   "metadata": {},
   "outputs": [
    {
     "name": "stdout",
     "output_type": "stream",
     "text": [
      "✨Topic 3✨\n",
      "\n",
      "['miss', 'mrs', 'women', 'woman', 'husband', 'luce', 'york', 'sullivan', 'murrow', 'kennedy', 'keller', 'bell', 'graham', 'news', 'said', 'television', 'social', 'douglass', 'smith', 'suffrage']\n",
      "\n"
     ]
    },
    {
     "data": {
      "text/markdown": [
       "✨✨✨\n",
       "\n",
       "**0.4002386963342803**"
      ],
      "text/plain": [
       "<IPython.core.display.Markdown object>"
      ]
     },
     "metadata": {},
     "output_type": "display_data"
    },
    {
     "data": {
      "text/markdown": [
       "**1936-Anne-Macy**"
      ],
      "text/plain": [
       "<IPython.core.display.Markdown object>"
      ]
     },
     "metadata": {},
     "output_type": "display_data"
    },
    {
     "data": {
      "text/markdown": [
       "October 21, 1936\n",
       "\n",
       " OBITUARY\n",
       "\n",
       " Mrs. Macy Is Dead; Aided Miss Keller\n",
       "\n",
       " BY THE NEW YORK TIMES\n",
       "\n",
       " Mrs. Anne Mansfield Sullivan Macy, who for nearly fifty years was the kindly, patient and brilliant teacher of Miss Helen Keller, noted blind and deaf **woman**, died yesterday at their home, 71-11 Seminole\n",
       "\n",
       " Avenue, Forest Hills, Queens. She had been suffering from a heart ailment, which became acute early this Summer. Mrs. Macy was 70 years old.\n",
       "\n",
       " Mrs. Macy taught Miss Keller to read, speak and know the world about her by use of her fingertips. Their lifelong devotion to each other was internationally famous and one was seldom seen or heard of without the other. Blindness, which had shadowed the child Anne Sullivan's life and which she had conquered before she met Miss Keller, had returned to darken her last days, and Miss Keller had to become the teacher and Mrs. Macy the pupil.\n",
       "\n",
       " Miss Keller yesterday paid this tribute: \"Teacher is free at least from pain and blindness. I pray for strength to endure the silent dark until she smiles upon me again.\"\n",
       "\n",
       " Miss Polly Thompson, Miss Keller's secretary, **said** yesterday that Miss Keller was \"bearing up magnificently\" under her loss. During the last week Miss Keller was almost constantly at Mrs.\n",
       "\n",
       " Macy's side. Mrs. Macy was in a coma from Thursday until she died. On Wednesday she **said**: \"Oh, Helen and Polly, my children, I pray God will unite us in His love.\"\n",
       "\n",
       " Mrs. Macy, so long the link to light for Miss Keller, lost the sight of her own right eye in 1929, due partly to a cataract, for which an operation was performed. In May, 1935, a cataract operation was done on her left eye, but thereafter she was able to distinguish only light and color with it. She could no longer read or guide her beloved Miss Keller, who, despite her own handicaps, devoted herself to her friend.\n",
       "\n",
       " Pupil Guides Teacher in Braille\n",
       "\n",
       " As early as 1933 Miss Keller had commenced to teach Mrs. Macy to read Braille. But the Braille system had changed since Mrs. Macy taught it to Miss Keller and the teacher found it difficult.\n",
       "\n",
       " When it became known that year that Miss Keller, who had been led out of the black silence in which she had existed since childhood by the ingenuity, perseverance and patience of her teacher, was in turn preparing her teacher to \"see\" with her fingers, THE NEW YORK TIMES, in an editorial, **said**: \"The 'blind leading the blind' will henceforth have a new meaning wherever the story of Anne Sullivan and Helen Keller is known. They who have been exiled from the light have been able to demonstrate the power of the mind to overcome limitation.\"\n",
       "\n",
       " Mrs. Macy was 21 years old when she met Helen Keller. Born in Feeding Hills, near Springfield, Mass., on April 14, 1866, the daughter of Irish immigrants, John and Mary Mansfield Sullivan, Mrs. Macy suffered the loss of her mother when a young child. For a year or two she was supported by poor relatives, but at the age of 10 she was sent to the State Infirmary, Tewksbury, Mass.\n",
       "\n",
       " She was already partially blind and at the infirmary two eye operations were performed, but her sight did not improve. She was led to believe that Frank B. Sanborn, chairman of the State Board of Charities, who sometimes visited the infirmary, might be able to aid her. She pleaded with him and he arranged for her entry into the Perkins Institution for the Blind in Boston, where lived Laura Bridgman, blind and deaf, who had been trained there.\n",
       "\n",
       " Underwent Two Eye Operations\n",
       "\n",
       " Mrs. Macy entered the Perkins Institution in 1880, made there a brilliant scholastic record and learned to study with her fingers, and later, after two operations had restored her sight, to use her eyes.\n",
       "\n",
       " She learned the manual, or finger, alphabet, so as to be able to talk to Laura Bridgman. In 1886 she was graduated as valedictorian of her class.\n",
       "\n",
       " Not long after her graduation Helen Keller's father wrote to the institution asking for help for her. Miss Sullivan was chosen to be her teacher and, after familiarizing herself with the details of her new work, went to Helen's home in Tuscumbia,\n",
       "\n",
       " Ala.\n",
       "\n",
       " The two who were to mean so much to each other until Mrs. Macy's death yesterday met first on March 3, 1887, three months before Helen was 7 years old. Miss Keller **said** later that it was \"the most important day I remember in all my life.\"\n",
       "\n",
       " Working carefully, so as to bring Helen under some sort of discipline without breaking her spirit, Mrs. Macy began spelling words into her hand. With no understanding of what they meant, Helen began repeating them.\n",
       "\n",
       " The teacher persisted, spelling the word doll when she gave her a doll, bread when she gave her bread, candy when she gave her candy. In less than a month Helen realized that everything had a name and that she had a way, the finger alphabet, of calling the names.\n",
       "\n",
       " Teaching Along New Paths\n",
       "\n",
       " One day Mrs. Macy tried to teach Helen the difference between a cup and the water in the cup. She took her to a pump, pumped water over one hand and spelled water into the other hand. Helen at last understood.\n",
       "\n",
       " She pointed to Miss Sullivan, who spelled teacher, and \"teacher\" she was to the close.\n",
       "\n",
       " Mrs. Macy educated Helen, using always the finger spelling, but treating her like any other child. After preliminary lessons in speaking, Helen learned from Mrs. Macy to converse and even speak from a platform.\n",
       "\n",
       " Teacher and pupil remained for a time at the Perkins Institution. Then, in 1894, Helen was enrolled in the Wright-Humason Oral School for the Deaf in New York. Later Miss Sullivan took her to a school in Cambridge to prepare her for Radcliffe College and finally Helen passed triumphantly her entrance examinations, entered Radcliffe and in 1904 was graduated cum laude.\n",
       "\n",
       " Throughout the college course Mrs. Macy was with Helen, spelling into her hands the words of the textbooks and the books of required reading. Miss Keller's career thereafter brought her more and more into the public eye. She became famous as an author, she raised huge sums for the blind, she traveled, she was everywhere acclaimed, and Mrs. Macy went everywhere with her. \"My own life,\" Mrs. Macy **said** once, \"is so interwoven with my Helen's life that I can't separate myself from her.\"\n",
       "\n",
       " Honored by Foreign Lands\n",
       "\n",
       " When Mrs. Macy's sixty-seventh birthday was celebrated Miss Keller proposed a toast: \"Here's to my teacher, whose birthday was the Easter morning of my life.\"\n",
       "\n",
       " In 1931 Mrs. Macy received the honorary degree of Doctor of Humane Letters from Temple University and the Order of St. Sava from the King of Yugoslavia.\n",
       "\n",
       " In 1932 she became an honorary fellow of the Educational Institute of Scotland. Mrs. Macy stayed in seclusion for several months in 1933 in Scotland while Miss Keller nursed her. Mrs. Macy's blindness grew more pronounced and on her return from Scotland she **said**: \"Helen is and always has been thoroughly well behaved in her blindness as well as her deafness, but I'm making a futile fight of it, like a bucking bronco. It's not the big things in life that one misses through loss of sight, but such little things as being able to read. And I have no patience, like Helen, for the Braille system, because I can't read fast enough.\"\n",
       "\n",
       " Early this month the Roosevelt Memorial Association announced that Roosevelt medals \"for a cooperative achievement of heroic character and far-reaching significance\" would be presented to Miss Keller and Mrs. Macy. In a telegram of sympathy to Miss Keller yesterday Hermann Hagedorn, executive director of the association, **said** that presentation to Miss Keller would be postponed from Oct. 27 to next year.\n",
       "\n",
       " Mrs. Macy was married to John Albert Macy, author and critic, in 1905. He died in 1932. There are no immediate survivors.\n",
       "\n",
       " A funeral service will be conducted at 2 P. M. tomorrow at the Park Avenue Presbyterian Church, 1,010 Park Avenue, by the Rev. Dr. Harry Emerson Fosdick and the Rev. Edmund M. Wylie, the pastor.\n",
       "\n",
       " After the service, cremation will take place, in accord with Mrs. Macy's wish, at the Fresh Pond Crematory, Queens.\n",
       "\n",
       " The honorary pallbearers will be M. C. Migel, president of the American Foundation for the Blind, which Miss Keller and Mrs. Macy greatly aided; Robert Irwin, executive director of the foundation; Harvey D. Gibson, Russell Doubleday, Dr. Conrad Berens,\n",
       "\n",
       " Dr. Philip S. Smith, Dr. William F. Saybolt, Dr. John H. Finley, Louis Bamberger, the Rev. Dr. Edward E. Allen, director emeritus of the Perkins Institution; Dr. William Allan Neilson, president of Smith College, and William Ziegler Jr.\n",
       "\n",
       " \n",
       "\n"
      ],
      "text/plain": [
       "<IPython.core.display.Markdown object>"
      ]
     },
     "metadata": {},
     "output_type": "display_data"
    },
    {
     "name": "stdout",
     "output_type": "stream",
     "text": [
      "✨Topic 3✨\n",
      "\n",
      "['miss', 'mrs', 'women', 'woman', 'husband', 'luce', 'york', 'sullivan', 'murrow', 'kennedy', 'keller', 'bell', 'graham', 'news', 'said', 'television', 'social', 'douglass', 'smith', 'suffrage']\n",
      "\n"
     ]
    },
    {
     "data": {
      "text/markdown": [
       "✨✨✨\n",
       "\n",
       "**0.31548921148746034**"
      ],
      "text/plain": [
       "<IPython.core.display.Markdown object>"
      ]
     },
     "metadata": {},
     "output_type": "display_data"
    },
    {
     "data": {
      "text/markdown": [
       "**1902-Elizabeth-Cady-Stanton**"
      ],
      "text/plain": [
       "<IPython.core.display.Markdown object>"
      ]
     },
     "metadata": {},
     "output_type": "display_data"
    },
    {
     "data": {
      "text/markdown": [
       "October 27, 1902\n",
       "\n",
       " OBITUARY\n",
       "\n",
       " Elizabeth Cady Stanton Dies at Her Home\n",
       "\n",
       " By THE NEW YORK TIMES\n",
       "\n",
       " Mrs. Elizabeth Cady Stanton died at 3 o'clock yesterday afternoon at her home in the Stuart Apartment House, 250 West Ninety-fourth Street. Had she lived until the 12th of next month she would have completed her eighty-seventh year. Mrs. Stanton had been ailing for several months, but had not been seriously ill. Of recent years she became very stout, and this, combined with her naturally large frame, made the use of a cane necessary. Saturday she was confined to her bed. Though physically incapacitated, her mental powers were as much in evidence as ever, and only in the first part of the week she had written two articles for publication.\n",
       "\n",
       " Early on Saturday Mrs. Stanton dictated to her secretary a letter.\n",
       "\n",
       " Toward nightfall she lapsed into semi-consciousness and so continued until the end. Her son, Robert L. Stanton, and her daughter, Mrs. Margaret Lawrence, resided with their mother. Six children survive--Henry, Theodore,, Mrs. Margaret Lawrence, Mrs. Stanton\n",
       "\n",
       " Blatch, Robert L., and G. Smith Stanton. All reside in New York, except Theodore, who represents Harper's Weekly and several other American publications in Paris.\n",
       "\n",
       " The funeral will be held Wednesday and the interment will be at Woodlawn Cemetery.\n",
       "\n",
       " Mrs. Stanton was born Nov. 12, 1815, in Johnstown, N. Y. She was the daughter of Supreme Court Judge Daniel Cady and wife of the late Henry Brewster Stanton, noted abolitionist and journalist. She began her education at the Johnstown Academy, and later became a pupil at Emma Willard's Seminary, in Troy, a school noted then throughout the country. She was graduated with the class of '32. Eight years later, while attending a world's anti-slavery convention in London, she made the acquaintance of Lucretia Mott, which resulted in the joint issuance of a call for a **woman**'s rights convention. Mrs. Stanton was on her wedding trip at this time. The convention was held at her home, Seneca Falls, July 19 and 20, 1848.\n",
       "\n",
       " The first formal claim for **suffrage** for **women** was then made. In 1854 she appeared before the New York Legislature and addressed it on \"The Rights of Married Women.\" Six years later she took the stand that drunkenness should constitute a cause for divorce. She was instrumental in having the question of **woman** **suffrage** submitted to Kansas in 1867 and Michigan in 1874. She was President of the National Committee of her party from 1855 to 1865. She was also identified with the Women's Loyal League and was President of the National Women's Suffrage Association unit 1883. In 1868 she sought to become an actual political factor by entering the lists for Congress. For the past quarter of a century and over she had annually addressed a committee of Congress in favor of an amendment for **women** to the Constitution of the United\n",
       "\n",
       " States. \"At the time of her death she was honorary President of the National Women's Suffrage Association. Mrs. Stanton's mother was Margaret Livingston, a daughter of James Livingston, an officer in the American Army during the Revolution. Her father's ancestors came from Connecticut. Mrs. Stanton began to take a great interest in the laws as they applied to **women** by having access to her father's office, and in which she spent a great deal of time. She began to hold that the statutes were unfair toward **women**. Before she knew how great a project was confronting her, she had become the evangel of equal rights. \"After graduation from the Willard Seminary in Troy, Mrs. Stanton came to find herself in sympathy with the principles enunciated by her cousin, Gerritt Smith, the anti-slavery agitator. She became desirous of knowing just what the conditions were in the South, and it was at the house of an abolitionist that she met her future **husband**.\n",
       "\n",
       " Through her efforts, practically unaided, she caused the passage of a \"Woman's Property bill\" by the New York Legislature, delivering a two-hour speech thereon. With her work as an anti-slavery advocate and claimant for **women**'s rights, she also found time to devote to the cause of temperance.\n",
       "\n",
       " She was wont to tell that as early as her sixteenth year she became a believer in **women**'s rights. Her vexation and mortification were great when her brothers went to college and she could not also go. About this time she was often in a tilt with the law students in her father's office over the rights of **women**. When they could not score any other way they would mention \"The Taming of the Shrew,\" not at all to the liking of their opponent.\n",
       "\n",
       " Mrs. Stanton met Daniel O'Connell in London. \"He was,\" she **said**, \"tall, well developed, and a magnificent-looking man, and probably one of the most effective speakers Ireland ever produced.\" She was in Paris in 1840 at the time the body of Napoleon Bonaparte was brought to France from St. Helena by the Prince de Joinville, and witnessed the wild excitement over the event.\n",
       "\n",
       " While the Stanton family was living at Chelsea, Mass., Wittier became a regular visitor. During such time he unfolded to Mrs. Stanton one of the most deeply interesting pages of his life, a sad romance of love and disappointment. Mrs. Stanton first met\n",
       "\n",
       " Miss Susan B. Anthony when the latter was a demure young Quakeress. The two ever worked together in friendship and sympathy. Mrs. Stanton **said** of their joint labors: \"We never met without issuing a pronunciamento on some question. In thought and sympathy we are one, and in the division of labor we exactly complemented each other. In writing we did better work than either could alone. While she is slow and analytical in composition, I am rapid and synthetic. I am the better writer, she the better critic. She supplies the facts and statistics, I the philosophy and rhetoric, and, together, we have made arguments that have stood unshaken through the storms of long years--arguments that no one has answered. Our speeches may be considered the united product of our two brains.\"\n",
       "\n",
       " The crowning work of Mrs. Stanton's life is held to be by many the \"Woman's Bible.\" Lady Henry Somerset and Miss Frances E. Willard discussed the project of this Bible with Mrs. Stanton, but finally withdrew their names from the committee, fearing that the work would be too radical. Miss Anthony and Mrs. Stanton were the founders of the Loyal League, which had for its object the relief of the suffering families of Union soldiers, the heads of which were at the front. In 1886 Mrs. Stanton and Miss Anthony issued in collaboration three volumes entitled \"History of Women's Suffrage.\"\n",
       "\n",
       " It is a noteworthy fact that Miss Anthony finished the fourth volume only last week. In 1895 Mrs. Stanton published \"Eighty Years and More,\" being a volume of reminiscences of her life. She was the author of scores of essays upon marriage, divorce, and allied subjects. From 1870 to 1880 she devoted the greater part of her time to lecturing. On Nov. 12, 1895, she was the central figure in a most memorable reception which took place in the Metropolitan\n",
       "\n",
       " Opera House, this city, and was attended by prominent suffragists from every part of the country. This reception marked the completion of her eightieth year.\n",
       "\n",
       " Tribute from Miss Anthony\n",
       "\n",
       " ROCHESTER, N. Y., Oct. 26.--The **news** of the death of Elizabeth Cady Stanton fell with almost crushing weight upon Miss Susan B. Anthony, who had planned to go to New York on Nov. 12 to assist the venerable advocate of **women**'s **suffrage** in the celebration of her eighty-seventh birthday. Miss Anthony **said** to-night: \"Through the early days, when the world was against us, we stood together. Mrs. Stanton was always a courageous **woman**, a leader of thought and new movements. I always called her the philosopher and statesman of our movement. She was a most finished writer, and every State paper presented to Congress or the State Legislatures in the early days was written by Mrs. Stanton. \"I cannot express myself at all as I feel. I am too crushed to say much, but, if she had outlived me, she would have found fine words with which to express our friendship.\" \"What period of your lives gave you the greatest pleasure?\" was asked. \"When we were digging together. When she forged the thunderbolts and I fired them. The greatest campaign we ever had together was in 1869, at the constitutional convention held in Kansas for **suffrage** and the same year in New York State. \"In spite of her big family, to whom she was devoted, and the great amount of work she did outside her home, she was one of the finest housekeepers I ever saw.\"\n",
       "\n",
       " \n",
       "\n"
      ],
      "text/plain": [
       "<IPython.core.display.Markdown object>"
      ]
     },
     "metadata": {},
     "output_type": "display_data"
    },
    {
     "name": "stdout",
     "output_type": "stream",
     "text": [
      "✨Topic 3✨\n",
      "\n",
      "['miss', 'mrs', 'women', 'woman', 'husband', 'luce', 'york', 'sullivan', 'murrow', 'kennedy', 'keller', 'bell', 'graham', 'news', 'said', 'television', 'social', 'douglass', 'smith', 'suffrage']\n",
      "\n"
     ]
    },
    {
     "data": {
      "text/markdown": [
       "✨✨✨\n",
       "\n",
       "**0.30275387604558124**"
      ],
      "text/plain": [
       "<IPython.core.display.Markdown object>"
      ]
     },
     "metadata": {},
     "output_type": "display_data"
    },
    {
     "data": {
      "text/markdown": [
       "**1968-Helen-Keller**"
      ],
      "text/plain": [
       "<IPython.core.display.Markdown object>"
      ]
     },
     "metadata": {},
     "output_type": "display_data"
    },
    {
     "data": {
      "text/markdown": [
       "June 2, 1968\n",
       "\n",
       " OBITUARY\n",
       "\n",
       " Helen Keller, 87, Dies\n",
       "\n",
       " Special to The New York Times\n",
       "\n",
       " WESTPORT, Conn., June 1--Helen Keller, who overcame blindness and deafness to become a symbol of the indomitable human spirit, died this afternoon in her home here. She was 87 years old. \"She drifted off in her sleep,\" **said** Mrs. Winifred Corbally, Miss Keller's companion for the last 11 years, who was at her bedside. \"She died gently.\" Death came at 3:35 P.M.\n",
       "\n",
       " She is survived by a brother, Phillips B. Keller of Dallas, and a sister, Mrs. Mildred Tyson of Montgomery, Ala.\n",
       "\n",
       " After private cremation, a funeral service will be held at the National Cathedral in Washington. No date has yet been set.\n",
       "\n",
       " Triumph Out of Tragedy\n",
       "\n",
       " By ALDEN WHITMAN\n",
       "\n",
       " For the first 18 months of her life Helen Keller was a normal infant who cooed and cried, learned to recognize the voices of her father and mother and took joy in looking at their faces and at objects about her home. \"Then\" as she recalled later, \"came the illness which closed my eyes and ears and plunged me into the unconsciousness of a newborn baby.\"\n",
       "\n",
       " The illness, perhaps scarlet fever, vanished as quickly as it struck, but it erased not only the child's vision and hearing but also, as a result, her powers of articulate speech.\n",
       "\n",
       " Her life thereafter, as a girl and as a **woman**, became a triumph over crushing adversity and shattering affliction. In time, Miss Keller learned to circumvent her blindness, deafness and muteness; she could \"see\" and \"hear\" with exceptional acuity; she even learned to talk passably and to dance in time to a fox trot or a waltz. Her remarkable mind unfolded, and she was in and of the world, a full and happy participant in life.\n",
       "\n",
       " What set Miss Keller apart was that no similarly afflicted person before had done more than acquire the simplest skills.\n",
       "\n",
       " But she was graduated from Radcliffe; she became an artful and subtle writer; she led a vigorous life; she developed into a crusading humanitarian who espoused Socialism; and she energized movements that revolutionized help for the blind and the deaf.\n",
       "\n",
       " Teacher's Devotion\n",
       "\n",
       " Her tremendous accomplishments and the force of assertive personality that underlay them were released through the devotion and skill of Anne Sullivan Macy, her teacher through whom in large degree she expressed herself. Mrs. Macy was succeeded, at her death in 1936, by Polly Thomson, who died in 1960. Since then Miss Keller's companion had been Mrs. Winifred Corbally.\n",
       "\n",
       " Miss Keller's life was so long and so crowded with improbable feats--from riding horseback to learning Greek--and she was so serene yet so determined in her advocacy of beneficent causes that she became a great legend. She always seemed to be standing before the world as an example of unquenchable will.\n",
       "\n",
       " Many who observed her--and to some she was a curiosity and a publicity-seeker--found it difficult to believe that a person so handicapped could acquire the profound knowledge and the sensitive perception and writing talent that she exhibited when she was mature. Yet no substantial proof was ever adduced that Miss Keller was anything less than she appeared--a person whose character impelled her to perform the seemingly impossible. With the years, the skepticism, once overt, dwindled as her stature as a heroic **woman** increased.\n",
       "\n",
       " Miss Keller always insisted that there was nothing mysterious or miraculous about her achievements. All that she was and did, she **said**, could be explained directly and without reference to a \"sixth sense.\" Her dark and silent world was held in her hand and shaped with her mind. Concededly, her sense of smell was exceedingly keen, and she could orient herself by the aroma from many objects.\n",
       "\n",
       " On the other hand, her sense of touch was less finely developed than in many other blind people.\n",
       "\n",
       " Tall, handsome, gracious, poised, Miss Keller had a sparkling humor and a warm handclasp that won her friends easily. She exuded vitality and optimism. \"My life has been happy because I have had wonderful friends and plenty of interesting work to do,\" she once remarked, adding: \"I seldom think about my limitations, and they never make me sad. Perhaps there is just a touch of yearning at times, but it is vague, like a breeze among flowers. The wind passes, and the flowers are content.\"\n",
       "\n",
       " This equanimity was scarcely foreshadowed, in her early years. Helen Adams Keller was born on June 27, 1880, on a farm near Tuscumbia, Ala. Her father was Arthur Keller, an intermittently prosperous country gentleman who had served in the Confederate\n",
       "\n",
       " Army. Her mother was the former Kate Adams.\n",
       "\n",
       " After Helen's illness, her infancy and early childhood were a succession of days of frustration, manifest by outbursts of anger and fractious behavior. \"A wild, unruly child\" who kicked, scratched and screamed was how she afterward described herself.\n",
       "\n",
       " Her distracted parents were without hope until Mrs. Keller came across a passage in Charles Dickens's \"American Notes\" describing the training of the blind Laura Bridgman, who had been taught to be a sewing teacher by Dr. Samuel Gridley\n",
       "\n",
       " Howe of the Perkins Institution in Boston. Dr. Howe, **husband** of the author of \"The Battle Hymn of the Republic,\" was a pioneer teacher of the blind and the mute.\n",
       "\n",
       " Examined by Bell\n",
       "\n",
       " Shortly thereafter the Kellers heard of a Baltimore eye physician who was interested in the blind, and they took their daughter to him. He **said** that Helen could be educated and put her parents in touch with Alexander Graham Bell, the inventor of the telephone and an authority on teaching speech to the deaf. After examining the child, Bell advised the Kellers to ask his son-in-law, Michael Anagnos, director of the Perkins Institution, about obtaining a teacher for Helen.\n",
       "\n",
       " The teacher Mr. Anagnos selected was 20-year-old Anne Mansfield Sullivan, who was called Annie. Partly blind, Miss Sullivan had learned at Perkins how to communicate with the deaf and blind through a hand alphabet signaled by touch into the patient's palm. \"The most important day I remember in all my life is the one on which my teacher came to me,\" Miss Keller wrote later. \"It was the third of March, 1887, three months before I was 7 years old. \"I stood on the porch, dumb, expectant. I guessed vaguely from my mother's signs and from the hurrying to and fro in the house that something unusual was about to happen, so I went to the door and waited on the steps.\"\n",
       "\n",
       " Helen, her brown hair tumbled, her pinafore soiled, her black shoes tied with white string, jerked Miss Sullivan's bag away from her, rummaged in it for candy and, finding none, flew into a rage.\n",
       "\n",
       " Of her savage pupil, Miss Sullivan wrote: \"She has a fine head, and it is set on her shoulders just right. Her face is hard to describe. It is intelligent, but it lacks mobility, or soul, or something. Her mouth is large and finely shaped.\n",
       "\n",
       " You can see at a glance that she is blind. One eye is larger than the other and protrudes noticeably. She rarely smiles.\"\n",
       "\n",
       " It was days before Miss Sullivan, whom Miss Keller throughout her life called \"Teacher,\" could calm the rages and fears of the child and begin to spell words into her hand. The problem was of associating words and objects or actions: What was a doll, what was water? Miss Sullivan's solution was a stroke of genius. Recounting it, Miss Keller wrote: \"We walked down the path to the well-house, attracted by the fragrance of the honeysuckle with which it was covered. Someone was drawing water and my teacher placed my hand under the spout. \"As the cool stream gushed over one hand she spelled into the other the word water, first slowly, then rapidly. I stood still, my whole attention fixed upon the motions of her fingers. Suddenly\n",
       "\n",
       " I felt a misty consciousness as of something forgotten--a thrill of returning thought; and somehow the mystery of language was revealed to me. \"I knew then that 'w-a-t-e-r' meant the wonderful cool something that was flowing over my hand. That living word awakened my soul, gave it light, hope, joy, set it free. There were barriers still, it is true, but barriers that in time could be swept away.\"\n",
       "\n",
       " Miss Sullivan had been told at Perkins that if she wished to teach Helen she must not spoil her. As a result, she was soon locked in physical combat with her pupil. This struggle was to thrill theater and film audiences later when it was portrayed in \"The Miracle Worker\" by Anne Bancroft as Annie Sullivan and Patty Duke as Helen.\n",
       "\n",
       " The play was by William Gibson, who based it on \"Anne Sullivan Macy: The Story Behind Helen Keller\" by Nella Braddy, a friend of Miss Keller. Opening in New York in October, 1959, it ran 702 performances.\n",
       "\n",
       " Typical of the battles between child and teacher was a dinner table struggle in which Helen, uttering eerie screams, tried to jerk Miss Sullivan's chair from under her. \"She pinched me and I slapped her face every time she did,\" Miss Sullivan wrote. \"I gave her a spoon which she threw on the floor. I forced her out of the chair and made her pick it up.\n",
       "\n",
       " Then we had another tussle over folding her napkin. It was another hour before I succeeded in getting her napkin folded. Then I let her out into the warm sunshine and went to my room and threw myself on the bed, exhausted.\"\n",
       "\n",
       " Once Helen became more socialized and once she began to learn, her hunger for knowledge was insatiable. In a few hours one April day she added 30 words to her vocabulary. Abstractions--the meaning of the word \"love,\" for example--proved difficult, but her teacher's patience and ingenuity prevailed.\n",
       "\n",
       " Learning to Read\n",
       "\n",
       " Helen's next opening into the world was learning to read. \"As soon as I could spell a few words my teacher gave me slips of cardboard on which were printed words in raised letters,\" she recalled. \"I quickly learned that each printed word stood for an object, an act or a quality. \"I had a frame in which I could arrange the words in little sentences; but before I ever put sentences in the frame I used to make them in objects. I found the slips of paper which represented, for example, 'doll,' 'is,' 'on,' 'bed' and placed each name on its object; then I put my doll on the bed with the words is, on, bed arranged beside the doll, thus making a sentence of the words, and at the same time carrying out the idea of the sentence with the things themselves.\"\n",
       "\n",
       " Helen read her first connected story in May, 1887, and from that time \"devoured everything in the shape of a printed page that has come within the reach of my hungry fingertips.\"\n",
       "\n",
       " After three months with her pupil, Miss Sullivan wrote to Mr. Anagnos: \"Something tells me that I am going to succeed beyond all my dreams.\"\n",
       "\n",
       " Helen's progress was so rapid that in May, 1888, she made her first trip to the Perkins Institution in Boston, where she learned to read Braille and to mix with other afflicted children. For several years she spent the winters in the North and the summers with her family. It was in the spring of 1890 that Helen was taught to speak by Sarah Fuller of the Horace Mann School. 'Eager to Imitate' \"Miss Fuller's method was this,\" Miss Keller recalled. \"She passed my hand lightly over her face, and let me feel the position of her tongue and lips when she made a sound. I was eager to imitate every motion and in an hour had learned six elements of speech: M, P, A, S, T, I. I shall never forget the surprise and delight I felt when I uttered my first connected sentence: 'It is warm.'\"\n",
       "\n",
       " Even so, it took a long time for the child to put her rushing thoughts into words. Most often Miss Sullivan or Miss Thomson was obliged to translate the sounds, for it took a trained ear to distinguish them accurately. When Miss Keller spoke very slowly and employed monosyllabic words, she was fairly readily understandable.\n",
       "\n",
       " At the same time the child learned to lip-read by placing her fingers on the lips and throat of those who talked with her. But one had to talk slowly with her, articulating each word carefully. Nonetheless, her crude speech and her lip-reading facility further opened her mind and enlarged her experience.\n",
       "\n",
       " Each of the young girl's advances brought pressure on her from her elders for new wonders and this inevitably fed public skepticism. This was intensified when, in 1892, a story appeared under her name that was easily identified as similar in thought and language to an already published fable. Although she denied the charge of plagiarism, the episode hurt Miss Keller for many years.\n",
       "\n",
       " In that period, she was also exploited through such incidents as publicized trips to Niagara Falls and visits to the Worlds Fair of 1893 in the company of Bell.\n",
       "\n",
       " When she was 14, in 1894, Miss Keller undertook formal schooling, first at the Wright- Humason School for the Deaf in New York and then at the Cambridge (Mass.) School for Young Ladies. With Miss Sullivan at her side and spelling into her hand, Miss Keller prepared herself for admission to Radcliffe, which she entered in the fall of 1900. It was indeed an amazing feat, for the examinations she took were those given to unhandicapped applicants, but no more astonishing than her graduation cum laude in 1904, with honors in German and English. Miss Sullivan was with her when she received her diploma, which she obtained by sheer stubbornness and determination. \"I slip back many times,:\" she wrote of her college years. \"I fall, I stand still. I run against the edge of hidden obstacles. I lose my temper and find it again, and keep it better. I trudge on, I gain a little. I feel encouraged. I get more eager and climb higher and begin to see widening horizons.\"\n",
       "\n",
       " While still in Radcliffe, Miss Keller wrote, on her Hammond typewriter, her first autobiography. \"The Story of My Life\" was published serially in The Ladies Home Journal and, in 1902, as a book. It consisted largely of themes written for an English composition course conducted by Prof. Charles Townsend Copeland, Harvard's celebrated \"Copey.\"\n",
       "\n",
       " Most reviewers found the book well written, but some critics, including that of The Nation, scoffed. \"All of her knowledge is hearsay knowledge,\" The Nation **said**, \"her very sensations are for the most part vicarious and she writes of things beyond her power of perception and with the assurance of one who had verified every word.\"\n",
       "\n",
       " Miss Keller's defenders replied that she had ways of knowing things not reckoned by others. When she wrote of the New York subway that it \"opened its jaws like a great beast,\" it was pointed out that she had stroked a lion's mouth and knew whereof she spoke. At a circus zoo she had also shaken hands with a bear, patted a leopard and let a snake curl itself around her. \"I have always felt I was using the five senses within me, that is why my life has been so full and complete,\" Miss Keller **said** at the time. She added that it was quite natural for her to use the words \"look,\" \"see\" and \"hear\" as if she were seeing and hearing in the full physical sense.\n",
       "\n",
       " After college Miss Keller continued to write, publishing \"The World I Live In\" in 1908, \"The Song of the Stone Wall\" in 1910 and \"Out of the Dark\" in 1913. Her writings, mostly inspirational articles, also appeared in national magazines of the time. And with Miss Sullivan at her side she took to the lecture platform.\n",
       "\n",
       " After her formal talks--these were interpreted sentence by sentence by Miss Sullivan-- Miss Keller answered questions, such as \"Do you close your eyes when you go to sleep?\" Her stock response was, \"I never stayed awake to see.\"\n",
       "\n",
       " Meantime, Miss Keller was developing a largeness of spirit on **social** issues, partly as a result of walks through industrial slums, partly because of her special interest in the high incidence of blindness among the poor and partly because of her conversations with John Macy, Miss Sullivan's **husband**, a **social** critic. She was further impelled toward Socialism in 1908 when she read H. G. Well's \"New Worlds for Old.\"\n",
       "\n",
       " Joined Socialist Party\n",
       "\n",
       " These influences, in turn, led her to read Marx and Engels in German Braille, and in 1909 she joined the Socialist party in Massachusetts. For many years she was an active member, writing incisive articles in defense of Socialism, lecturing for the party, supporting trade unions and strikes and opposing American entry into World War I. She was among those Socialists who welcomed the Bolshevik Revolution in Russia in 1917.\n",
       "\n",
       " Although Miss Keller's Socialist activities diminished after 1921, when she decided that her chief life work was to raise funds for the American Foundation for the Blind, she was always responsive to Socialist and Communist appeals for help in causes involving oppression or exploitation of labor. As late as 1957 she sent a warm greeting to Elizabeth Gurley Flynn, the Communist leader, then in jail on charges of violating the Smith Act.\n",
       "\n",
       " When literary tastes changed after World War I, Miss Keller's income from her writings dwindled, and, to make money, she ventured into vaudeville. She, with Miss Sullivan, was astonishingly successful; no Radcliffe graduate ever did better in variety than she. Harry and Herman Weber, the variety entrepreneurs, presented her in a 20-minute act that toured the country between 1920 and 1924. (Although some of her friends were scandalized, Miss Keller enjoyed herself enormously and argued that her appearances helped the cause of the blind.)\n",
       "\n",
       " In the Keller-Sullivan act, the rising curtain showed a drawing room with a garden seen through French windows. Miss Sullivan came on stage to the strains of Mendelssohn's \"Spring Song\" and told a little about Miss Keller's life. Then the star parted a curtain, entered and spoke for a few minutes. The Times review of her debut at the Palace **said**: \"Helen Keller has conquered again, and the Monday afternoon audience at the Palace, one of the most critical and cynical in the world, was hers.\"\n",
       "\n",
       " On the vaudeville tour, Miss Keller, who had already met scores of famous people, formed friendships with such celebrities as Sophie Tucker, Charlie Chaplin, Enrico Caruso, Jascha Heifetz and Harpo Marx.\n",
       "\n",
       " In the twenties, Miss Keller, Miss Sullivan and her **husband** and Miss Thomson (who had joined the household in 1914) moved from Wrentham, Mass., to Forest Hills, Queens, in New York. Miss Keller used this home as a base for her extensive fund-raising tours for the American Foundation for the Blind, of which she was counselor until her death. In this effort she talked in churches, synagogues and town halls. She not only collected money, but also sought to alleviate the living and working conditions of the blind. In those years the blind were frequently ill-educated and maintained in asylums; her endeavors were a major factor in changing these conditions.\n",
       "\n",
       " A tireless traveler, Miss Keller toured the world with Miss Sullivan and Miss Thomson in the years before World War II. Everywhere she went she lectured in behalf of the blind and the deaf; and, inevitably, she met everyone of consequence. She also found time for writing: \"My Religion\" in 1927; \"Midstream--My Later Life\" in 1930; \"Peace at Eventide\" in 1932; \"Helen\n",
       "\n",
       " Keller's Journal\" in 1938; and \"Teacher\" in 1955.\n",
       "\n",
       " The \"Journal,\" one of her most luminous books, discloses the acuity and range of Miss Keller's mind in the thirties. In her comments on political, **social** and literary matters, she condemned\n",
       "\n",
       " Hitlerism, cheered the sitdown strikes of John L. Lewis's Committee for Industrial Organization and criticized Margaret Mitchell's \"Gone With the Wind\" as overlooking the brutalities of Southern slavery.\n",
       "\n",
       " Although she did not refer to it conspicuously Miss Keller was religious, but not a churchgoer. While quite young she was converted to the mystic New Church doctrines of Emanuel Swedenborg. The object of his doctrine was to make Christianity a living reality on earth through divine love, a theology that fitted Miss Keller's sense of **social** mission.\n",
       "\n",
       " Frustrated Romance\n",
       "\n",
       " Although Miss Keller's serenity was buttressed by her religious faith, she was subjected in adulthood to criticisms and crises that sometimes unsettled her. Other people, she discovered, were attempting to run her life, and she was helpless to counter them. The most frustrating such episode occurred in 1916 during an illness of Miss Sullivan.\n",
       "\n",
       " Miss Keller, then 36, fell in love with Peter Fagan, a 29-year-old Socialist and newspaperman who was her temporary secretary. The couple took out a marriage license, intending a secret wedding. But a Boston reporter found out about the license, and his witless article on the romance horrified the stern Mrs. Keller, who ordered Mr. Fagan out of the house and broke up the love affair. \"The love which had come, unseen and unexpected, departed with tempest on his wings,\" Miss Keller wrote in sadness, adding that the love remained with her as \"a little island of joy surrounded by dark waters.\"\n",
       "\n",
       " For years her spinsterhood was a chief disappointment. \"If I could see,\" she **said** bitterly, \"I would marry first of all.\"\n",
       "\n",
       " With Miss Sullivan's death in 1936, Miss Keller and Miss Thomson moved from New York to Westport, Conn., Miss Keller's home for the rest of her life. At Westport she made friends with its artists (Jo Davidson executed a sculpture of her) and its writers (Van Wyck Brooks wrote a biographical sketch).\n",
       "\n",
       " With Mr. and Mrs. Davidson, Miss Keller and Miss Thomson toured France and Italy in 1950, where Miss Keller saw great sculptures with her fingers under Mr. Davidson's tutelage. \"What a privilege it has been,\" Mrs. Davidson remarked to a friend, \"to live with Helen and Polly. Every day Helen delights us more and more--her noble simplicity, her ability to drink in the feel of things, and that spring of joyousness that bubbles up to the surface at the slightest pressure.\"\n",
       "\n",
       " Royalties and Stipend\n",
       "\n",
       " In her middle and late years Miss Keller's income was derived from her book royalties and a stipend from the Foundation for the Blind. After Miss Thomson's death in 1960, a trustee conducted most of her affairs.\n",
       "\n",
       " For her work in behalf of the blind and the deaf, in which she was actively engaged up to 1962, Miss Keller was honored by universities and institutions throughout the world--the universities of Harvard,\n",
       "\n",
       " Glasgow, Berlin and Delhi, among them. She was received in the White House by every president from Grover Cleveland to John F. Kennedy.\n",
       "\n",
       " In 1964 she was one of 30 Americans on whom President Johnson conferred the nation's highest civilian recognition, the Presidential Medal of Freedom.\n",
       "\n",
       " Despite the celebrity that accrued to her and the air of awesomeness with which she was surrounded in her later years, Miss Keller retained an unaffected personality and a certainty that her optimistic attitude toward life was justified. \"I believe that all through these dark and silent years, God has been using my life for a purpose I do not know,\" she **said** recently, adding: \"But one day I shall understand and then I will be satisfied.\"\n",
       "\n",
       " \n",
       "\n"
      ],
      "text/plain": [
       "<IPython.core.display.Markdown object>"
      ]
     },
     "metadata": {},
     "output_type": "display_data"
    }
   ],
   "source": [
    "display_bolded_topic_words_in_context(topic_number=3, number_of_documents=3)"
   ]
  },
  {
   "cell_type": "markdown",
   "metadata": {},
   "source": [
    "## Exercise 2: Visualizing and analyzing topics\n",
    "\n",
    "## Your Turn!\n",
    "\n",
    "Choose a topic from the results above and write down its corresponding topic number below.\n",
    "\n",
    "**Topic: [Your Number Choice Here]**\n",
    "\n",
    "1. Display the top 6 obituary titles for this topic."
   ]
  },
  {
   "cell_type": "code",
   "execution_count": 32,
   "metadata": {},
   "outputs": [],
   "source": [
    "# Your Code Here"
   ]
  },
  {
   "cell_type": "markdown",
   "metadata": {},
   "source": [
    "2. Display the topic words in the context of the original obituary for these 6 top titles."
   ]
  },
  {
   "cell_type": "code",
   "execution_count": 33,
   "metadata": {},
   "outputs": [],
   "source": [
    "# Your Code Here"
   ]
  },
  {
   "cell_type": "markdown",
   "metadata": {},
   "source": [
    "3. Come up with a label for your topic and double-click on the cell below to write it down:"
   ]
  },
  {
   "cell_type": "markdown",
   "metadata": {},
   "source": []
  },
  {
   "cell_type": "markdown",
   "metadata": {},
   "source": [
    "4. Why did you label your topic the way you did? What do you think this topic means in the context of all the *NYT* obituaries?"
   ]
  },
  {
   "cell_type": "markdown",
   "metadata": {},
   "source": []
  },
  {
   "cell_type": "markdown",
   "metadata": {},
   "source": [
    "5. What’s another collection of texts that you think might be interesting to topic model? Why?"
   ]
  },
  {
   "cell_type": "markdown",
   "metadata": {},
   "source": []
  }
 ],
 "metadata": {
  "kernelspec": {
   "display_name": "Python 3",
   "language": "python",
   "name": "python3"
  },
  "language_info": {
   "codemirror_mode": {
    "name": "ipython",
    "version": 3
   },
   "file_extension": ".py",
   "mimetype": "text/x-python",
   "name": "python",
   "nbconvert_exporter": "python",
   "pygments_lexer": "ipython3",
   "version": "3.8.3"
  }
 },
 "nbformat": 4,
 "nbformat_minor": 4
}
