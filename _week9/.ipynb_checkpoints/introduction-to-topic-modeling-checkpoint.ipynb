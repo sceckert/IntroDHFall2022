{
 "cells": [
  {
   "cell_type": "markdown",
   "metadata": {},
   "source": [
    "# Introduction to Topic Modeling\n",
    "\n",
    "In today's lesson, we're going to be working on method of text analysis called \"topic modeling\".\n",
    "\n",
    "- [Part 1: What is a topic model?](#Part-1:-What-is-a-topic-model?)\n",
    "- [Part 2: Topic Modeling Historical *New York Times* Obituaries (1852-2007)](#Part-2:-Topic-Modeling-Historical-*New-York-Times*-Obituaries-(1852-2007))\n",
    "- [Part 3: Visualizing topic modeling results](#Part-3:-Visualizing-topic-modeling-results)\n",
    "\n",
    "\n",
    "\n",
    "## Part 1: What is a topic model?\n",
    "\n",
    "![image](../_images/blei-lda.png)\n",
    "From David Blei, \"Probablistic topic modeling\" (2012)\n",
    "\n",
    "How do I \"topic model\"?\n",
    "\n",
    "1. [**MALLET: MAchine Learning for LanguagE Toolkit**](http://mallet.cs.umass.edu/index.php)\n",
    "    - ![image](../_images/MALLET.png)\n",
    "\n",
    "\n",
    "2. **David Mimno's in-browswer topic model:**\n",
    "    - ![image](../_images/mimno-browser1.png)\n",
    "\n",
    "    - ![image](../_images/mimno-browser2.png)\n",
    "\n",
    "\n",
    "3. **Today: Topic Modeling using MALLET within Python**"
   ]
  },
  {
   "cell_type": "markdown",
   "metadata": {},
   "source": [
    "A Note:\n",
    "1. You can follow along with today's tutiral in Binder\n",
    "2. You can download this notebook and run it on your own machine.\n",
    "\n",
    "If you are running this notebook in the cloud, all of the necessary software has already been downloaded. \n",
    "\n",
    "If you are running this notebook locally, you need to have a few things installed:\n",
    "- See [Instructions on how to install Java Development Kit, MALLET,  little_mallet_wrapper and seaborn](https://github.com/sceckert/IntroDHFall2022/blob/main/_week9/topic-modeling-set-up-instructions.md)\n",
    "\n"
   ]
  },
  {
   "cell_type": "markdown",
   "metadata": {},
   "source": [
    "## Part 2: Topic Modeling Historical *New York Times* Obituaries (1852-2007)\n",
    "\n",
    "## Let's get started!\n",
    "\n",
    "In this particular lesson, we’re going to use [Little MALLET Wrapper](https://github.com/maria-antoniak/little-mallet-wrapper), a Python wrapper for [MALLET](http://mallet.cs.umass.edu/index.php), to topic model 379 obituaries of significant historical figures published by *The New York Times*. This dataset is based on data originally collected by Matt Lavin for his Programming Historian [TF-IDF tutorial](https://programminghistorian.org/en/lessons/analyzing-documents-with-tfidf). Melanie Walsh cleaned the obituaries so that the subject’s name and death year is included in each text file name, added 13 more “Overlooked” obituaries, including Karen Spärck Jones, the computer scientist who introduced TF-IDF. \n",
    "\n",
    "This dataset can be found on our GitHub page under \"_datasets/texts/history/NYT-Obituaries\"\n",
    "\n",
    "\n",
    "## Import Packages"
   ]
  },
  {
   "cell_type": "code",
   "execution_count": null,
   "metadata": {},
   "outputs": [],
   "source": [
    "!pip install little_mallet_wrapper"
   ]
  },
  {
   "cell_type": "code",
   "execution_count": 17,
   "metadata": {},
   "outputs": [],
   "source": [
    "import little_mallet_wrapper\n",
    "import seaborn\n",
    "import glob\n",
    "import os\n",
    "from pathlib import Path"
   ]
  },
  {
   "cell_type": "markdown",
   "metadata": {},
   "source": [
    "## Set the path to MALLET\n",
    "Note: if you're running this notebook on your *local* machine, you need to replace the path below with the path to mallet on your own machine. Run the cell below"
   ]
  },
  {
   "cell_type": "code",
   "execution_count": 20,
   "metadata": {},
   "outputs": [],
   "source": [
    "path_to_mallet = 'mallet-2.0.8/bin/mallet'"
   ]
  },
  {
   "cell_type": "markdown",
   "metadata": {},
   "source": [
    "## Define our corpus of texts\n",
    "In this workshop, we'll be working on a dataset of NYT Obituaries, produced by Matt Lavin as part of his TF-IDF workshop, with a few recent additions added by Melanie Walsh"
   ]
  },
  {
   "cell_type": "code",
   "execution_count": 21,
   "metadata": {},
   "outputs": [],
   "source": [
    "# Make a variable and assign it to the path to our directory that contains our text files\n",
    "directory = \"../_datasets/NYT-Obituaries/\""
   ]
  },
  {
   "cell_type": "markdown",
   "metadata": {},
   "source": [
    "Using the `glob` function and the wildcard `*`, we're going to make a list of all the text files in our directory."
   ]
  },
  {
   "cell_type": "code",
   "execution_count": 22,
   "metadata": {},
   "outputs": [],
   "source": [
    "files = glob.glob(f\"{directory}/*.txt\")"
   ]
  },
  {
   "cell_type": "code",
   "execution_count": 23,
   "metadata": {},
   "outputs": [
    {
     "data": {
      "text/plain": [
       "['../_datasets/NYT-Obituaries/1945-Adolf-Hitler.txt',\n",
       " '../_datasets/NYT-Obituaries/1915-F-W-Taylor.txt',\n",
       " '../_datasets/NYT-Obituaries/1975-Chiang-Kai-shek.txt',\n",
       " '../_datasets/NYT-Obituaries/1984-Ethel-Merman.txt',\n",
       " '../_datasets/NYT-Obituaries/1953-Jim-Thorpe.txt',\n",
       " '../_datasets/NYT-Obituaries/1964-Nella-Larsen.txt',\n",
       " '../_datasets/NYT-Obituaries/1955-Margaret-Abbott.txt',\n",
       " '../_datasets/NYT-Obituaries/1984-Lillian-Hellman.txt',\n",
       " '../_datasets/NYT-Obituaries/1959-Cecil-De-Mille.txt',\n",
       " '../_datasets/NYT-Obituaries/1928-Mabel-Craty.txt',\n",
       " '../_datasets/NYT-Obituaries/1973-Eddie-Rickenbacker.txt',\n",
       " '../_datasets/NYT-Obituaries/1989-Ferdinand-Marcos.txt',\n",
       " '../_datasets/NYT-Obituaries/1991-Martha-Graham.txt',\n",
       " '../_datasets/NYT-Obituaries/1997-Deng-Xiaoping.txt',\n",
       " '../_datasets/NYT-Obituaries/1938-George-E-Hale.txt',\n",
       " '../_datasets/NYT-Obituaries/1885-Ulysses-Grant.txt',\n",
       " '../_datasets/NYT-Obituaries/1909-Sarah-Orne-Jewett.txt',\n",
       " '../_datasets/NYT-Obituaries/1957-Christian-Dior.txt',\n",
       " '../_datasets/NYT-Obituaries/1987-Clare-Boothe-Luce.txt',\n",
       " '../_datasets/NYT-Obituaries/1976-Jacques-Monod.txt',\n",
       " '../_datasets/NYT-Obituaries/1954-Getulio-Vargas.txt',\n",
       " '../_datasets/NYT-Obituaries/1979-Stan-Kenton.txt',\n",
       " '../_datasets/NYT-Obituaries/1990-Leonard-Bernstein.txt',\n",
       " '../_datasets/NYT-Obituaries/1972-Jackie-Robinson.txt',\n",
       " '../_datasets/NYT-Obituaries/1998-Fred-W-Friendly.txt',\n",
       " '../_datasets/NYT-Obituaries/1991-Leo-Durocher.txt',\n",
       " '../_datasets/NYT-Obituaries/1915-B-T-Washington.txt',\n",
       " '../_datasets/NYT-Obituaries/1997-James-Stewart.txt',\n",
       " '../_datasets/NYT-Obituaries/1981-Joe-Louis.txt',\n",
       " '../_datasets/NYT-Obituaries/1983-Muddy-Waters.txt',\n",
       " '../_datasets/NYT-Obituaries/1942-George-M-Cohan.txt',\n",
       " '../_datasets/NYT-Obituaries/1989-Samuel-Beckett.txt',\n",
       " '../_datasets/NYT-Obituaries/1962-Marilyn-Monroe.txt',\n",
       " '../_datasets/NYT-Obituaries/2000-Charles-M-Schulz.txt',\n",
       " '../_datasets/NYT-Obituaries/1967-Gregory-Pincus.txt',\n",
       " '../_datasets/NYT-Obituaries/1894-R-L-Stevenson.txt',\n",
       " '../_datasets/NYT-Obituaries/1978-Bruce-Catton.txt',\n",
       " '../_datasets/NYT-Obituaries/1982-Arthur-Rubinstein.txt',\n",
       " '../_datasets/NYT-Obituaries/1875-Andrew-Johnson.txt',\n",
       " '../_datasets/NYT-Obituaries/1974-Charles-Lindbergh.txt',\n",
       " '../_datasets/NYT-Obituaries/1964-Rachel-Carson.txt',\n",
       " '../_datasets/NYT-Obituaries/1953-Marjorie-Rawlings.txt',\n",
       " '../_datasets/NYT-Obituaries/1973-Otto-Klemperer.txt',\n",
       " '../_datasets/NYT-Obituaries/1963-Sylvia-Plath.txt',\n",
       " '../_datasets/NYT-Obituaries/1956-Charles-Merrill.txt',\n",
       " '../_datasets/NYT-Obituaries/1966-Lenny-Bruce.txt',\n",
       " '../_datasets/NYT-Obituaries/1908-Cleveland.txt',\n",
       " '../_datasets/NYT-Obituaries/1982-Anna-Freud.txt',\n",
       " '../_datasets/NYT-Obituaries/1941-Frank-Conrad.txt',\n",
       " '../_datasets/NYT-Obituaries/1966-Alfred-P-Sloan-Jr.txt',\n",
       " '../_datasets/NYT-Obituaries/1960-Beno-Gutenberg.txt',\n",
       " '../_datasets/NYT-Obituaries/1976-J-Paul-Getty.txt',\n",
       " '../_datasets/NYT-Obituaries/1891-P-T-Barnum.txt',\n",
       " '../_datasets/NYT-Obituaries/1901-Queen-Victoria.txt',\n",
       " '../_datasets/NYT-Obituaries/1970-Erich-Maria-Remarque.txt',\n",
       " '../_datasets/NYT-Obituaries/1989-August-A-Busch-Jr.txt',\n",
       " '../_datasets/NYT-Obituaries/1992-John-Cage.txt',\n",
       " '../_datasets/NYT-Obituaries/1994-Erik-Erikson.txt',\n",
       " '../_datasets/NYT-Obituaries/1990-Erte.txt',\n",
       " '../_datasets/NYT-Obituaries/1966-Chester-Nimitz.txt',\n",
       " '../_datasets/NYT-Obituaries/1954-Enrico-Fermi.txt',\n",
       " '../_datasets/NYT-Obituaries/1961-Primitive-Artist.txt',\n",
       " '../_datasets/NYT-Obituaries/1945-Bela-Bartok.txt',\n",
       " '../_datasets/NYT-Obituaries/1978-Pope-Paul-VI.txt',\n",
       " '../_datasets/NYT-Obituaries/1965-Martin-Buber.txt',\n",
       " '../_datasets/NYT-Obituaries/1971-Diane-Arbus.txt',\n",
       " '../_datasets/NYT-Obituaries/1973-Lyndon-Johnson.txt',\n",
       " '../_datasets/NYT-Obituaries/1998-Bob-Kane.txt',\n",
       " '../_datasets/NYT-Obituaries/1969-Judy-Garland.txt',\n",
       " '../_datasets/NYT-Obituaries/1959-Frank-Lloyd-Wright.txt',\n",
       " '../_datasets/NYT-Obituaries/1995-Ginger-Rogers.txt',\n",
       " '../_datasets/NYT-Obituaries/1920-Marlene-Dietrich.txt',\n",
       " '../_datasets/NYT-Obituaries/1998-Alan-B-Shepard-Jr.txt',\n",
       " '../_datasets/NYT-Obituaries/1971-Khrushchev.txt',\n",
       " '../_datasets/NYT-Obituaries/1935-Justice-Holmes.txt',\n",
       " '../_datasets/NYT-Obituaries/1969-David-Eisenhower.txt',\n",
       " '../_datasets/NYT-Obituaries/1992-Marsha-P-Johnson.txt',\n",
       " '../_datasets/NYT-Obituaries/1914-Alfred-Thayer-Mahan.txt',\n",
       " '../_datasets/NYT-Obituaries/1965-Branch-Rickey.txt',\n",
       " '../_datasets/NYT-Obituaries/2007-Karen-Sparck-Jones.txt',\n",
       " '../_datasets/NYT-Obituaries/1965-Albert-Schweitzer.txt',\n",
       " '../_datasets/NYT-Obituaries/1992-Isaac-Asimov.txt',\n",
       " '../_datasets/NYT-Obituaries/1989-William-B-Shockley.txt',\n",
       " '../_datasets/NYT-Obituaries/1910-William-James.txt',\n",
       " '../_datasets/NYT-Obituaries/1951-Fanny-Brice.txt',\n",
       " '../_datasets/NYT-Obituaries/1916-Jack-London.txt',\n",
       " '../_datasets/NYT-Obituaries/1947-Al-Capone.txt',\n",
       " '../_datasets/NYT-Obituaries/1989-Lucille-Ball.txt',\n",
       " '../_datasets/NYT-Obituaries/1980-Jean-Paul-Sartre.txt',\n",
       " '../_datasets/NYT-Obituaries/1969-Sonja-Henie.txt',\n",
       " '../_datasets/NYT-Obituaries/1976-Adolph-Zukor.txt',\n",
       " '../_datasets/NYT-Obituaries/1959-John-Dulles.txt',\n",
       " '../_datasets/NYT-Obituaries/1980-Alfred-Hitchcock.txt',\n",
       " '../_datasets/NYT-Obituaries/1901-Benjamin-Harrison.txt',\n",
       " '../_datasets/NYT-Obituaries/1994-Richard-Nixon.txt',\n",
       " '../_datasets/NYT-Obituaries/1917-Hilaire-G-E-Degas.txt',\n",
       " '../_datasets/NYT-Obituaries/1987-James-Baldwin.txt',\n",
       " '../_datasets/NYT-Obituaries/1941-Virginia-Woolf.txt',\n",
       " '../_datasets/NYT-Obituaries/1922-Alexander-Graham-Bell.txt',\n",
       " '../_datasets/NYT-Obituaries/1907-Qiu-Jin.txt',\n",
       " '../_datasets/NYT-Obituaries/1895-Fred-Douglass.txt',\n",
       " '../_datasets/NYT-Obituaries/1971-Florence-Blanchfield.txt',\n",
       " '../_datasets/NYT-Obituaries/1984-Ray-A-Kroc.txt',\n",
       " '../_datasets/NYT-Obituaries/1947-Fiorello-La-Guardia.txt',\n",
       " '../_datasets/NYT-Obituaries/1988-Louis-L-Amour.txt',\n",
       " '../_datasets/NYT-Obituaries/1902-Elizabeth-Cady-Stanton.txt',\n",
       " '../_datasets/NYT-Obituaries/1965-Shirley-Jackson.txt',\n",
       " '../_datasets/NYT-Obituaries/1979-John-Wayne.txt',\n",
       " '../_datasets/NYT-Obituaries/1994-Thomas-P-O-Neill-Jr.txt',\n",
       " '../_datasets/NYT-Obituaries/1982-Thelonious-Monk.txt',\n",
       " '../_datasets/NYT-Obituaries/1919-C-J-Walker.txt',\n",
       " '../_datasets/NYT-Obituaries/1954-Liberty-H-Bailey.txt',\n",
       " '../_datasets/NYT-Obituaries/1977-Dash-Ended.txt',\n",
       " '../_datasets/NYT-Obituaries/1936-Maxim-Gorky.txt',\n",
       " '../_datasets/NYT-Obituaries/2000-Pierre-Trudeau.txt',\n",
       " '../_datasets/NYT-Obituaries/1976-Mao-Tse-Tung.txt',\n",
       " '../_datasets/NYT-Obituaries/1955-Walter-White.txt',\n",
       " '../_datasets/NYT-Obituaries/1930-Conan-Doyle.txt',\n",
       " '../_datasets/NYT-Obituaries/1995-Jonas-Salk.txt',\n",
       " '../_datasets/NYT-Obituaries/1949-Mitchell.txt',\n",
       " '../_datasets/NYT-Obituaries/1951-Henrietta-Lacks.txt',\n",
       " '../_datasets/NYT-Obituaries/1903-James-M-N-Whistler.txt',\n",
       " '../_datasets/NYT-Obituaries/1950-A-J-Dempster.txt',\n",
       " '../_datasets/NYT-Obituaries/1937-Edith-Wharton.txt',\n",
       " '../_datasets/NYT-Obituaries/1935-Jane-Addams.txt',\n",
       " '../_datasets/NYT-Obituaries/1941-James-Joyce.txt',\n",
       " '../_datasets/NYT-Obituaries/1952-John-Dewey.txt',\n",
       " '../_datasets/NYT-Obituaries/1940-Marcus-Garvey.txt',\n",
       " '../_datasets/NYT-Obituaries/1971-Louis-Armstrong.txt',\n",
       " '../_datasets/NYT-Obituaries/1923-Warren-Harding.txt',\n",
       " '../_datasets/NYT-Obituaries/1937-John-Rockefeller.txt',\n",
       " '../_datasets/NYT-Obituaries/2000-Elliot-Richardson.txt',\n",
       " '../_datasets/NYT-Obituaries/1972-J-Edgar-Hoover.txt',\n",
       " '../_datasets/NYT-Obituaries/1975-Franco.txt',\n",
       " '../_datasets/NYT-Obituaries/1973-Jeanette-Rankin.txt',\n",
       " '../_datasets/NYT-Obituaries/1888-Louisa-M-Alcott.txt',\n",
       " '../_datasets/NYT-Obituaries/1977-Charles-Chaplin.txt',\n",
       " '../_datasets/NYT-Obituaries/1990-Ralph-David-Abernathy.txt',\n",
       " '../_datasets/NYT-Obituaries/1946-Lord-Keynes.txt',\n",
       " '../_datasets/NYT-Obituaries/1996-Gene-Kelly.txt',\n",
       " '../_datasets/NYT-Obituaries/1973-Roberto-Clemente.txt',\n",
       " '../_datasets/NYT-Obituaries/1986-Georgia-O-Keeffe.txt',\n",
       " '../_datasets/NYT-Obituaries/1990-Rex-Harrison.txt',\n",
       " '../_datasets/NYT-Obituaries/1916-Martian-Theory.txt',\n",
       " '../_datasets/NYT-Obituaries/1961-Ernest-Hemingway.txt',\n",
       " '../_datasets/NYT-Obituaries/1978-Margaret-Mead.txt',\n",
       " '../_datasets/NYT-Obituaries/1982-Ingrid-Bergman.txt',\n",
       " '../_datasets/NYT-Obituaries/1946-C-E-M-Clung.txt',\n",
       " '../_datasets/NYT-Obituaries/1977-Maria-Callas.txt',\n",
       " '../_datasets/NYT-Obituaries/1952-Eva-Peron.txt',\n",
       " '../_datasets/NYT-Obituaries/1961-Emily-Balch.txt',\n",
       " '../_datasets/NYT-Obituaries/1979-Arthur-Fiedler.txt',\n",
       " '../_datasets/NYT-Obituaries/1896-Harriet-Beecher-Stowe.txt',\n",
       " '../_datasets/NYT-Obituaries/1989-Andrei-Sakharov.txt',\n",
       " '../_datasets/NYT-Obituaries/1939-W-B-Yeats.txt',\n",
       " '../_datasets/NYT-Obituaries/1961-Hammarskjold.txt',\n",
       " '../_datasets/NYT-Obituaries/1969-Madhubala.txt',\n",
       " '../_datasets/NYT-Obituaries/1970-Edouard-Daladier.txt',\n",
       " '../_datasets/NYT-Obituaries/1988-John-Houseman.txt',\n",
       " '../_datasets/NYT-Obituaries/1992-William-Shawn.txt',\n",
       " '../_datasets/NYT-Obituaries/1950-Edna-St-V-Millay.txt',\n",
       " '../_datasets/NYT-Obituaries/1989-Claude-Pepper.txt',\n",
       " '../_datasets/NYT-Obituaries/1929-Marie-Curie.txt',\n",
       " '../_datasets/NYT-Obituaries/1972-The-Duke-of-Windsor.txt',\n",
       " '../_datasets/NYT-Obituaries/1984-Count-Basie.txt',\n",
       " '../_datasets/NYT-Obituaries/1998-Helen-Moody.txt',\n",
       " '../_datasets/NYT-Obituaries/1936-Anne-Macy.txt',\n",
       " '../_datasets/NYT-Obituaries/1900-Nietzsche.txt',\n",
       " '../_datasets/NYT-Obituaries/1880-Lucretia-Mott.txt',\n",
       " '../_datasets/NYT-Obituaries/1967-J-Robert-Oppenheimer.txt',\n",
       " '../_datasets/NYT-Obituaries/1984-Richard-Burton.txt',\n",
       " '../_datasets/NYT-Obituaries/1964-Sean-O-Casey.txt',\n",
       " '../_datasets/NYT-Obituaries/1931-Thomas-Edison.txt',\n",
       " '../_datasets/NYT-Obituaries/1971-Bobby-Jones.txt',\n",
       " '../_datasets/NYT-Obituaries/1914-John-P-Holland.txt',\n",
       " '../_datasets/NYT-Obituaries/1995-George-Abbott.txt',\n",
       " '../_datasets/NYT-Obituaries/1950-Henry-L-Stimson.txt',\n",
       " '../_datasets/NYT-Obituaries/1955-Dale-Carnegie.txt',\n",
       " '../_datasets/NYT-Obituaries/1934-T-A-Watson.txt',\n",
       " '../_datasets/NYT-Obituaries/1968-Martin-Luther-King-Jr.txt',\n",
       " '../_datasets/NYT-Obituaries/1933-Louis-C-Tiffany.txt',\n",
       " '../_datasets/NYT-Obituaries/1909-Geronimo.txt',\n",
       " '../_datasets/NYT-Obituaries/1952-Charles-Spaulding.txt',\n",
       " '../_datasets/NYT-Obituaries/1922-Nellie-Bly.txt',\n",
       " '../_datasets/NYT-Obituaries/1955-Cy-Young.txt',\n",
       " '../_datasets/NYT-Obituaries/1993-Arthur-Ashe.txt',\n",
       " '../_datasets/NYT-Obituaries/1986-Bernard-Malamud.txt',\n",
       " '../_datasets/NYT-Obituaries/1939-Howard-Carter.txt',\n",
       " '../_datasets/NYT-Obituaries/1994-Linus-C-Pauling.txt',\n",
       " '../_datasets/NYT-Obituaries/1967-Langston-Hughes.txt',\n",
       " '../_datasets/NYT-Obituaries/1948-Mohandas-K-Gandhi.txt',\n",
       " '../_datasets/NYT-Obituaries/1931-Melvil-Dewey.txt',\n",
       " '../_datasets/NYT-Obituaries/1969-Everett-Dirksen.txt',\n",
       " '../_datasets/NYT-Obituaries/1968-Helen-Keller.txt',\n",
       " '../_datasets/NYT-Obituaries/1992-Alex-Haley.txt',\n",
       " '../_datasets/NYT-Obituaries/1953-Eugene-O-Neill.txt',\n",
       " '../_datasets/NYT-Obituaries/1981-Anwar-el-Sadat.txt',\n",
       " '../_datasets/NYT-Obituaries/1937-Maurice-Ravel.txt',\n",
       " '../_datasets/NYT-Obituaries/1966-Margaret-Sanger.txt',\n",
       " '../_datasets/NYT-Obituaries/1989-I-F-Stone.txt',\n",
       " '../_datasets/NYT-Obituaries/1943-J-H-Kellogg.txt',\n",
       " '../_datasets/NYT-Obituaries/1985-Roger-Maris.txt',\n",
       " '../_datasets/NYT-Obituaries/1972-Mahalia-Jackson.txt',\n",
       " '../_datasets/NYT-Obituaries/1990-Greta-Garbo.txt',\n",
       " '../_datasets/NYT-Obituaries/1998-Benjamin-Spock.txt',\n",
       " '../_datasets/NYT-Obituaries/1994-Jessica-Tandy.txt',\n",
       " '../_datasets/NYT-Obituaries/1979-Richard-Rodgers.txt',\n",
       " '../_datasets/NYT-Obituaries/1958-W-C-Handy.txt',\n",
       " '../_datasets/NYT-Obituaries/1974-Ed-Sullivan.txt',\n",
       " '../_datasets/NYT-Obituaries/1989-Hirohito.txt',\n",
       " '../_datasets/NYT-Obituaries/1933-Calvin-Coolidge.txt',\n",
       " '../_datasets/NYT-Obituaries/1969-Ho-Chi-Minh.txt',\n",
       " '../_datasets/NYT-Obituaries/1987-John-Huston.txt',\n",
       " '../_datasets/NYT-Obituaries/1984-Johnny-Weissmuller.txt',\n",
       " '../_datasets/NYT-Obituaries/1969-Maureen-Connolly.txt',\n",
       " '../_datasets/NYT-Obituaries/1968-Yuri-Gagarin.txt',\n",
       " '../_datasets/NYT-Obituaries/1991-Peggy-Ashcroft.txt',\n",
       " '../_datasets/NYT-Obituaries/1979-A-Philip-Randolph.txt',\n",
       " '../_datasets/NYT-Obituaries/1946-Gertrude-Stein.txt',\n",
       " '../_datasets/NYT-Obituaries/1993-Thurgood-Marshall.txt',\n",
       " '../_datasets/NYT-Obituaries/1887-Emma-Lazarus.txt',\n",
       " '../_datasets/NYT-Obituaries/1986-James-Cagney.txt',\n",
       " '../_datasets/NYT-Obituaries/1976-Richard-Daley.txt',\n",
       " '../_datasets/NYT-Obituaries/1977-Joan-Crawford.txt',\n",
       " '../_datasets/NYT-Obituaries/1971-Hugo-Black.txt',\n",
       " '../_datasets/NYT-Obituaries/1954-Henri-Matisse.txt',\n",
       " '../_datasets/NYT-Obituaries/1906-Susan-B-Anthony.txt',\n",
       " '../_datasets/NYT-Obituaries/1990-Sammy-Davis-Jr.txt',\n",
       " '../_datasets/NYT-Obituaries/1914-John-Muir.txt',\n",
       " '../_datasets/NYT-Obituaries/1954-Anne-O-Hare-McCormick.txt',\n",
       " '../_datasets/NYT-Obituaries/1986-Kate-Smith.txt',\n",
       " '../_datasets/NYT-Obituaries/1919-Anna-H-Shaw.txt',\n",
       " '../_datasets/NYT-Obituaries/1980-Jean-Piaget.txt',\n",
       " '../_datasets/NYT-Obituaries/1966-Buster-Keaton.txt',\n",
       " '../_datasets/NYT-Obituaries/1997-Allen-Ginsberg.txt',\n",
       " '../_datasets/NYT-Obituaries/1991-Miles-Davis.txt',\n",
       " '../_datasets/NYT-Obituaries/1982-Satchel-Paige.txt',\n",
       " '../_datasets/NYT-Obituaries/1931-Ida-B-Wells.txt',\n",
       " '../_datasets/NYT-Obituaries/1967-Henry-R-Luce.txt',\n",
       " '../_datasets/NYT-Obituaries/1984-Ansel-Adams.txt',\n",
       " '../_datasets/NYT-Obituaries/1945-Ernie-Pyle.txt',\n",
       " '../_datasets/NYT-Obituaries/1952-Chaim-Weizmann.txt',\n",
       " '../_datasets/NYT-Obituaries/1973-Nancy-Mitford.txt',\n",
       " '../_datasets/NYT-Obituaries/1852-Ada-Lovelace.txt',\n",
       " '../_datasets/NYT-Obituaries/1996-Timothy-Leary.txt',\n",
       " '../_datasets/NYT-Obituaries/1919-Carnegie-Started.txt',\n",
       " '../_datasets/NYT-Obituaries/1989-Andrei-A-Gromyko.txt',\n",
       " '../_datasets/NYT-Obituaries/1965-David-O-Selznick.txt',\n",
       " '../_datasets/NYT-Obituaries/1870-Robert-E-Lee.txt',\n",
       " '../_datasets/NYT-Obituaries/1968-Robert-Francis-Kennedy.txt',\n",
       " '../_datasets/NYT-Obituaries/1900-Stephen-Crane.txt',\n",
       " '../_datasets/NYT-Obituaries/1936-John-W-Heisman.txt',\n",
       " '../_datasets/NYT-Obituaries/1998-Maureen-O-Sullivan.txt',\n",
       " '../_datasets/NYT-Obituaries/1953-Joseph-Stalin.txt',\n",
       " '../_datasets/NYT-Obituaries/1944-Alfred-E-Smith.txt',\n",
       " '../_datasets/NYT-Obituaries/1910-Tolstoy.txt',\n",
       " '../_datasets/NYT-Obituaries/1964-Cole-Porter.txt',\n",
       " '../_datasets/NYT-Obituaries/1983-Jack-Dempsey.txt',\n",
       " '../_datasets/NYT-Obituaries/1975-Haile-Selassie.txt',\n",
       " '../_datasets/NYT-Obituaries/1882-Charles-Darwin.txt',\n",
       " '../_datasets/NYT-Obituaries/1903-Emily-Warren-Roebling.txt',\n",
       " '../_datasets/NYT-Obituaries/1962-Eleanor-Roosevelt.txt',\n",
       " '../_datasets/NYT-Obituaries/1926-Harry-Houdini.txt',\n",
       " '../_datasets/NYT-Obituaries/1955-Albert-Einstein.txt',\n",
       " '../_datasets/NYT-Obituaries/1971-Coco-Chanel.txt',\n",
       " '../_datasets/NYT-Obituaries/1959-Billie-Holiday.txt',\n",
       " '../_datasets/NYT-Obituaries/1969-Coleman-Hawkins.txt',\n",
       " '../_datasets/NYT-Obituaries/1954-Frida-Kahlo.txt',\n",
       " '../_datasets/NYT-Obituaries/1911-Joseph-Pulitzer.txt',\n",
       " '../_datasets/NYT-Obituaries/1993-Carlos-Montoya.txt',\n",
       " '../_datasets/NYT-Obituaries/1947-Max-Planck.txt',\n",
       " '../_datasets/NYT-Obituaries/1985-Orson-Welles.txt',\n",
       " '../_datasets/NYT-Obituaries/1974-Earl-Warren.txt',\n",
       " '../_datasets/NYT-Obituaries/1971-Ralph-Bunche.txt',\n",
       " '../_datasets/NYT-Obituaries/1999-Hassan-II.txt',\n",
       " '../_datasets/NYT-Obituaries/1931-Knute-Rocke.txt',\n",
       " '../_datasets/NYT-Obituaries/1998-Theodore-Schultz.txt',\n",
       " '../_datasets/NYT-Obituaries/1960-Boris-Pasternak.txt',\n",
       " '../_datasets/NYT-Obituaries/1927-Victoria-Martin.txt',\n",
       " '../_datasets/NYT-Obituaries/1943-George-Washington-Carver.txt',\n",
       " '../_datasets/NYT-Obituaries/1956-Thomas-J-Watson-Sr.txt',\n",
       " '../_datasets/NYT-Obituaries/1947-Henry-Ford.txt',\n",
       " '../_datasets/NYT-Obituaries/1953-Fred-Vinson.txt',\n",
       " '../_datasets/NYT-Obituaries/1982-Leonid-Brezhnev.txt',\n",
       " '../_datasets/NYT-Obituaries/1999-King-Hussein.txt',\n",
       " '../_datasets/NYT-Obituaries/1930-Elmer-Sperry.txt',\n",
       " '../_datasets/NYT-Obituaries/1985-E-B-White.txt',\n",
       " '../_datasets/NYT-Obituaries/1959-Ethel-Barrymore.txt',\n",
       " '../_datasets/NYT-Obituaries/1986-Benny-Goodman.txt',\n",
       " '../_datasets/NYT-Obituaries/1963-W-E-B-DuBois.txt',\n",
       " '../_datasets/NYT-Obituaries/1975-Elijah-Muhammad.txt',\n",
       " '../_datasets/NYT-Obituaries/1973-Pablo-Picasso.txt',\n",
       " '../_datasets/NYT-Obituaries/1993-Federico-Fellini.txt',\n",
       " '../_datasets/NYT-Obituaries/1945-Harry-S-Truman.txt',\n",
       " '../_datasets/NYT-Obituaries/1970-De-Gaulle-Rallied.txt',\n",
       " '../_datasets/NYT-Obituaries/1995-Alfred-Eisenstaedt.txt',\n",
       " '../_datasets/NYT-Obituaries/1999-Iris-Murdoch.txt',\n",
       " '../_datasets/NYT-Obituaries/1987-Alf-Landon.txt',\n",
       " '../_datasets/NYT-Obituaries/1998-Bella-Abzug.txt',\n",
       " '../_datasets/NYT-Obituaries/1940-Scott-Fitzgerald.txt',\n",
       " '../_datasets/NYT-Obituaries/1989-Vladimir-Horowitz.txt',\n",
       " '../_datasets/NYT-Obituaries/1969-Mies-van-der-Rohe.txt',\n",
       " '../_datasets/NYT-Obituaries/1944-Ida-M-Tarbell.txt',\n",
       " '../_datasets/NYT-Obituaries/1948-John-Pershing.txt',\n",
       " '../_datasets/NYT-Obituaries/1938-Clarence-Darrow.txt',\n",
       " '../_datasets/NYT-Obituaries/1987-Primo-Levi.txt',\n",
       " '../_datasets/NYT-Obituaries/1971-Igor-Stravinsky.txt',\n",
       " '../_datasets/NYT-Obituaries/1945-George-Patton.txt',\n",
       " '../_datasets/NYT-Obituaries/1930-William-Howard-Taft.txt',\n",
       " '../_datasets/NYT-Obituaries/1935-Will-Rogers.txt',\n",
       " '../_datasets/NYT-Obituaries/1992-Shirley-Booth.txt',\n",
       " '../_datasets/NYT-Obituaries/1994-Jacqueline-Kennedy.txt',\n",
       " '../_datasets/NYT-Obituaries/1933-Ring-Lardner.txt',\n",
       " '../_datasets/NYT-Obituaries/1974-Sylvia-Plath.txt',\n",
       " '../_datasets/NYT-Obituaries/1945-FDR.txt',\n",
       " '../_datasets/NYT-Obituaries/1995-Yitzhak-Rabin.txt',\n",
       " '../_datasets/NYT-Obituaries/1960-Emily-Post.txt',\n",
       " '../_datasets/NYT-Obituaries/1984-Truman-Capote.txt',\n",
       " '../_datasets/NYT-Obituaries/1968-Upton-Sinclair.txt',\n",
       " '../_datasets/NYT-Obituaries/1994-Jan-Tinbergen.txt',\n",
       " '../_datasets/NYT-Obituaries/1957-Gerard-Swope.txt',\n",
       " '../_datasets/NYT-Obituaries/1993-Albert-Sabin.txt',\n",
       " '../_datasets/NYT-Obituaries/1955-Thomas-Mann.txt',\n",
       " '../_datasets/NYT-Obituaries/1991-Dr-Seuss.txt',\n",
       " '../_datasets/NYT-Obituaries/1877-Bedford-Forrest.txt',\n",
       " '../_datasets/NYT-Obituaries/1964-Douglas-MacArthur.txt',\n",
       " '../_datasets/NYT-Obituaries/1965-Churchill.txt',\n",
       " '../_datasets/NYT-Obituaries/1962-William-Faulkner.txt',\n",
       " '../_datasets/NYT-Obituaries/1956-Babe-Zaharias.txt',\n",
       " '../_datasets/NYT-Obituaries/1932-John-Philip-Sousa.txt',\n",
       " '../_datasets/NYT-Obituaries/1964-Herbert-Hoover.txt',\n",
       " '../_datasets/NYT-Obituaries/1961-Sam-Rayburn.txt',\n",
       " '../_datasets/NYT-Obituaries/1954-Lionel-Barrymore.txt',\n",
       " '../_datasets/NYT-Obituaries/1998-Frank-Sinatra.txt',\n",
       " '../_datasets/NYT-Obituaries/1948-Babe-Ruth.txt',\n",
       " '../_datasets/NYT-Obituaries/1947-Willa-Cather.txt',\n",
       " '../_datasets/NYT-Obituaries/1963-John-F-Kennedy.txt',\n",
       " '../_datasets/NYT-Obituaries/1975-Walker-Evans.txt',\n",
       " '../_datasets/NYT-Obituaries/1916-J-J-Hill.txt',\n",
       " '../_datasets/NYT-Obituaries/1980-Jesse-Owens.txt',\n",
       " '../_datasets/NYT-Obituaries/1948-Sergei-Eisenstein.txt',\n",
       " '../_datasets/NYT-Obituaries/1981-Robert-Moses.txt',\n",
       " '../_datasets/NYT-Obituaries/1989-Robert-Penn-Warren.txt',\n",
       " '../_datasets/NYT-Obituaries/1901-William-McKinley.txt',\n",
       " '../_datasets/NYT-Obituaries/1970-Walter-Reuther.txt',\n",
       " '../_datasets/NYT-Obituaries/1930-Balfour.txt',\n",
       " '../_datasets/NYT-Obituaries/1984-Indira-Gandhi.txt',\n",
       " '../_datasets/NYT-Obituaries/1978-Golda-Meir.txt',\n",
       " '../_datasets/NYT-Obituaries/1983-Earl-Hines.txt',\n",
       " '../_datasets/NYT-Obituaries/1974-Katharine-Cornell.txt',\n",
       " '../_datasets/NYT-Obituaries/1982-Lee-Strasberg.txt',\n",
       " '../_datasets/NYT-Obituaries/1939-Pope-Pius-XI.txt',\n",
       " '../_datasets/NYT-Obituaries/1886-Mary-Ewing-Outerbridge.txt',\n",
       " '../_datasets/NYT-Obituaries/1993-Dizzy-Gillespie.txt',\n",
       " '../_datasets/NYT-Obituaries/1910-Florence-Nightingale.txt',\n",
       " '../_datasets/NYT-Obituaries/1960-Richard-Wright.txt',\n",
       " '../_datasets/NYT-Obituaries/1986-The-Challenger.txt',\n",
       " '../_datasets/NYT-Obituaries/1992-Menachem-Begin.txt',\n",
       " '../_datasets/NYT-Obituaries/1998-Galina-Ulanova.txt',\n",
       " '../_datasets/NYT-Obituaries/1976-Max-Ernst.txt',\n",
       " '../_datasets/NYT-Obituaries/1993-Cesar-Chavez.txt',\n",
       " '../_datasets/NYT-Obituaries/1965-Adlai-Ewing-Stevenson.txt',\n",
       " '../_datasets/NYT-Obituaries/1935-Adolph-S-Ochs.txt',\n",
       " '../_datasets/NYT-Obituaries/1941-Lou-Gehrig.txt',\n",
       " '../_datasets/NYT-Obituaries/1961-Carl-G-Jung.txt',\n",
       " '../_datasets/NYT-Obituaries/1963-Robert-Frost.txt',\n",
       " '../_datasets/NYT-Obituaries/1965-Edward-R-Murrow.txt',\n",
       " '../_datasets/NYT-Obituaries/1971-Dean-Acheson.txt',\n",
       " '../_datasets/NYT-Obituaries/1986-Jorge-Luis-Borges.txt',\n",
       " '../_datasets/NYT-Obituaries/1966-Walt-Disney.txt',\n",
       " '../_datasets/NYT-Obituaries/1996-Carl-Sagan.txt',\n",
       " '../_datasets/NYT-Obituaries/1959-Ross-G-Harrison.txt',\n",
       " '../_datasets/NYT-Obituaries/1945-Jerome-Kern.txt',\n",
       " '../_datasets/NYT-Obituaries/1991-Frank-Capra.txt',\n",
       " '../_datasets/NYT-Obituaries/1987-Andres-Segovie.txt',\n",
       " '../_datasets/NYT-Obituaries/1987-Rita-Hayworth.txt',\n",
       " '../_datasets/NYT-Obituaries/1993-William-Golding.txt',\n",
       " '../_datasets/NYT-Obituaries/1932-Florenz-Ziegfeld.txt',\n",
       " '../_datasets/NYT-Obituaries/1938-Constantin-Stanislavsky.txt']"
      ]
     },
     "execution_count": 23,
     "metadata": {},
     "output_type": "execute_result"
    }
   ],
   "source": [
    "files"
   ]
  },
  {
   "cell_type": "markdown",
   "metadata": {},
   "source": [
    "## Process our text files\n",
    "Next we're going to use the wrapper \"little_mallet_wrapper\" to process our text files and create two variables, \"training_data\" and \"original_texts\". We'll be using these variables to tell MALLET what to use as training data, and a copy of our original texts that we can refer back to."
   ]
  },
  {
   "cell_type": "markdown",
   "metadata": {},
   "source": [
    "The code we'll use to run this is: `little_mallet_wrapper.process_string(text, numbers='remove')`\n",
    "\n",
    " First, we're going to create an empty string, and then iterate over all the files in our `files` variable, processing each of them with the function `little_mallet_wrapper.process_string(text, numbers='remove')`, which takes all our text, makes the text lowercase, removes stopwords\n",
    "\n",
    "> For the list of stopwords that mallet removes, and to change them, look inside the directory \"mallet-2.0.8/stoplists\"  \n",
    "> What implications might that have for our model?"
   ]
  },
  {
   "cell_type": "code",
   "execution_count": 24,
   "metadata": {},
   "outputs": [],
   "source": [
    "training_data = []\n",
    "for file in files:\n",
    "    text = open(file, encoding='utf-8').read()\n",
    "    processed_text = little_mallet_wrapper.process_string(text, numbers='remove')\n",
    "    training_data.append(processed_text)"
   ]
  },
  {
   "cell_type": "code",
   "execution_count": 25,
   "metadata": {},
   "outputs": [],
   "source": [
    "original_texts = []\n",
    "for file in files:\n",
    "    text = open(file, encoding='utf-8').read()\n",
    "    original_texts.append(text)"
   ]
  },
  {
   "cell_type": "markdown",
   "metadata": {},
   "source": [
    "## Process the titles of obituaries\n",
    "Since our text files all contain the year and name of the individual in them, we're going to use the filename as part of the way we label the text of that obituary."
   ]
  },
  {
   "cell_type": "code",
   "execution_count": 26,
   "metadata": {},
   "outputs": [],
   "source": [
    "obit_titles = [Path(file).stem for file in files]\n",
    "# The Path().stem function extract the filename without the .txt extension"
   ]
  },
  {
   "cell_type": "code",
   "execution_count": 27,
   "metadata": {},
   "outputs": [
    {
     "data": {
      "text/plain": [
       "['1945-Adolf-Hitler',\n",
       " '1915-F-W-Taylor',\n",
       " '1975-Chiang-Kai-shek',\n",
       " '1984-Ethel-Merman',\n",
       " '1953-Jim-Thorpe',\n",
       " '1964-Nella-Larsen',\n",
       " '1955-Margaret-Abbott',\n",
       " '1984-Lillian-Hellman',\n",
       " '1959-Cecil-De-Mille',\n",
       " '1928-Mabel-Craty',\n",
       " '1973-Eddie-Rickenbacker',\n",
       " '1989-Ferdinand-Marcos',\n",
       " '1991-Martha-Graham',\n",
       " '1997-Deng-Xiaoping',\n",
       " '1938-George-E-Hale',\n",
       " '1885-Ulysses-Grant',\n",
       " '1909-Sarah-Orne-Jewett',\n",
       " '1957-Christian-Dior',\n",
       " '1987-Clare-Boothe-Luce',\n",
       " '1976-Jacques-Monod',\n",
       " '1954-Getulio-Vargas',\n",
       " '1979-Stan-Kenton',\n",
       " '1990-Leonard-Bernstein',\n",
       " '1972-Jackie-Robinson',\n",
       " '1998-Fred-W-Friendly',\n",
       " '1991-Leo-Durocher',\n",
       " '1915-B-T-Washington',\n",
       " '1997-James-Stewart',\n",
       " '1981-Joe-Louis',\n",
       " '1983-Muddy-Waters',\n",
       " '1942-George-M-Cohan',\n",
       " '1989-Samuel-Beckett',\n",
       " '1962-Marilyn-Monroe',\n",
       " '2000-Charles-M-Schulz',\n",
       " '1967-Gregory-Pincus',\n",
       " '1894-R-L-Stevenson',\n",
       " '1978-Bruce-Catton',\n",
       " '1982-Arthur-Rubinstein',\n",
       " '1875-Andrew-Johnson',\n",
       " '1974-Charles-Lindbergh',\n",
       " '1964-Rachel-Carson',\n",
       " '1953-Marjorie-Rawlings',\n",
       " '1973-Otto-Klemperer',\n",
       " '1963-Sylvia-Plath',\n",
       " '1956-Charles-Merrill',\n",
       " '1966-Lenny-Bruce',\n",
       " '1908-Cleveland',\n",
       " '1982-Anna-Freud',\n",
       " '1941-Frank-Conrad',\n",
       " '1966-Alfred-P-Sloan-Jr',\n",
       " '1960-Beno-Gutenberg',\n",
       " '1976-J-Paul-Getty',\n",
       " '1891-P-T-Barnum',\n",
       " '1901-Queen-Victoria',\n",
       " '1970-Erich-Maria-Remarque',\n",
       " '1989-August-A-Busch-Jr',\n",
       " '1992-John-Cage',\n",
       " '1994-Erik-Erikson',\n",
       " '1990-Erte',\n",
       " '1966-Chester-Nimitz',\n",
       " '1954-Enrico-Fermi',\n",
       " '1961-Primitive-Artist',\n",
       " '1945-Bela-Bartok',\n",
       " '1978-Pope-Paul-VI',\n",
       " '1965-Martin-Buber',\n",
       " '1971-Diane-Arbus',\n",
       " '1973-Lyndon-Johnson',\n",
       " '1998-Bob-Kane',\n",
       " '1969-Judy-Garland',\n",
       " '1959-Frank-Lloyd-Wright',\n",
       " '1995-Ginger-Rogers',\n",
       " '1920-Marlene-Dietrich',\n",
       " '1998-Alan-B-Shepard-Jr',\n",
       " '1971-Khrushchev',\n",
       " '1935-Justice-Holmes',\n",
       " '1969-David-Eisenhower',\n",
       " '1992-Marsha-P-Johnson',\n",
       " '1914-Alfred-Thayer-Mahan',\n",
       " '1965-Branch-Rickey',\n",
       " '2007-Karen-Sparck-Jones',\n",
       " '1965-Albert-Schweitzer',\n",
       " '1992-Isaac-Asimov',\n",
       " '1989-William-B-Shockley',\n",
       " '1910-William-James',\n",
       " '1951-Fanny-Brice',\n",
       " '1916-Jack-London',\n",
       " '1947-Al-Capone',\n",
       " '1989-Lucille-Ball',\n",
       " '1980-Jean-Paul-Sartre',\n",
       " '1969-Sonja-Henie',\n",
       " '1976-Adolph-Zukor',\n",
       " '1959-John-Dulles',\n",
       " '1980-Alfred-Hitchcock',\n",
       " '1901-Benjamin-Harrison',\n",
       " '1994-Richard-Nixon',\n",
       " '1917-Hilaire-G-E-Degas',\n",
       " '1987-James-Baldwin',\n",
       " '1941-Virginia-Woolf',\n",
       " '1922-Alexander-Graham-Bell',\n",
       " '1907-Qiu-Jin',\n",
       " '1895-Fred-Douglass',\n",
       " '1971-Florence-Blanchfield',\n",
       " '1984-Ray-A-Kroc',\n",
       " '1947-Fiorello-La-Guardia',\n",
       " '1988-Louis-L-Amour',\n",
       " '1902-Elizabeth-Cady-Stanton',\n",
       " '1965-Shirley-Jackson',\n",
       " '1979-John-Wayne',\n",
       " '1994-Thomas-P-O-Neill-Jr',\n",
       " '1982-Thelonious-Monk',\n",
       " '1919-C-J-Walker',\n",
       " '1954-Liberty-H-Bailey',\n",
       " '1977-Dash-Ended',\n",
       " '1936-Maxim-Gorky',\n",
       " '2000-Pierre-Trudeau',\n",
       " '1976-Mao-Tse-Tung',\n",
       " '1955-Walter-White',\n",
       " '1930-Conan-Doyle',\n",
       " '1995-Jonas-Salk',\n",
       " '1949-Mitchell',\n",
       " '1951-Henrietta-Lacks',\n",
       " '1903-James-M-N-Whistler',\n",
       " '1950-A-J-Dempster',\n",
       " '1937-Edith-Wharton',\n",
       " '1935-Jane-Addams',\n",
       " '1941-James-Joyce',\n",
       " '1952-John-Dewey',\n",
       " '1940-Marcus-Garvey',\n",
       " '1971-Louis-Armstrong',\n",
       " '1923-Warren-Harding',\n",
       " '1937-John-Rockefeller',\n",
       " '2000-Elliot-Richardson',\n",
       " '1972-J-Edgar-Hoover',\n",
       " '1975-Franco',\n",
       " '1973-Jeanette-Rankin',\n",
       " '1888-Louisa-M-Alcott',\n",
       " '1977-Charles-Chaplin',\n",
       " '1990-Ralph-David-Abernathy',\n",
       " '1946-Lord-Keynes',\n",
       " '1996-Gene-Kelly',\n",
       " '1973-Roberto-Clemente',\n",
       " '1986-Georgia-O-Keeffe',\n",
       " '1990-Rex-Harrison',\n",
       " '1916-Martian-Theory',\n",
       " '1961-Ernest-Hemingway',\n",
       " '1978-Margaret-Mead',\n",
       " '1982-Ingrid-Bergman',\n",
       " '1946-C-E-M-Clung',\n",
       " '1977-Maria-Callas',\n",
       " '1952-Eva-Peron',\n",
       " '1961-Emily-Balch',\n",
       " '1979-Arthur-Fiedler',\n",
       " '1896-Harriet-Beecher-Stowe',\n",
       " '1989-Andrei-Sakharov',\n",
       " '1939-W-B-Yeats',\n",
       " '1961-Hammarskjold',\n",
       " '1969-Madhubala',\n",
       " '1970-Edouard-Daladier',\n",
       " '1988-John-Houseman',\n",
       " '1992-William-Shawn',\n",
       " '1950-Edna-St-V-Millay',\n",
       " '1989-Claude-Pepper',\n",
       " '1929-Marie-Curie',\n",
       " '1972-The-Duke-of-Windsor',\n",
       " '1984-Count-Basie',\n",
       " '1998-Helen-Moody',\n",
       " '1936-Anne-Macy',\n",
       " '1900-Nietzsche',\n",
       " '1880-Lucretia-Mott',\n",
       " '1967-J-Robert-Oppenheimer',\n",
       " '1984-Richard-Burton',\n",
       " '1964-Sean-O-Casey',\n",
       " '1931-Thomas-Edison',\n",
       " '1971-Bobby-Jones',\n",
       " '1914-John-P-Holland',\n",
       " '1995-George-Abbott',\n",
       " '1950-Henry-L-Stimson',\n",
       " '1955-Dale-Carnegie',\n",
       " '1934-T-A-Watson',\n",
       " '1968-Martin-Luther-King-Jr',\n",
       " '1933-Louis-C-Tiffany',\n",
       " '1909-Geronimo',\n",
       " '1952-Charles-Spaulding',\n",
       " '1922-Nellie-Bly',\n",
       " '1955-Cy-Young',\n",
       " '1993-Arthur-Ashe',\n",
       " '1986-Bernard-Malamud',\n",
       " '1939-Howard-Carter',\n",
       " '1994-Linus-C-Pauling',\n",
       " '1967-Langston-Hughes',\n",
       " '1948-Mohandas-K-Gandhi',\n",
       " '1931-Melvil-Dewey',\n",
       " '1969-Everett-Dirksen',\n",
       " '1968-Helen-Keller',\n",
       " '1992-Alex-Haley',\n",
       " '1953-Eugene-O-Neill',\n",
       " '1981-Anwar-el-Sadat',\n",
       " '1937-Maurice-Ravel',\n",
       " '1966-Margaret-Sanger',\n",
       " '1989-I-F-Stone',\n",
       " '1943-J-H-Kellogg',\n",
       " '1985-Roger-Maris',\n",
       " '1972-Mahalia-Jackson',\n",
       " '1990-Greta-Garbo',\n",
       " '1998-Benjamin-Spock',\n",
       " '1994-Jessica-Tandy',\n",
       " '1979-Richard-Rodgers',\n",
       " '1958-W-C-Handy',\n",
       " '1974-Ed-Sullivan',\n",
       " '1989-Hirohito',\n",
       " '1933-Calvin-Coolidge',\n",
       " '1969-Ho-Chi-Minh',\n",
       " '1987-John-Huston',\n",
       " '1984-Johnny-Weissmuller',\n",
       " '1969-Maureen-Connolly',\n",
       " '1968-Yuri-Gagarin',\n",
       " '1991-Peggy-Ashcroft',\n",
       " '1979-A-Philip-Randolph',\n",
       " '1946-Gertrude-Stein',\n",
       " '1993-Thurgood-Marshall',\n",
       " '1887-Emma-Lazarus',\n",
       " '1986-James-Cagney',\n",
       " '1976-Richard-Daley',\n",
       " '1977-Joan-Crawford',\n",
       " '1971-Hugo-Black',\n",
       " '1954-Henri-Matisse',\n",
       " '1906-Susan-B-Anthony',\n",
       " '1990-Sammy-Davis-Jr',\n",
       " '1914-John-Muir',\n",
       " '1954-Anne-O-Hare-McCormick',\n",
       " '1986-Kate-Smith',\n",
       " '1919-Anna-H-Shaw',\n",
       " '1980-Jean-Piaget',\n",
       " '1966-Buster-Keaton',\n",
       " '1997-Allen-Ginsberg',\n",
       " '1991-Miles-Davis',\n",
       " '1982-Satchel-Paige',\n",
       " '1931-Ida-B-Wells',\n",
       " '1967-Henry-R-Luce',\n",
       " '1984-Ansel-Adams',\n",
       " '1945-Ernie-Pyle',\n",
       " '1952-Chaim-Weizmann',\n",
       " '1973-Nancy-Mitford',\n",
       " '1852-Ada-Lovelace',\n",
       " '1996-Timothy-Leary',\n",
       " '1919-Carnegie-Started',\n",
       " '1989-Andrei-A-Gromyko',\n",
       " '1965-David-O-Selznick',\n",
       " '1870-Robert-E-Lee',\n",
       " '1968-Robert-Francis-Kennedy',\n",
       " '1900-Stephen-Crane',\n",
       " '1936-John-W-Heisman',\n",
       " '1998-Maureen-O-Sullivan',\n",
       " '1953-Joseph-Stalin',\n",
       " '1944-Alfred-E-Smith',\n",
       " '1910-Tolstoy',\n",
       " '1964-Cole-Porter',\n",
       " '1983-Jack-Dempsey',\n",
       " '1975-Haile-Selassie',\n",
       " '1882-Charles-Darwin',\n",
       " '1903-Emily-Warren-Roebling',\n",
       " '1962-Eleanor-Roosevelt',\n",
       " '1926-Harry-Houdini',\n",
       " '1955-Albert-Einstein',\n",
       " '1971-Coco-Chanel',\n",
       " '1959-Billie-Holiday',\n",
       " '1969-Coleman-Hawkins',\n",
       " '1954-Frida-Kahlo',\n",
       " '1911-Joseph-Pulitzer',\n",
       " '1993-Carlos-Montoya',\n",
       " '1947-Max-Planck',\n",
       " '1985-Orson-Welles',\n",
       " '1974-Earl-Warren',\n",
       " '1971-Ralph-Bunche',\n",
       " '1999-Hassan-II',\n",
       " '1931-Knute-Rocke',\n",
       " '1998-Theodore-Schultz',\n",
       " '1960-Boris-Pasternak',\n",
       " '1927-Victoria-Martin',\n",
       " '1943-George-Washington-Carver',\n",
       " '1956-Thomas-J-Watson-Sr',\n",
       " '1947-Henry-Ford',\n",
       " '1953-Fred-Vinson',\n",
       " '1982-Leonid-Brezhnev',\n",
       " '1999-King-Hussein',\n",
       " '1930-Elmer-Sperry',\n",
       " '1985-E-B-White',\n",
       " '1959-Ethel-Barrymore',\n",
       " '1986-Benny-Goodman',\n",
       " '1963-W-E-B-DuBois',\n",
       " '1975-Elijah-Muhammad',\n",
       " '1973-Pablo-Picasso',\n",
       " '1993-Federico-Fellini',\n",
       " '1945-Harry-S-Truman',\n",
       " '1970-De-Gaulle-Rallied',\n",
       " '1995-Alfred-Eisenstaedt',\n",
       " '1999-Iris-Murdoch',\n",
       " '1987-Alf-Landon',\n",
       " '1998-Bella-Abzug',\n",
       " '1940-Scott-Fitzgerald',\n",
       " '1989-Vladimir-Horowitz',\n",
       " '1969-Mies-van-der-Rohe',\n",
       " '1944-Ida-M-Tarbell',\n",
       " '1948-John-Pershing',\n",
       " '1938-Clarence-Darrow',\n",
       " '1987-Primo-Levi',\n",
       " '1971-Igor-Stravinsky',\n",
       " '1945-George-Patton',\n",
       " '1930-William-Howard-Taft',\n",
       " '1935-Will-Rogers',\n",
       " '1992-Shirley-Booth',\n",
       " '1994-Jacqueline-Kennedy',\n",
       " '1933-Ring-Lardner',\n",
       " '1974-Sylvia-Plath',\n",
       " '1945-FDR',\n",
       " '1995-Yitzhak-Rabin',\n",
       " '1960-Emily-Post',\n",
       " '1984-Truman-Capote',\n",
       " '1968-Upton-Sinclair',\n",
       " '1994-Jan-Tinbergen',\n",
       " '1957-Gerard-Swope',\n",
       " '1993-Albert-Sabin',\n",
       " '1955-Thomas-Mann',\n",
       " '1991-Dr-Seuss',\n",
       " '1877-Bedford-Forrest',\n",
       " '1964-Douglas-MacArthur',\n",
       " '1965-Churchill',\n",
       " '1962-William-Faulkner',\n",
       " '1956-Babe-Zaharias',\n",
       " '1932-John-Philip-Sousa',\n",
       " '1964-Herbert-Hoover',\n",
       " '1961-Sam-Rayburn',\n",
       " '1954-Lionel-Barrymore',\n",
       " '1998-Frank-Sinatra',\n",
       " '1948-Babe-Ruth',\n",
       " '1947-Willa-Cather',\n",
       " '1963-John-F-Kennedy',\n",
       " '1975-Walker-Evans',\n",
       " '1916-J-J-Hill',\n",
       " '1980-Jesse-Owens',\n",
       " '1948-Sergei-Eisenstein',\n",
       " '1981-Robert-Moses',\n",
       " '1989-Robert-Penn-Warren',\n",
       " '1901-William-McKinley',\n",
       " '1970-Walter-Reuther',\n",
       " '1930-Balfour',\n",
       " '1984-Indira-Gandhi',\n",
       " '1978-Golda-Meir',\n",
       " '1983-Earl-Hines',\n",
       " '1974-Katharine-Cornell',\n",
       " '1982-Lee-Strasberg',\n",
       " '1939-Pope-Pius-XI',\n",
       " '1886-Mary-Ewing-Outerbridge',\n",
       " '1993-Dizzy-Gillespie',\n",
       " '1910-Florence-Nightingale',\n",
       " '1960-Richard-Wright',\n",
       " '1986-The-Challenger',\n",
       " '1992-Menachem-Begin',\n",
       " '1998-Galina-Ulanova',\n",
       " '1976-Max-Ernst',\n",
       " '1993-Cesar-Chavez',\n",
       " '1965-Adlai-Ewing-Stevenson',\n",
       " '1935-Adolph-S-Ochs',\n",
       " '1941-Lou-Gehrig',\n",
       " '1961-Carl-G-Jung',\n",
       " '1963-Robert-Frost',\n",
       " '1965-Edward-R-Murrow',\n",
       " '1971-Dean-Acheson',\n",
       " '1986-Jorge-Luis-Borges',\n",
       " '1966-Walt-Disney',\n",
       " '1996-Carl-Sagan',\n",
       " '1959-Ross-G-Harrison',\n",
       " '1945-Jerome-Kern',\n",
       " '1991-Frank-Capra',\n",
       " '1987-Andres-Segovie',\n",
       " '1987-Rita-Hayworth',\n",
       " '1993-William-Golding',\n",
       " '1932-Florenz-Ziegfeld',\n",
       " '1938-Constantin-Stanislavsky']"
      ]
     },
     "execution_count": 27,
     "metadata": {},
     "output_type": "execute_result"
    }
   ],
   "source": [
    "obit_titles"
   ]
  },
  {
   "cell_type": "markdown",
   "metadata": {},
   "source": [
    "## Get Statistics on our Training Dataset\n",
    "The `little_mallet_wrapper.print_dataset_stats()` function gives us some basic statistics on the dataset we want to use as our training data."
   ]
  },
  {
   "cell_type": "code",
   "execution_count": 28,
   "metadata": {},
   "outputs": [
    {
     "name": "stdout",
     "output_type": "stream",
     "text": [
      "Number of Documents: 379\n",
      "Mean Number of Words per Document: 1314.6\n",
      "Vocabulary Size: 35983\n"
     ]
    }
   ],
   "source": [
    "little_mallet_wrapper.print_dataset_stats(training_data)"
   ]
  },
  {
   "cell_type": "markdown",
   "metadata": {},
   "source": [
    "## Training the Topic Model\n",
    "Now for the big part!  We're going to use the variables we defined.\n",
    "Before we can do that, we need to define some variables. We need to tell our model:\n",
    "\n",
    "- How many topics to find\n",
    "- What our training data is\n",
    "- The location of a directory to output our topic modeling data (including sub-directories\n",
    "\n",
    "And we need to import all this information into Little MALLET Wrapper\n",
    "\n"
   ]
  },
  {
   "cell_type": "markdown",
   "metadata": {},
   "source": [
    "### Set the Number of Topics"
   ]
  },
  {
   "cell_type": "code",
   "execution_count": 29,
   "metadata": {},
   "outputs": [],
   "source": [
    "num_topics = 15 # Change this number to change the number of topics"
   ]
  },
  {
   "cell_type": "markdown",
   "metadata": {},
   "source": [
    "### Set the Training Data"
   ]
  },
  {
   "cell_type": "code",
   "execution_count": 30,
   "metadata": {},
   "outputs": [],
   "source": [
    "training_data = training_data"
   ]
  },
  {
   "cell_type": "markdown",
   "metadata": {},
   "source": [
    "### Set the Location of the Topic Model Output Files\n",
    "\n",
    "Topic modeling produces a lot of output files, including the words in topics, and statistics on their relative distributions within the documents. We need to tell Little MALLET Wrapper where to output all of these results. The code below defines a directory called “topic-model-output” and a subdirectory called “NYT-Obits”, all of which will be inside your current directory. \n",
    "\n",
    "Notice how we're able to us re-use the path we defined, \"output_directory_path\" to tell Little MALLET Wrapper where to upt each of the 5 output files."
   ]
  },
  {
   "cell_type": "code",
   "execution_count": 31,
   "metadata": {},
   "outputs": [],
   "source": [
    "#Change to your desired output directory\n",
    "output_directory_path = 'topic-model-output/NYT-Obits'\n",
    "\n",
    "#No need to change anything below here\n",
    "Path(f\"{output_directory_path}\").mkdir(parents=True, exist_ok=True)\n",
    "\n",
    "path_to_training_data           = output_directory_path + '/training.txt'\n",
    "path_to_formatted_training_data = output_directory_path + '/mallet.training'\n",
    "path_to_model                   = output_directory_path + '/mallet.model.' + str(num_topics)\n",
    "path_to_topic_keys              = output_directory_path + '/mallet.topic_keys.' + str(num_topics)\n",
    "path_to_topic_distributions     = output_directory_path + '/mallet.topic_distributions.' + str(num_topics)\n",
    "path_to_word_weights            = output_directory_path + '/mallet.word_weights.' + str(num_topics)\n",
    "path_to_diagnostics             = output_directory_path + '/mallet.diagnostics.' + str(num_topics) + '.xml'\n",
    "\n"
   ]
  },
  {
   "cell_type": "markdown",
   "metadata": {},
   "source": [
    "### Import our Data into Little MALLET Wrapper\n",
    "Here we're importing the variables we just defined into Little MALLET Wrapper"
   ]
  },
  {
   "cell_type": "code",
   "execution_count": 32,
   "metadata": {},
   "outputs": [
    {
     "name": "stdout",
     "output_type": "stream",
     "text": [
      "Importing data...\n",
      "Complete\n"
     ]
    }
   ],
   "source": [
    "little_mallet_wrapper.import_data(path_to_mallet,\n",
    "                path_to_training_data,\n",
    "                path_to_formatted_training_data,\n",
    "                training_data)"
   ]
  },
  {
   "cell_type": "markdown",
   "metadata": {},
   "source": [
    "### Train the Topic Model\n",
    "\n",
    "The final and most important step: we're going to use `little_mallet_wrapper.train_topic_model()` to train our model (using all of the parameters that we just defined. The topic model should take about 45 seconds to 1 minute to fully train and complete. \n",
    "\n",
    "If you're running this notebook locally (not in the cloud), you can look at your Terminal or PowerShell while it’s running and see what the model looks like as it trains."
   ]
  },
  {
   "cell_type": "code",
   "execution_count": 33,
   "metadata": {},
   "outputs": [
    {
     "name": "stdout",
     "output_type": "stream",
     "text": [
      "Training topic model...\n",
      "Complete\n"
     ]
    }
   ],
   "source": [
    "little_mallet_wrapper.train_topic_model(path_to_mallet,\n",
    "                      path_to_formatted_training_data,\n",
    "                      path_to_model,\n",
    "                      path_to_topic_keys,\n",
    "                      path_to_topic_distributions,\n",
    "                      path_to_word_weights,\n",
    "                      path_to_diagnostics,\n",
    "                      num_topics)"
   ]
  },
  {
   "cell_type": "markdown",
   "metadata": {},
   "source": [
    "## Display Topics and Top Words\n",
    "To examine the 15 topics that the topic model extracted from the NYT obituaries, run the cell below. This code uses the `little_mallet_wrapper.load_topic_keys()` function to read and process the MALLET topic model output from your computer, specifically the file “mallet.topic_keys.15”.\n",
    "\n",
    "Take a look at the topics below. Think about what each topic seems to capture. \n",
    "\n",
    "- Are there any that seem to have a clear theme? \n",
    "- What about any oddities or outliers?"
   ]
  },
  {
   "cell_type": "code",
   "execution_count": 34,
   "metadata": {},
   "outputs": [
    {
     "name": "stdout",
     "output_type": "stream",
     "text": [
      "✨Topic 0✨\n",
      "\n",
      "['said', 'years', 'one', 'new', 'first', 'two', 'later', 'time', 'life', 'also', 'man', 'old', 'world', 'many', 'last', 'year', 'never', 'like', 'died', 'made']\n",
      "\n",
      "✨Topic 1✨\n",
      "\n",
      "['work', 'art', 'university', 'professor', 'research', 'science', 'picasso', 'institute', 'scientific', 'modern', 'society', 'oppenheimer', 'world', 'artist', 'human', 'prize', 'atomic', 'paris', 'schweitzer', 'nobel']\n",
      "\n",
      "✨Topic 2✨\n",
      "\n",
      "['israel', 'king', 'gandhi', 'british', 'minister', 'peace', 'queen', 'india', 'prince', 'prime', 'mrs', 'arab', 'israeli', 'government', 'lord', 'egypt', 'sadat', 'england', 'victoria', 'begin']\n",
      "\n",
      "✨Topic 3✨\n",
      "\n",
      "['grant', 'gen', 'general', 'army', 'president', 'harrison', 'upon', 'men', 'made', 'fort', 'command', 'douglass', 'lee', 'miles', 'sent', 'union', 'sherman', 'troops', 'days', 'mckinley']\n",
      "\n",
      "✨Topic 4✨\n",
      "\n",
      "['war', 'general', 'hitler', 'united', 'army', 'german', 'france', 'military', 'french', 'germany', 'world', 'american', 'nations', 'secretary', 'troops', 'macarthur', 'churchill', 'president', 'pershing', 'europe']\n",
      "\n",
      "✨Topic 5✨\n",
      "\n",
      "['baseball', 'louis', 'game', 'ruth', 'won', 'team', 'tennis', 'league', 'schulz', 'year', 'babe', 'rickey', 'abbott', 'football', 'champion', 'golf', 'ball', 'club', 'games', 'dempsey']\n",
      "\n",
      "✨Topic 6✨\n",
      "\n",
      "['company', 'ford', 'business', 'oil', 'rockefeller', 'carnegie', 'lindbergh', 'space', 'flight', 'getty', 'sloan', 'bell', 'watson', 'industry', 'union', 'general', 'workers', 'corporation', 'companies', 'merrill']\n",
      "\n",
      "✨Topic 7✨\n",
      "\n",
      "['president', 'roosevelt', 'court', 'house', 'justice', 'republican', 'state', 'truman', 'political', 'senator', 'party', 'democratic', 'law', 'congress', 'governor', 'hoover', 'nixon', 'united', 'election', 'campaign']\n",
      "\n",
      "✨Topic 8✨\n",
      "\n",
      "['would', 'war', 'time', 'first', 'states', 'made', 'became', 'one', 'country', 'great', 'united', 'could', 'however', 'many', 'men', 'although', 'came', 'long', 'public', 'people']\n",
      "\n",
      "✨Topic 9✨\n",
      "\n",
      "['miss', 'film', 'theater', 'movie', 'broadway', 'films', 'hollywood', 'stage', 'actor', 'movies', 'director', 'role', 'actress', 'show', 'television', 'made', 'became', 'york', 'dance', 'love']\n",
      "\n",
      "✨Topic 10✨\n",
      "\n",
      "['black', 'moses', 'king', 'kennedy', 'negro', 'white', 'johnson', 'murrow', 'nation', 'rights', 'television', 'blacks', 'civil', 'smith', 'city', 'negroes', 'randolph', 'news', 'washington', 'racial']\n",
      "\n",
      "✨Topic 11✨\n",
      "\n",
      "['book', 'miss', 'published', 'wrote', 'writing', 'writer', 'books', 'author', 'novel', 'literary', 'story', 'life', 'stories', 'poet', 'work', 'magazine', 'read', 'luce', 'novels', 'written']\n",
      "\n",
      "✨Topic 12✨\n",
      "\n",
      "['soviet', 'party', 'mao', 'china', 'communist', 'chinese', 'stalin', 'deng', 'moscow', 'chiang', 'khrushchev', 'union', 'communists', 'revolution', 'political', 'economic', 'policy', 'foreign', 'brezhnev', 'leader']\n",
      "\n",
      "✨Topic 13✨\n",
      "\n",
      "['music', 'band', 'jazz', 'piano', 'musical', 'sinatra', 'composer', 'goodman', 'stravinsky', 'orchestra', 'played', 'bernstein', 'playing', 'concert', 'armstrong', 'musicians', 'style', 'works', 'davis', 'hall']\n",
      "\n",
      "✨Topic 14✨\n",
      "\n",
      "['mrs', 'new', 'york', 'times', 'miss', 'years', 'paper', 'home', 'world', 'year', 'work', 'ochs', 'newspaper', 'american', 'city', 'pulitzer', 'women', 'death', 'hill', 'news']\n",
      "\n"
     ]
    }
   ],
   "source": [
    "topics = little_mallet_wrapper.load_topic_keys(path_to_topic_keys)\n",
    "\n",
    "for topic_number, topic in enumerate(topics):\n",
    "    print(f\"✨Topic {topic_number}✨\\n\\n{topic}\\n\")"
   ]
  },
  {
   "cell_type": "markdown",
   "metadata": {},
   "source": [
    "----\n"
   ]
  },
  {
   "cell_type": "markdown",
   "metadata": {},
   "source": [
    "## Exercise 1: Training topics"
   ]
  },
  {
   "cell_type": "markdown",
   "metadata": {},
   "source": [
    "## Your Turn!!\n",
    "1. Change the number of topics (`num_topics`) from 15 to some other number\n",
    "2. Then, run command to train the topic model `little_mallet_wrapper.train_topic_model()`\n",
    "3. Then, re-reun the code in the cell above to display the topics and top numbers.\n",
    "4. How did your choice do you notice? What implications might this have for someone who wants to use a topic model?\n",
    "\n",
    "When you're done, change the number of topics back to 15, and re-train the model."
   ]
  },
  {
   "cell_type": "markdown",
   "metadata": {},
   "source": [
    "----"
   ]
  },
  {
   "cell_type": "markdown",
   "metadata": {},
   "source": [
    "## Load Topic Distributions"
   ]
  },
  {
   "cell_type": "markdown",
   "metadata": {},
   "source": [
    "MALLET also calculates the likely mixture of these topics for every single obituary in the corpus. This mixture is really a probability distribution, that is, the probability that each topic exists in the document. We can use these probability distributions to examine which of the above topics are strongly associated with which specific obituaries.\n",
    "\n",
    "To get the topic distributions, we’re going to use the little_mallet_wrapper.load_topic_distributions() function, which will read and process the MALLET topic model output, specifically the file “mallet.topic_distributions.15”, as a dataframe."
   ]
  },
  {
   "cell_type": "code",
   "execution_count": null,
   "metadata": {},
   "outputs": [],
   "source": [
    "topic_distributions = little_mallet_wrapper.load_topic_distributions(path_to_topic_distributions)"
   ]
  },
  {
   "cell_type": "markdown",
   "metadata": {},
   "source": [
    "We can use this dataframe that we just created to look at the probability distributions of each of the 15 toipcs in on obituary.\n",
    "\n",
    "Let's look at Marilyn Monroe's obituary, which is #32"
   ]
  },
  {
   "cell_type": "code",
   "execution_count": null,
   "metadata": {},
   "outputs": [],
   "source": [
    "topic_distributions[32]"
   ]
  },
  {
   "cell_type": "markdown",
   "metadata": {},
   "source": [
    "It's a little hard to get a sense of what these topics are, so we can pair this with the data we have on the title and the top words in the topic:"
   ]
  },
  {
   "cell_type": "code",
   "execution_count": null,
   "metadata": {},
   "outputs": [],
   "source": [
    "obituary_to_check = \"1962-Marilyn-Monroe\"\n",
    "\n",
    "obit_number = obit_titles.index(obituary_to_check)\n",
    "\n",
    "print(f\"Topic Distributions for {obit_titles[obit_number]}\\n\")\n",
    "for topic_number, (topic, topic_distribution) in enumerate(zip(topics, topic_distributions[obit_number])):\n",
    "    print(f\"✨Topic {topic_number} {topic[:6]} ✨\\nProbability: {round(topic_distribution, 3)}\\n\")"
   ]
  },
  {
   "cell_type": "markdown",
   "metadata": {},
   "source": [
    "> **💡 CHECK-IN:**  \n",
    "> Remember, these are PROBABILITIES. Each time that we re-run the model, the probabiliites will change slightly as the model trains.\n",
    "\n",
    "> **EXERCISE**  \n",
    "1. Run the \"Train the Topic Model\" command again\n",
    "2. Then click on the cell above to output the topic distributions for Marylin Monroe's obituary. \n",
    "3. What do you notice? What changed? And what implications might this have for how we use these distribution statistics? "
   ]
  },
  {
   "cell_type": "markdown",
   "metadata": {},
   "source": [
    "## Part 3: Visualizing topic modeling results"
   ]
  },
  {
   "cell_type": "markdown",
   "metadata": {},
   "source": [
    "### Create a Heatmap of Topics and Texts"
   ]
  },
  {
   "cell_type": "markdown",
   "metadata": {},
   "source": [
    "We can visualize and compare these topic probability distributions with a heatmap by using the `little_mallet_wrapper.plot_categories_by_topics_heatmap()` function.\n",
    "\n",
    "We have everything we need for the heatmap except for our list of target_labels, the sample of texts that we’d like to visualize and compare with the heatmap. Below we make our list of desired target labels."
   ]
  },
  {
   "cell_type": "code",
   "execution_count": null,
   "metadata": {},
   "outputs": [],
   "source": [
    "target_labels = ['1852-Ada-Lovelace', '1885-Ulysses-Grant',\n",
    "                 '1900-Nietzsche', '1931-Ida-B-Wells', '1940-Marcus-Garvey',\n",
    "                 '1941-Virginia-Woolf', '1954-Frida-Kahlo', '1962-Marilyn-Monroe',\n",
    "                 '1963-John-F-Kennedy', '1964-Nella-Larsen', '1972-Jackie-Robinson',\n",
    "                 '1973-Pablo-Picasso', '1984-Ray-A-Kroc','1986-Jorge-Luis-Borges', '1991-Miles-Davis',\n",
    "                 '1992-Marsha-P-Johnson', '1993-Cesar-Chavez']"
   ]
  },
  {
   "cell_type": "markdown",
   "metadata": {},
   "source": [
    "If you’d like to make a random list of target labels, you can uncomment and run the cell below."
   ]
  },
  {
   "cell_type": "code",
   "execution_count": null,
   "metadata": {},
   "outputs": [],
   "source": [
    "#import random\n",
    "#target_labels = random.sample(obit_titles, 10)"
   ]
  },
  {
   "cell_type": "markdown",
   "metadata": {},
   "source": [
    "Now let's use those target_labels to create a heatmap:"
   ]
  },
  {
   "cell_type": "code",
   "execution_count": null,
   "metadata": {},
   "outputs": [],
   "source": [
    "little_mallet_wrapper.plot_categories_by_topics_heatmap(obit_titles,\n",
    "                                      topic_distributions,\n",
    "                                      topics,\n",
    "                                      output_directory_path + '/categories_by_topics.pdf',\n",
    "                                      target_labels=target_labels,\n",
    "                                      dim= (13, 9)\n",
    "                                     )"
   ]
  },
  {
   "cell_type": "markdown",
   "metadata": {},
   "source": [
    "The darker squares in this heatmap represent a high probability for the corresponding topic (compared to everyone else in the heatmap) and the lighter squares in the heatmap represent a low probability for the corresponding topic. For example, if you scan across the row of Marilyn Monroe, you can see a dark square for the topic “miss film theater movie theater broadway”. If you scan across the row of Ada Lovelace, an English mathematician who is now recognized as the first computer programmer, according to her NYT obituary, you can see a dark square for “university professor research science also”.\n",
    "\n",
    "The `plot_categories_by_topics_heatmap()` function also helpfully outputs a PDF of the heatmap to `output_directory_path + '/categories_by_topics.pdf'`. We can download this PDF and explore it in more detail or embed it in an article or blog post!"
   ]
  },
  {
   "cell_type": "code",
   "execution_count": null,
   "metadata": {},
   "outputs": [],
   "source": [
    "from IPython.display import IFrame\n",
    "IFrame(\"topic-model-output/NYT-obits/categories_by_topics.pdf\", width=1000, height=600)"
   ]
  },
  {
   "cell_type": "markdown",
   "metadata": {},
   "source": [
    "### Display Top Titles Per Topic\n",
    "We can also display the obituaries that have the highest probability for every topic with the little_mallet_wrapper.get_top_docs() function.\n",
    "\n",
    "Because most of the obituaries in our corpus are pretty long, however, it will be more useful for us to simply display the title of each obituary, rather than the entire document—at least as a first step. To do so, we’ll first need to make two dictionaries, which will allow us to find the corresponding obituary title and the original text from a given training document."
   ]
  },
  {
   "cell_type": "code",
   "execution_count": null,
   "metadata": {},
   "outputs": [],
   "source": [
    "training_data_obit_titles = dict(zip(training_data, obit_titles))\n",
    "training_data_original_text = dict(zip(training_data, original_texts))"
   ]
  },
  {
   "cell_type": "markdown",
   "metadata": {},
   "source": [
    "Then we’ll make our own function `display_top_titles_per_topic()` that will display the top text titles for every topic. This function accepts a given topic_number as well as a desired `number_of_documents` to display."
   ]
  },
  {
   "cell_type": "code",
   "execution_count": null,
   "metadata": {},
   "outputs": [],
   "source": [
    "def display_top_titles_per_topic(topic_number=0, number_of_documents=5):\n",
    "    \n",
    "    print(f\"✨Topic {topic_number}✨\\n\\n{topics[topic_number]}\\n\")\n",
    "\n",
    "    for probability, document in little_mallet_wrapper.get_top_docs(training_data, topic_distributions, topic_number, n=number_of_documents):\n",
    "        print(round(probability, 4), training_data_obit_titles[document] + \"\\n\")\n",
    "    return"
   ]
  },
  {
   "cell_type": "markdown",
   "metadata": {},
   "source": [
    "NOTE: The number of the topic (eg Topic 2, Topic 11) does not correspond to its frequency in the corpus (there is no intrinsic difference between a topic that MALLET assigns as topic 0 and a topic that MALLET assigns as 15, it's just a labelling convention.\n",
    "\n",
    "**Topic 10**\n",
    "\n",
    "To display the top 5 obituary titles with the highest probability of containing Topic 10, we will run:"
   ]
  },
  {
   "cell_type": "code",
   "execution_count": null,
   "metadata": {},
   "outputs": [],
   "source": [
    "display_top_titles_per_topic(topic_number=10, number_of_documents=5)"
   ]
  },
  {
   "cell_type": "markdown",
   "metadata": {},
   "source": [
    "What descriptive label would you give to Topic 10? Click the cell below to assign one"
   ]
  },
  {
   "cell_type": "markdown",
   "metadata": {},
   "source": [
    "Topic 10 : [DOUBLE-CLICK HERE TO TYPE IN A LABEL]"
   ]
  },
  {
   "cell_type": "markdown",
   "metadata": {},
   "source": [
    "**Topic 7**\n",
    "\n",
    "To display the top 5 obituary titles with the highest probability of containing Topic 7, we will run:"
   ]
  },
  {
   "cell_type": "code",
   "execution_count": null,
   "metadata": {},
   "outputs": [],
   "source": [
    "display_top_titles_per_topic(topic_number=7, number_of_documents=5)"
   ]
  },
  {
   "cell_type": "markdown",
   "metadata": {},
   "source": [
    "Topic 7 : [DOUBLE CLICK HERE TO TYPE IN A LABEL]"
   ]
  },
  {
   "cell_type": "markdown",
   "metadata": {},
   "source": [
    "**Topic 14**\n",
    "\n",
    "To display the top 5 obituary titles with the highest probability of containing Topic 14, we will run:"
   ]
  },
  {
   "cell_type": "code",
   "execution_count": null,
   "metadata": {},
   "outputs": [],
   "source": [
    "display_top_titles_per_topic(topic_number=14, number_of_documents=5)"
   ]
  },
  {
   "cell_type": "markdown",
   "metadata": {},
   "source": [
    "Topic 14 : [DOUBLE-CLICK HERE TO TYPE IN A LABEL]"
   ]
  },
  {
   "cell_type": "markdown",
   "metadata": {},
   "source": [
    "### Display Topic Words in Context of Original Text\n",
    "\n",
    "Often it’s useful to actually look at the document that has ranked highly for a given topic and puzzle out why it ranks so highly.\n",
    "\n",
    "To display the original obituary texts that rank highly for a given topic, with the relevant topic words **bolded** for emphasis, we are going to make the function `display_bolded_topic_words_in_context()`.\n",
    "\n",
    "In the cell below, we’re importing two special Jupyter notebook display modules, which will allow us to make the relevant topic words bolded, as well as the regular expressions library re, which will allow us to find and replace the correct words."
   ]
  },
  {
   "cell_type": "code",
   "execution_count": null,
   "metadata": {},
   "outputs": [],
   "source": [
    "from IPython.display import Markdown, display\n",
    "import re\n",
    "\n",
    "def display_bolded_topic_words_in_context(topic_number=3, number_of_documents=3, custom_words=None):\n",
    "\n",
    "    for probability, document in little_mallet_wrapper.get_top_docs(training_data, topic_distributions, topic_number, n=number_of_documents):\n",
    "        \n",
    "        print(f\"✨Topic {topic_number}✨\\n\\n{topics[topic_number]}\\n\")\n",
    "        \n",
    "        probability = f\"✨✨✨\\n\\n**{probability}**\"\n",
    "        obit_title = f\"**{training_data_obit_titles[document]}**\"\n",
    "        original_text = training_data_original_text[document]\n",
    "        topic_words = topics[topic_number]\n",
    "        topic_words = custom_words if custom_words != None else topic_words\n",
    "\n",
    "        for word in topic_words:\n",
    "            if word in original_text:\n",
    "                original_text = re.sub(f\"\\\\b{word}\\\\b\", f\"**{word}**\", original_text)\n",
    "\n",
    "        display(Markdown(probability)), display(Markdown(obit_title)), display(Markdown(original_text))\n",
    "    return"
   ]
  },
  {
   "cell_type": "markdown",
   "metadata": {},
   "source": [
    "**Topic 3**\n",
    "\n",
    "To display the top 3 original obituaries with the highest probability of containing Topic 3 and with relevant topic words bolded, we will run:"
   ]
  },
  {
   "cell_type": "code",
   "execution_count": null,
   "metadata": {},
   "outputs": [],
   "source": [
    "display_bolded_topic_words_in_context(topic_number=3, number_of_documents=3)"
   ]
  },
  {
   "cell_type": "markdown",
   "metadata": {},
   "source": [
    "## Exercise 2: Visualizing and analyzing topics\n",
    "\n",
    "## Your Turn!\n",
    "\n",
    "Choose a topic from the results above and write down its corresponding topic number below.\n",
    "\n",
    "**Topic: [Your Number Choice Here]**\n",
    "\n",
    "1. Display the top 6 obituary titles for this topic."
   ]
  },
  {
   "cell_type": "code",
   "execution_count": null,
   "metadata": {},
   "outputs": [],
   "source": [
    "# Your Code Here"
   ]
  },
  {
   "cell_type": "markdown",
   "metadata": {},
   "source": [
    "2. Display the topic words in the context of the original obituary for these 6 top titles."
   ]
  },
  {
   "cell_type": "code",
   "execution_count": null,
   "metadata": {},
   "outputs": [],
   "source": [
    "# Your Code Here"
   ]
  },
  {
   "cell_type": "markdown",
   "metadata": {},
   "source": [
    "3. Come up with a label for your topic and double-click on the cell below to write it down:"
   ]
  },
  {
   "cell_type": "markdown",
   "metadata": {},
   "source": []
  },
  {
   "cell_type": "markdown",
   "metadata": {},
   "source": [
    "4. Why did you label your topic the way you did? What do you think this topic means in the context of all the *NYT* obituaries?"
   ]
  },
  {
   "cell_type": "markdown",
   "metadata": {},
   "source": []
  },
  {
   "cell_type": "markdown",
   "metadata": {},
   "source": [
    "5. What’s another collection of texts that you think might be interesting to topic model? Why?"
   ]
  },
  {
   "cell_type": "markdown",
   "metadata": {},
   "source": []
  }
 ],
 "metadata": {
  "kernelspec": {
   "display_name": "Python 3",
   "language": "python",
   "name": "python3"
  },
  "language_info": {
   "codemirror_mode": {
    "name": "ipython",
    "version": 3
   },
   "file_extension": ".py",
   "mimetype": "text/x-python",
   "name": "python",
   "nbconvert_exporter": "python",
   "pygments_lexer": "ipython3",
   "version": "3.8.3"
  }
 },
 "nbformat": 4,
 "nbformat_minor": 4
}
