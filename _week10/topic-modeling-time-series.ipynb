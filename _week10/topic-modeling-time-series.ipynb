{
 "cells": [
  {
   "cell_type": "markdown",
   "metadata": {},
   "source": [
    "# Topic Modeling: Creating Time Series Visualizations"
   ]
  },
  {
   "cell_type": "markdown",
   "metadata": {},
   "source": [
    "A lesson from [Melanie Walsh's *Introduction to Cultural Analytics*](https://github.com/melaniewalsh/Intro-Cultural-Analytics/blob/master/book/Text-Analysis/Topic-Modeling-Time-Series.ipynb)\n",
    "\n",
    "Last week we learned about \"topic modeling\", using MALLET.\n",
    "\n",
    "In this particular lesson, we’re going to use Little MALLET Wrapper, a Python wrapper for MALLET, to topic model a CSV file of Donald Trump’s tweets and plot the fluctuation of topics over time."
   ]
  },
  {
   "cell_type": "markdown",
   "metadata": {},
   "source": [
    "### Set MALLET Path\n",
    "\n",
    "Since Little MALLET Wrapper is a Python package built around MALLET, we first need to tell it where the bigger, Java-based MALLET lives.\n",
    "\n",
    "We’re going to make a variable called path_to_mallet and assign it the file path of our MALLET program. We need to point it, specifically, to the “mallet” file inside the “bin” folder inside the “mallet-2.0.8” folder."
   ]
  },
  {
   "cell_type": "code",
   "execution_count": 1,
   "metadata": {},
   "outputs": [],
   "source": [
    "path_to_mallet = '../_week9/mallet-2.0.8/bin/mallet'"
   ]
  },
  {
   "cell_type": "markdown",
   "metadata": {},
   "source": [
    "### Install Packages"
   ]
  },
  {
   "cell_type": "code",
   "execution_count": 2,
   "metadata": {},
   "outputs": [
    {
     "name": "stdout",
     "output_type": "stream",
     "text": [
      "Requirement already satisfied: scipy in /Users/sceckert/anaconda3/lib/python3.8/site-packages (1.5.0)\n",
      "Requirement already satisfied: numpy>=1.14.5 in /Users/sceckert/anaconda3/lib/python3.8/site-packages (from scipy) (1.22.3)\n",
      "\u001b[33mWARNING: You are using pip version 22.0.4; however, version 22.3.1 is available.\n",
      "You should consider upgrading via the '/Users/sceckert/anaconda3/bin/python -m pip install --upgrade pip' command.\u001b[0m\u001b[33m\n",
      "\u001b[0m"
     ]
    }
   ],
   "source": [
    "#!pip install little_mallet_wrapper\n",
    "#!pip install seaborn\n",
    "!pip install scipy"
   ]
  },
  {
   "cell_type": "markdown",
   "metadata": {},
   "source": [
    "### Import Packages\n",
    "\n",
    "Now let’s import the little_mallet_wrapper and the data viz library seaborn."
   ]
  },
  {
   "cell_type": "code",
   "execution_count": 3,
   "metadata": {},
   "outputs": [],
   "source": [
    "import little_mallet_wrapper\n",
    "import seaborn\n",
    "import glob\n",
    "from pathlib import Path\n",
    "import pandas as pd\n",
    "import random\n",
    "import scipy\n",
    "pd.options.display.max_colwidth = 100"
   ]
  },
  {
   "cell_type": "markdown",
   "metadata": {},
   "source": [
    "### Get Training Data From CSV File\n",
    "\n",
    "Before we topic model Donald Trump’s tweets, we need to process the tweets and prepare them for analysis. The steps below demonstrate how to process texts if they come from a CSV file.\n",
    "\n",
    "Note: We’re calling these text files our training data, because we’re training our topic model with these texts. The topic model will be learning and extracting topics based on these texts"
   ]
  },
  {
   "cell_type": "markdown",
   "metadata": {},
   "source": [
    "## Trump Tweets\n",
    "\n",
    "This dataset of Donald Trump’s tweets is taken from Trump Twitter Archive. To read in the CSV file, we’re going to use Pandas."
   ]
  },
  {
   "cell_type": "code",
   "execution_count": 4,
   "metadata": {},
   "outputs": [],
   "source": [
    "trump_df = pd.read_csv(\"../_datasets/trump-tweets_01-08-2021.csv\", encoding='utf-8')"
   ]
  },
  {
   "cell_type": "code",
   "execution_count": 5,
   "metadata": {},
   "outputs": [
    {
     "data": {
      "text/html": [
       "<div>\n",
       "<style scoped>\n",
       "    .dataframe tbody tr th:only-of-type {\n",
       "        vertical-align: middle;\n",
       "    }\n",
       "\n",
       "    .dataframe tbody tr th {\n",
       "        vertical-align: top;\n",
       "    }\n",
       "\n",
       "    .dataframe thead th {\n",
       "        text-align: right;\n",
       "    }\n",
       "</style>\n",
       "<table border=\"1\" class=\"dataframe\">\n",
       "  <thead>\n",
       "    <tr style=\"text-align: right;\">\n",
       "      <th></th>\n",
       "      <th>id</th>\n",
       "      <th>text</th>\n",
       "      <th>isRetweet</th>\n",
       "      <th>isDeleted</th>\n",
       "      <th>device</th>\n",
       "      <th>favorites</th>\n",
       "      <th>retweets</th>\n",
       "      <th>date</th>\n",
       "      <th>isFlagged</th>\n",
       "    </tr>\n",
       "  </thead>\n",
       "  <tbody>\n",
       "    <tr>\n",
       "      <th>0</th>\n",
       "      <td>98454970654916608</td>\n",
       "      <td>Republicans and Democrats have both created our economic problems.</td>\n",
       "      <td>f</td>\n",
       "      <td>f</td>\n",
       "      <td>TweetDeck</td>\n",
       "      <td>49</td>\n",
       "      <td>255</td>\n",
       "      <td>2011-08-02 18:07:48</td>\n",
       "      <td>f</td>\n",
       "    </tr>\n",
       "    <tr>\n",
       "      <th>1</th>\n",
       "      <td>1234653427789070336</td>\n",
       "      <td>I was thrilled to be back in the Great city of Charlotte, North Carolina with thousands of hardw...</td>\n",
       "      <td>f</td>\n",
       "      <td>f</td>\n",
       "      <td>Twitter for iPhone</td>\n",
       "      <td>73748</td>\n",
       "      <td>17404</td>\n",
       "      <td>2020-03-03 01:34:50</td>\n",
       "      <td>f</td>\n",
       "    </tr>\n",
       "    <tr>\n",
       "      <th>2</th>\n",
       "      <td>1218010753434820614</td>\n",
       "      <td>RT @CBS_Herridge: READ: Letter to surveillance court obtained by CBS News questions where there ...</td>\n",
       "      <td>t</td>\n",
       "      <td>f</td>\n",
       "      <td>Twitter for iPhone</td>\n",
       "      <td>0</td>\n",
       "      <td>7396</td>\n",
       "      <td>2020-01-17 03:22:47</td>\n",
       "      <td>f</td>\n",
       "    </tr>\n",
       "    <tr>\n",
       "      <th>3</th>\n",
       "      <td>1304875170860015617</td>\n",
       "      <td>The Unsolicited Mail In Ballot Scam is a major threat to our Democracy, &amp;amp; the Democrats know...</td>\n",
       "      <td>f</td>\n",
       "      <td>f</td>\n",
       "      <td>Twitter for iPhone</td>\n",
       "      <td>80527</td>\n",
       "      <td>23502</td>\n",
       "      <td>2020-09-12 20:10:58</td>\n",
       "      <td>f</td>\n",
       "    </tr>\n",
       "    <tr>\n",
       "      <th>4</th>\n",
       "      <td>1218159531554897920</td>\n",
       "      <td>RT @MZHemingway: Very friendly telling of events here about Comey's apparent leaking to complian...</td>\n",
       "      <td>t</td>\n",
       "      <td>f</td>\n",
       "      <td>Twitter for iPhone</td>\n",
       "      <td>0</td>\n",
       "      <td>9081</td>\n",
       "      <td>2020-01-17 13:13:59</td>\n",
       "      <td>f</td>\n",
       "    </tr>\n",
       "  </tbody>\n",
       "</table>\n",
       "</div>"
      ],
      "text/plain": [
       "                    id  \\\n",
       "0    98454970654916608   \n",
       "1  1234653427789070336   \n",
       "2  1218010753434820614   \n",
       "3  1304875170860015617   \n",
       "4  1218159531554897920   \n",
       "\n",
       "                                                                                                  text  \\\n",
       "0                                   Republicans and Democrats have both created our economic problems.   \n",
       "1  I was thrilled to be back in the Great city of Charlotte, North Carolina with thousands of hardw...   \n",
       "2  RT @CBS_Herridge: READ: Letter to surveillance court obtained by CBS News questions where there ...   \n",
       "3  The Unsolicited Mail In Ballot Scam is a major threat to our Democracy, &amp; the Democrats know...   \n",
       "4  RT @MZHemingway: Very friendly telling of events here about Comey's apparent leaking to complian...   \n",
       "\n",
       "  isRetweet isDeleted              device  favorites  retweets  \\\n",
       "0         f         f           TweetDeck         49       255   \n",
       "1         f         f  Twitter for iPhone      73748     17404   \n",
       "2         t         f  Twitter for iPhone          0      7396   \n",
       "3         f         f  Twitter for iPhone      80527     23502   \n",
       "4         t         f  Twitter for iPhone          0      9081   \n",
       "\n",
       "                  date isFlagged  \n",
       "0  2011-08-02 18:07:48         f  \n",
       "1  2020-03-03 01:34:50         f  \n",
       "2  2020-01-17 03:22:47         f  \n",
       "3  2020-09-12 20:10:58         f  \n",
       "4  2020-01-17 13:13:59         f  "
      ]
     },
     "execution_count": 5,
     "metadata": {},
     "output_type": "execute_result"
    }
   ],
   "source": [
    "trump_df.head()"
   ]
  },
  {
   "cell_type": "code",
   "execution_count": 6,
   "metadata": {},
   "outputs": [],
   "source": [
    "trump_df['text'] = trump_df['text'].astype(str)\n"
   ]
  },
  {
   "cell_type": "markdown",
   "metadata": {},
   "source": [
    "## Process Trump Tweets\n"
   ]
  },
  {
   "cell_type": "code",
   "execution_count": 7,
   "metadata": {},
   "outputs": [],
   "source": [
    "training_data = [little_mallet_wrapper.process_string(text, numbers='remove') for text in trump_df['text']]"
   ]
  },
  {
   "cell_type": "markdown",
   "metadata": {},
   "source": [
    "NOTE: The standard processing script removes stopwords and numbers––if you want to include \n",
    "\n",
    "Here's all of the options that you have at your disposal: `process_string(text, lowercase=True, remove_short_words=True, remove_stop_words=True, remove_punctuation=True, numbers='replace', stop_words=STOPS)`. The stop_words=STOPS is set to this stopwords list (found in [the MALLET 'en.txt' stoplist](https://github.com/sceckert/IntroDHFall2022/tree/main/_week9/mallet-2.0.8/stoplists). We can change this specify a specific .txt file of your choosing. \n",
    "\n",
    "Try changing the script above to leave stopwords in, by adding \"remove_stop_words=False\""
   ]
  },
  {
   "cell_type": "markdown",
   "metadata": {},
   "source": [
    "### Get Original Trump Tweets"
   ]
  },
  {
   "cell_type": "code",
   "execution_count": 8,
   "metadata": {},
   "outputs": [],
   "source": [
    "original_trump_tweets = [title for title in trump_df['text']]"
   ]
  },
  {
   "cell_type": "code",
   "execution_count": 9,
   "metadata": {},
   "outputs": [],
   "source": [
    "## Get Dataset Statistics"
   ]
  },
  {
   "cell_type": "code",
   "execution_count": 10,
   "metadata": {},
   "outputs": [
    {
     "name": "stdout",
     "output_type": "stream",
     "text": [
      "Number of Documents: 56571\n",
      "Mean Number of Words per Document: 12.0\n",
      "Vocabulary Size: 59952\n"
     ]
    }
   ],
   "source": [
    "little_mallet_wrapper.print_dataset_stats(training_data)"
   ]
  },
  {
   "cell_type": "markdown",
   "metadata": {},
   "source": [
    "## Training the Topic Model\n",
    "\n",
    "We’re going to train our topic model with the little_mallet_wrapper.train_topic_model() function.\n",
    "\n",
    "So we have to set a few things up first."
   ]
  },
  {
   "cell_type": "markdown",
   "metadata": {},
   "source": [
    "## Set Number of Topics"
   ]
  },
  {
   "cell_type": "code",
   "execution_count": 11,
   "metadata": {},
   "outputs": [],
   "source": [
    "num_topics = 35"
   ]
  },
  {
   "cell_type": "markdown",
   "metadata": {},
   "source": [
    "## Set Training Data"
   ]
  },
  {
   "cell_type": "code",
   "execution_count": 12,
   "metadata": {},
   "outputs": [],
   "source": [
    "training_data = training_data"
   ]
  },
  {
   "cell_type": "markdown",
   "metadata": {},
   "source": [
    "## Set Other MALLET File Paths"
   ]
  },
  {
   "cell_type": "code",
   "execution_count": 13,
   "metadata": {},
   "outputs": [],
   "source": [
    "#Change to your desired output directory\n",
    "output_directory_path = 'topic-model-output/Trump-Tweets'\n",
    "\n",
    "#No need to change anything below here\n",
    "Path(f\"{output_directory_path}\").mkdir(parents=True, exist_ok=True)\n",
    "\n",
    "path_to_training_data           = output_directory_path + '/training.txt'\n",
    "path_to_formatted_training_data = output_directory_path + '/mallet.training'\n",
    "path_to_model                   = output_directory_path + '/mallet.model.' + str(num_topics)\n",
    "path_to_topic_keys              = output_directory_path + '/mallet.topic_keys.' + str(num_topics)\n",
    "path_to_topic_distributions     = output_directory_path + '/mallet.topic_distributions.' + str(num_topics)\n",
    "path_to_word_weights            = output_directory_path + '/mallet.word_weights.' + str(num_topics)\n",
    "path_to_diagnostics             = output_directory_path + '/mallet.diagnostics.' + str(num_topics) + '.xml'\n",
    "\n"
   ]
  },
  {
   "cell_type": "markdown",
   "metadata": {},
   "source": [
    "## Import Data\n",
    "\n",
    "We’re going to import the data with little_mallet_wrapper.import_data()."
   ]
  },
  {
   "cell_type": "code",
   "execution_count": 14,
   "metadata": {},
   "outputs": [
    {
     "name": "stdout",
     "output_type": "stream",
     "text": [
      "Importing data...\n",
      "Complete\n"
     ]
    }
   ],
   "source": [
    "little_mallet_wrapper.import_data(path_to_mallet,\n",
    "                path_to_training_data,\n",
    "                path_to_formatted_training_data,\n",
    "                training_data)"
   ]
  },
  {
   "cell_type": "markdown",
   "metadata": {},
   "source": [
    "## Train Topic Model\n",
    "The topic model should take 1-2 minutes to complete"
   ]
  },
  {
   "cell_type": "code",
   "execution_count": 15,
   "metadata": {},
   "outputs": [
    {
     "name": "stdout",
     "output_type": "stream",
     "text": [
      "Training topic model...\n",
      "Complete\n"
     ]
    }
   ],
   "source": [
    "little_mallet_wrapper.train_topic_model(path_to_mallet,\n",
    "                      path_to_formatted_training_data,\n",
    "                      path_to_model,\n",
    "                      path_to_topic_keys,\n",
    "                      path_to_topic_distributions,\n",
    "                      path_to_word_weights,\n",
    "                      path_to_diagnostics,\n",
    "                      num_topics)"
   ]
  },
  {
   "cell_type": "markdown",
   "metadata": {},
   "source": [
    "## Display Topics and Top Words"
   ]
  },
  {
   "cell_type": "code",
   "execution_count": 16,
   "metadata": {},
   "outputs": [
    {
     "name": "stdout",
     "output_type": "stream",
     "text": [
      "✨Topic 0✨\n",
      "\n",
      "['democrats', 'impeachment', 'house', 'senate', 'pelosi', 'nancy', 'president', 'dems', 'republicans', 'party', 'nothing', 'schiff', 'republican', 'jim', 'https', 'today', 'jordan', 'democrat', 'realdonaldtrump', 'congress']\n",
      "\n",
      "✨Topic 1✨\n",
      "\n",
      "['http', 'trump', 'via', 'donald', 'barackobama', 'obama', 'interview', 'cont', 'mittromney', 'discussing', 'newsmax', 'breitbartnews', 'gop', 'media', 'trumpvlog', 'read', 'today', 'speech', 'foxandfriends', 'bit']\n",
      "\n",
      "✨Topic 2✨\n",
      "\n",
      "['https', 'jobs', 'american', 'back', 'ford', 'new', 'bring', 'workers', 'promises', 'steve', 'apple', 'thank', 'michigan', 'made', 'whitehouse', 'america', 'plant', 'great', 'manufacturing', 'coming']\n",
      "\n",
      "✨Topic 3✨\n",
      "\n",
      "['court', 'supreme', 'judge', 'justice', 'https', 'states', 'decision', 'pro', 'federal', 'united', 'case', 'quo', 'trump', 'judges', 'quid', 'justices', 'new', 'amy', 'president', 'barrett']\n",
      "\n",
      "✨Topic 4✨\n",
      "\n",
      "['election', 'https', 'vote', 'votes', 'ballots', 'fraud', 'state', 'republican', 'voting', 'win', 'voter', 'mail', 'ballot', 'georgia', 'states', 'party', 'rigged', 'get', 'people', 'won']\n",
      "\n",
      "✨Topic 5✨\n",
      "\n",
      "['great', 'work', 'america', 'make', 'people', 'hard', 'keep', 'country', 'get', 'never', 'working', 'big', 'time', 'back', 'together', 'think', 'must', 'let', 'take', 'every']\n",
      "\n",
      "✨Topic 6✨\n",
      "\n",
      "['trump', 'https', 'poll', 'new', 'thank', 'approval', 'donald', 'realdonaldtrump', 'republican', 'rating', 'http', 'party', 'polls', 'makeamericagreatagain', 'report', 'hampshire', 'numbers', 'lead', 'carson', 'cnn']\n",
      "\n",
      "✨Topic 7✨\n",
      "\n",
      "['news', 'fake', 'media', 'people', 'even', 'story', 'cnn', 'bad', 'many', 'never', 'would', 'big', 'like', 'new', 'much', 'failing', 'times', 'nytimes', 'totally', 'really']\n",
      "\n",
      "✨Topic 8✨\n",
      "\n",
      "['think', 'like', 'deal', 'business', 'art', 'realdonaldtrump', 'know', 'entrepreneurs', 'one', 'best', 'success', 'good', 'touch', 'never', 'give', 'make', 'champion', 'focus', 'midas', 'learn']\n",
      "\n",
      "✨Topic 9✨\n",
      "\n",
      "['realdonaldtrump', 'apprentice', 'celebapprentice', 'apprenticenbc', 'great', 'show', 'celebrity', 'season', 'http', 'nbc', 'miss', 'tonight', 'star', 'watch', 'love', 'celebrityapprentice', 'wait', 'night', 'see', 'sunday']\n",
      "\n",
      "✨Topic 10✨\n",
      "\n",
      "['https', 'great', 'america', 'house', 'make', 'white', 'thank', 'realdonaldtrump', 'conference', 'live', 'whitehouse', 'news', 'press', 'president', 'get', 'today', 'together', 'let', 'safe', 'vote']\n",
      "\n",
      "✨Topic 11✨\n",
      "\n",
      "['fbi', 'https', 'comey', 'trump', 'clinton', 'general', 'campaign', 'obama', 'hillary', 'james', 'flynn', 'report', 'tomfitton', 'director', 'investigation', 'dossier', 'former', 'attorney', 'new', 'doj']\n",
      "\n",
      "✨Topic 12✨\n",
      "\n",
      "['united', 'president', 'states', 'great', 'korea', 'north', 'meeting', 'https', 'forward', 'minister', 'prime', 'today', 'good', 'china', 'trade', 'israel', 'many', 'kim', 'japan', 'new']\n",
      "\n",
      "✨Topic 13✨\n",
      "\n",
      "['great', 'thank', 'congratulations', 'http', 'job', 'wind', 'thanks', 'https', 'guy', 'realdonaldtrump', 'true', 'wonderful', 'amazing', 'good', 'friend', 'nice', 'turbines', 'proud', 'alexsalmond', 'fantastic']\n",
      "\n",
      "✨Topic 14✨\n",
      "\n",
      "['realdonaldtrump', 'trump', 'president', 'run', 'need', 'country', 'please', 'would', 'america', 'donald', 'vote', 'needs', 'thanks', 'make', 'great', 'true', 'get', 'man', 'like', 'thank']\n",
      "\n",
      "✨Topic 15✨\n",
      "\n",
      "['law', 'https', 'police', 'people', 'enforcement', 'god', 'national', 'thank', 'bless', 'great', 'mayor', 'stand', 'prayers', 'federal', 'families', 'guard', 'portland', 'officers', 'city', 'order']\n",
      "\n",
      "✨Topic 16✨\n",
      "\n",
      "['obama', 'iran', 'http', 'isis', 'syria', 'china', 'president', 'attack', 'iraq', 'barackobama', 'russia', 'military', 'stop', 'must', 'world', 'back', 'oil', 'people', 'war', 'cont']\n",
      "\n",
      "✨Topic 17✨\n",
      "\n",
      "['realdonaldtrump', 'like', 'show', 'would', 'never', 'people', 'really', 'trump', 'think', 'true', 'haters', 'much', 'losers', 'even', 'loser', 'guy', 'billmaher', 'twitter', 'rosie', 'know']\n",
      "\n",
      "✨Topic 18✨\n",
      "\n",
      "['realdonaldtrump', 'thanks', 'thank', 'great', 'trump', 'good', 'love', 'nice', 'true', 'donald', 'man', 'like', 'best', 'luck', 'one', 'keep', 'always', 'awesome', 'sign', 'real']\n",
      "\n",
      "✨Topic 19✨\n",
      "\n",
      "['witch', 'democrats', 'hunt', 'president', 'russia', 'collusion', 'mueller', 'never', 'nothing', 'trump', 'hoax', 'schiff', 'call', 'ukraine', 'report', 'hillary', 'campaign', 'russian', 'said', 'whistleblower']\n",
      "\n",
      "✨Topic 20✨\n",
      "\n",
      "['http', 'trump', 'golf', 'course', 'realdonaldtrump', 'great', 'hotel', 'best', 'world', 'national', 'tower', 'new', 'doral', 'thanks', 'beautiful', 'club', 'scotland', 'one', 'amazing', 'trumpdoral']\n",
      "\n",
      "✨Topic 21✨\n",
      "\n",
      "['border', 'wall', 'security', 'immigration', 'country', 'democrats', 'must', 'illegal', 'want', 'people', 'mexico', 'crime', 'southern', 'borders', 'national', 'stop', 'get', 'laws', 'congress', 'open']\n",
      "\n",
      "✨Topic 22✨\n",
      "\n",
      "['hillary', 'would', 'obama', 'never', 'people', 'said', 'many', 'bad', 'like', 'years', 'clinton', 'even', 'crooked', 'got', 'didn', 'time', 'one', 'won', 'total', 'cruz']\n",
      "\n",
      "✨Topic 23✨\n",
      "\n",
      "['https', 'great', 'thank', 'big', 'crowd', 'carolina', 'rally', 'see', 'tomorrow', 'join', 'forward', 'tonight', 'night', 'soon', 'maga', 'iowa', 'people', 'florida', 'looking', 'trump']\n",
      "\n",
      "✨Topic 24✨\n",
      "\n",
      "['coronavirus', 'covid', 'https', 'hurricane', 'help', 'global', 'state', 'people', 'federal', 'warming', 'new', 'small', 'fema', 'whitehouse', 'local', 'working', 'support', 'storm', 'government', 'vaccine']\n",
      "\n",
      "✨Topic 25✨\n",
      "\n",
      "['https', 'president', 'today', 'realdonaldtrump', 'whitehouse', 'american', 'honor', 'great', 'day', 'thank', 'america', 'nation', 'women', 'first', 'national', 'veterans', 'men', 'flotus', 'freedom', 'history']\n",
      "\n",
      "✨Topic 26✨\n",
      "\n",
      "['trump', 'realdonaldtrump', 'president', 'donald', 'https', 'gop', 'vote', 'teamtrump', 'makeamericagreatagain', 'reagan', 'thanks', 'support', 'america', 'people', 'would', 'win', 'donaldtrump', 'http', 'truth', 'know']\n",
      "\n",
      "✨Topic 27✨\n",
      "\n",
      "['happy', 'great', 'book', 'trump', 'new', 'https', 'realdonaldtrump', 'birthday', 'http', 'ties', 'macys', 'thanks', 'today', 'america', 'christmas', 'macy', 'get', 'year', 'day', 'donald']\n",
      "\n",
      "✨Topic 28✨\n",
      "\n",
      "['big', 'time', 'get', 'like', 'good', 'win', 'never', 'going', 'much', 'think', 'great', 'game', 'realdonaldtrump', 'better', 'one', 'way', 'well', 'long', 'could', 'would']\n",
      "\n",
      "✨Topic 29✨\n",
      "\n",
      "['china', 'obamacare', 'trade', 'dollars', 'deal', 'http', 'money', 'much', 'tax', 'would', 'countries', 'jobs', 'barackobama', 'big', 'billion', 'years', 'country', 'great', 'many', 'pay']\n",
      "\n",
      "✨Topic 30✨\n",
      "\n",
      "['foxnews', 'tonight', 'great', 'enjoy', 'interview', 'morning', 'realdonaldtrump', 'fox', 'foxandfriends', 'show', 'interviewed', 'watch', 'night', 'seanhannity', 'cnn', 'last', 'trump', 'chris', 'news', 'ratings']\n",
      "\n",
      "✨Topic 31✨\n",
      "\n",
      "['great', 'endorsement', 'total', 'complete', 'vote', 'https', 'strong', 'amendment', 'military', 'vets', 'state', 'second', 'job', 'congressman', 'crime', 'governor', 'people', 'loves', 'big', 'border']\n",
      "\n",
      "✨Topic 32✨\n",
      "\n",
      "['biden', 'joe', 'https', 'sleepy', 'bernie', 'president', 'realdonaldtrump', 'left', 'hillary', 'american', 'would', 'radical', 'vote', 'want', 'china', 'democrats', 'sanders', 'wants', 'teamtrump', 'wins']\n",
      "\n",
      "✨Topic 33✨\n",
      "\n",
      "['economy', 'ever', 'jobs', 'record', 'history', 'president', 'best', 'years', 'year', 'since', 'unemployment', 'market', 'numbers', 'stock', 'great', 'time', 'trump', 'tax', 'realdonaldtrump', 'https']\n",
      "\n",
      "✨Topic 34✨\n",
      "\n",
      "['https', 'thank', 'trump', 'makeamericagreatagain', 'realdonaldtrump', 'maga', 'danscavino', 'americafirst', 'co/w', 'co/d', 'co/y', 'true', 'kag', 'co/n', 'co/x', 'co/h', 'co/l', 'video', 'scavino', 'erictrump']\n",
      "\n"
     ]
    }
   ],
   "source": [
    "topics = little_mallet_wrapper.load_topic_keys(path_to_topic_keys)\n",
    "\n",
    "for topic_number, topic in enumerate(topics):\n",
    "    print(f\"✨Topic {topic_number}✨\\n\\n{topic}\\n\")"
   ]
  },
  {
   "cell_type": "markdown",
   "metadata": {},
   "source": [
    "## Display Top Tweets Per Topic\n",
    "### Load Topic Distributions\n",
    "To load topic distributions, run the following four cells"
   ]
  },
  {
   "cell_type": "code",
   "execution_count": 17,
   "metadata": {},
   "outputs": [],
   "source": [
    "topic_distributions = little_mallet_wrapper.load_topic_distributions(path_to_topic_distributions)"
   ]
  },
  {
   "cell_type": "code",
   "execution_count": 18,
   "metadata": {},
   "outputs": [],
   "source": [
    "tweet_dict = dict(zip(training_data, original_trump_tweets))"
   ]
  },
  {
   "cell_type": "code",
   "execution_count": 19,
   "metadata": {},
   "outputs": [],
   "source": [
    "def display_top_tweets_per_topic(topic_number=0, number_of_documents=5):\n",
    "    \n",
    "    print(f\"✨Topic {topic_number}✨\\n\\n{topics[topic_number]}\\n\")\n",
    "\n",
    "    for probability, document in little_mallet_wrapper.get_top_docs(training_data, topic_distributions, topic_number, n=number_of_documents):\n",
    "        print(round(probability, 4), tweet_dict[document] + \"\\n\")\n",
    "    return"
   ]
  },
  {
   "cell_type": "markdown",
   "metadata": {},
   "source": [
    "#### Display top tweets in Topic 0"
   ]
  },
  {
   "cell_type": "code",
   "execution_count": 20,
   "metadata": {},
   "outputs": [
    {
     "name": "stdout",
     "output_type": "stream",
     "text": [
      "✨Topic 0✨\n",
      "\n",
      "['democrats', 'impeachment', 'house', 'senate', 'pelosi', 'nancy', 'president', 'dems', 'republicans', 'party', 'nothing', 'schiff', 'republican', 'jim', 'https', 'today', 'jordan', 'democrat', 'realdonaldtrump', 'congress']\n",
      "\n",
      "0.9546 Nancy Pelosi, who has already lost the House &amp, Speakership once, &amp, is about to lose it again, is doing everything she can to delay the zero Republican vote Articles of Impeachment. She is trying to take over the Senate, &amp, Cryin’ Chuck is trying to take over the trial. No way!....\n",
      "\n",
      "0.9481 .@marcthiessen  “Voters say the Democrats are trying to take away their votes. Pelosi was right the first time. Impeachment has backfired thoroughly on the Democrats. How can you Impeach the President for going to the courts?”\n",
      "\n",
      "0.9427 Nancy Pelosi says she got “set up” by a Beauty Parlor owner. Maybe the Beauty Parlor owner should be running the House of Representatives instead of Crazy Nancy?\n",
      "\n",
      "0.9321 RT @Jim_Jordan: “Jim Jordan says facts are on Trump's side after week of public impeachment hearings”@BretBaier https://t.co/gBPNYvYPjW\n",
      "\n",
      "0.9276 RT @SenTedCruz: Tonight House Dems concluded their partisan show trial, voting to impeach a president for the 1st time in US history withou...\n",
      "\n"
     ]
    }
   ],
   "source": [
    "display_top_tweets_per_topic(topic_number=0, number_of_documents=5)"
   ]
  },
  {
   "cell_type": "markdown",
   "metadata": {},
   "source": [
    "## Plot Topics Over Time\n"
   ]
  },
  {
   "cell_type": "markdown",
   "metadata": {},
   "source": [
    "### Load Topic Distributions"
   ]
  },
  {
   "cell_type": "code",
   "execution_count": 21,
   "metadata": {},
   "outputs": [],
   "source": [
    "topic_distributions = little_mallet_wrapper.load_topic_distributions(path_to_topic_distributions)"
   ]
  },
  {
   "cell_type": "markdown",
   "metadata": {},
   "source": [
    "### Add Topic Distribution Columns\n",
    "\n",
    "Add column with all topic distributions for every tweet"
   ]
  },
  {
   "cell_type": "code",
   "execution_count": 22,
   "metadata": {},
   "outputs": [],
   "source": [
    "trump_df['topic_distributions'] = pd.Series(topic_distributions)"
   ]
  },
  {
   "cell_type": "markdown",
   "metadata": {},
   "source": [
    "Make a separate dataframe with each topic distribution as a separate column"
   ]
  },
  {
   "cell_type": "code",
   "execution_count": 23,
   "metadata": {},
   "outputs": [],
   "source": [
    "topic_distributions_df = trump_df['topic_distributions'].apply(pd.Series)"
   ]
  },
  {
   "cell_type": "markdown",
   "metadata": {},
   "source": [
    "Rename each of those columns with the first four words from the topic"
   ]
  },
  {
   "cell_type": "code",
   "execution_count": 24,
   "metadata": {},
   "outputs": [],
   "source": [
    "topic_distributions_df.columns = [\" \".join(topic[:4]) for topic in topics]"
   ]
  },
  {
   "cell_type": "markdown",
   "metadata": {},
   "source": [
    "Merge that column into the dataframe"
   ]
  },
  {
   "cell_type": "code",
   "execution_count": 25,
   "metadata": {},
   "outputs": [],
   "source": [
    "trump_df = pd.concat([trump_df, topic_distributions_df], axis=1)"
   ]
  },
  {
   "cell_type": "markdown",
   "metadata": {},
   "source": [
    "### Date Formatting For Time Series Plot"
   ]
  },
  {
   "cell_type": "markdown",
   "metadata": {},
   "source": [
    "#### Convert to datetime"
   ]
  },
  {
   "cell_type": "code",
   "execution_count": 26,
   "metadata": {},
   "outputs": [],
   "source": [
    "trump_df['date'] = pd.to_datetime(trump_df['date'])"
   ]
  },
  {
   "cell_type": "markdown",
   "metadata": {},
   "source": [
    "#### Extract year"
   ]
  },
  {
   "cell_type": "code",
   "execution_count": 27,
   "metadata": {},
   "outputs": [],
   "source": [
    "trump_df['year'] = pd.to_datetime(trump_df['date'].dt.year, format='%Y')"
   ]
  },
  {
   "cell_type": "markdown",
   "metadata": {},
   "source": [
    "#### Extract year and month"
   ]
  },
  {
   "cell_type": "code",
   "execution_count": 28,
   "metadata": {},
   "outputs": [],
   "source": [
    "trump_df['year-month'] = trump_df['date'].dt.to_period('M')"
   ]
  },
  {
   "cell_type": "code",
   "execution_count": 29,
   "metadata": {},
   "outputs": [],
   "source": [
    "trump_df['Date (by month)'] = [month.to_timestamp() for month in trump_df['year-month']]"
   ]
  },
  {
   "cell_type": "markdown",
   "metadata": {},
   "source": [
    "#### Set year and month as Pandas Index"
   ]
  },
  {
   "cell_type": "code",
   "execution_count": 30,
   "metadata": {},
   "outputs": [],
   "source": [
    "trump_df = trump_df.set_index('Date (by month)')"
   ]
  },
  {
   "cell_type": "markdown",
   "metadata": {},
   "source": [
    "### Plot Individual Topics as Time Series"
   ]
  },
  {
   "cell_type": "markdown",
   "metadata": {},
   "source": [
    "**Topic 10 Label**:\n",
    "\n",
    "(Double-click this cell to enter your own label)"
   ]
  },
  {
   "cell_type": "markdown",
   "metadata": {},
   "source": [
    "### For every Trump tweet, plot the probability of Topic 10:"
   ]
  },
  {
   "cell_type": "code",
   "execution_count": 31,
   "metadata": {},
   "outputs": [
    {
     "data": {
      "text/plain": [
       "<matplotlib.axes._subplots.AxesSubplot at 0x7fda77e97eb0>"
      ]
     },
     "execution_count": 31,
     "metadata": {},
     "output_type": "execute_result"
    },
    {
     "data": {
      "image/png": "[encoded data removed]",
      "text/plain": [
       "<Figure size 432x288 with 1 Axes>"
      ]
     },
     "metadata": {},
     "output_type": "display_data"
    }
   ],
   "source": [
    "topic_number = 10\n",
    "\n",
    "topic_label = \" \".join(topics[topic_number][:4])\n",
    "\n",
    "trump_df[topic_label].plot(style='.', title='Trump Tweets By Topic')"
   ]
  },
  {
   "cell_type": "markdown",
   "metadata": {},
   "source": [
    "### Compare to the total number of Trump tweets per month in our set"
   ]
  },
  {
   "cell_type": "code",
   "execution_count": 32,
   "metadata": {},
   "outputs": [
    {
     "data": {
      "text/plain": [
       "Text(0.5, 0, 'Date (by Month)')"
      ]
     },
     "execution_count": 32,
     "metadata": {},
     "output_type": "execute_result"
    },
    {
     "data": {
      "image/png": "[encoded data removed]",
      "text/plain": [
       "<Figure size 432x288 with 1 Axes>"
      ]
     },
     "metadata": {},
     "output_type": "display_data"
    }
   ],
   "source": [
    "ax= trump_df['year-month'].value_counts().plot(style='.', title='Trump Tweets per Month')\n",
    "ax.set_xlabel(\"Date (by Month)\")"
   ]
  },
  {
   "cell_type": "markdown",
   "metadata": {},
   "source": [
    "## 💡 CHECK-IN\n",
    "> What might this mean for how we interpret the distribution of topic 10 in our corpus?   \n",
    "> How might this graph of the total Trump tweets change how we interpret the distribution of topic 10 in our corpus?"
   ]
  },
  {
   "cell_type": "markdown",
   "metadata": {},
   "source": [
    "### For every month of Trump tweets, plot the average probability of Topic 10"
   ]
  },
  {
   "cell_type": "code",
   "execution_count": 33,
   "metadata": {},
   "outputs": [
    {
     "data": {
      "text/plain": [
       "<matplotlib.axes._subplots.AxesSubplot at 0x7fda5a46e880>"
      ]
     },
     "execution_count": 33,
     "metadata": {},
     "output_type": "execute_result"
    },
    {
     "data": {
      "image/png": "[encoded data removed]",
      "text/plain": [
       "<Figure size 432x288 with 1 Axes>"
      ]
     },
     "metadata": {},
     "output_type": "display_data"
    }
   ],
   "source": [
    "topic_number = 10\n",
    "\n",
    "topic_label = \" \".join(topics[topic_number][:4])\n",
    "\n",
    "trump_df.groupby(trump_df.index)[[topic_label]].mean().plot(title='Trump Tweets By Topic', linewidth=2)"
   ]
  },
  {
   "cell_type": "markdown",
   "metadata": {},
   "source": [
    "## Your Turn!\n",
    "\n",
    "Choose 3 different topics from the Trump Twitter Archive and compare them:"
   ]
  },
  {
   "cell_type": "markdown",
   "metadata": {},
   "source": [
    "#### Topic #: (Double-Click to change this cell)"
   ]
  },
  {
   "cell_type": "code",
   "execution_count": 34,
   "metadata": {},
   "outputs": [
    {
     "data": {
      "text/plain": [
       "<matplotlib.axes._subplots.AxesSubplot at 0x7fda4d301790>"
      ]
     },
     "execution_count": 34,
     "metadata": {},
     "output_type": "execute_result"
    },
    {
     "data": {
      "image/png": "[encoded data removed]",
      "text/plain": [
       "<Figure size 432x288 with 1 Axes>"
      ]
     },
     "metadata": {},
     "output_type": "display_data"
    }
   ],
   "source": [
    "## Change the number here to view a different topic\n",
    "topic_number = 0\n",
    "\n",
    "topic_label = \" \".join(topics[topic_number][:4])\n",
    "\n",
    "trump_df.groupby(trump_df.index)[[topic_label]].mean().plot(title='Trump Tweets By Topic', linewidth=2)"
   ]
  },
  {
   "cell_type": "markdown",
   "metadata": {},
   "source": [
    "#### Topic #: (Double-Click to change this Cell and "
   ]
  },
  {
   "cell_type": "code",
   "execution_count": 35,
   "metadata": {},
   "outputs": [
    {
     "data": {
      "text/plain": [
       "<matplotlib.axes._subplots.AxesSubplot at 0x7fda4d3f6eb0>"
      ]
     },
     "execution_count": 35,
     "metadata": {},
     "output_type": "execute_result"
    },
    {
     "data": {
      "image/png": "[encoded data removed]",
      "text/plain": [
       "<Figure size 432x288 with 1 Axes>"
      ]
     },
     "metadata": {},
     "output_type": "display_data"
    }
   ],
   "source": [
    "## Change the number here to view a different topic\n",
    "topic_number = 1\n",
    "\n",
    "topic_label = \" \".join(topics[topic_number][:4])\n",
    "\n",
    "trump_df.groupby(trump_df.index)[[topic_label]].mean().plot(title='Trump Tweets By Topic', linewidth=2)"
   ]
  },
  {
   "cell_type": "markdown",
   "metadata": {},
   "source": [
    "#### Topic #: (Double-Click to change this Cell and "
   ]
  },
  {
   "cell_type": "code",
   "execution_count": 36,
   "metadata": {},
   "outputs": [
    {
     "data": {
      "text/plain": [
       "<matplotlib.axes._subplots.AxesSubplot at 0x7fda4d2c0eb0>"
      ]
     },
     "execution_count": 36,
     "metadata": {},
     "output_type": "execute_result"
    },
    {
     "data": {
      "image/png": "[encoded data removed]",
      "text/plain": [
       "<Figure size 432x288 with 1 Axes>"
      ]
     },
     "metadata": {},
     "output_type": "display_data"
    }
   ],
   "source": [
    "## Change the number here to view a different topic\n",
    "topic_number = 2\n",
    "\n",
    "topic_label = \" \".join(topics[topic_number][:4])\n",
    "\n",
    "trump_df.groupby(trump_df.index)[[topic_label]].mean().plot(title='Trump Tweets By Topic', linewidth=2)"
   ]
  },
  {
   "cell_type": "markdown",
   "metadata": {},
   "source": [
    "## Reflection\n",
    "\n",
    "1. What sorts of things should a digital humanist be aware of when creating a time-series visualization of topics?\n",
    "2. What kinds of things can we do to contextualize a time-series data, so that we can better understand the patterns that we're visualizing\n",
    "\n",
    "Write your reflections below:"
   ]
  },
  {
   "cell_type": "markdown",
   "metadata": {},
   "source": [
    "## Displaying Topics Present in a Single Document (eg in a particular Tweet)"
   ]
  },
  {
   "cell_type": "markdown",
   "metadata": {},
   "source": [
    "What if we wanted to look at the topics associated with a particular document (eg a particular tweet)? \n",
    "Let's take a look at how the data is structured:"
   ]
  },
  {
   "cell_type": "code",
   "execution_count": 39,
   "metadata": {},
   "outputs": [],
   "source": [
    "trump_df = pd.read_csv(\"../_datasets/trump-tweets_01-08-2021.csv\", encoding='utf-8')"
   ]
  },
  {
   "cell_type": "code",
   "execution_count": 40,
   "metadata": {},
   "outputs": [
    {
     "data": {
      "text/html": [
       "<div>\n",
       "<style scoped>\n",
       "    .dataframe tbody tr th:only-of-type {\n",
       "        vertical-align: middle;\n",
       "    }\n",
       "\n",
       "    .dataframe tbody tr th {\n",
       "        vertical-align: top;\n",
       "    }\n",
       "\n",
       "    .dataframe thead th {\n",
       "        text-align: right;\n",
       "    }\n",
       "</style>\n",
       "<table border=\"1\" class=\"dataframe\">\n",
       "  <thead>\n",
       "    <tr style=\"text-align: right;\">\n",
       "      <th></th>\n",
       "      <th>id</th>\n",
       "      <th>text</th>\n",
       "      <th>isRetweet</th>\n",
       "      <th>isDeleted</th>\n",
       "      <th>device</th>\n",
       "      <th>favorites</th>\n",
       "      <th>retweets</th>\n",
       "      <th>date</th>\n",
       "      <th>isFlagged</th>\n",
       "    </tr>\n",
       "  </thead>\n",
       "  <tbody>\n",
       "    <tr>\n",
       "      <th>0</th>\n",
       "      <td>98454970654916608</td>\n",
       "      <td>Republicans and Democrats have both created our economic problems.</td>\n",
       "      <td>f</td>\n",
       "      <td>f</td>\n",
       "      <td>TweetDeck</td>\n",
       "      <td>49</td>\n",
       "      <td>255</td>\n",
       "      <td>2011-08-02 18:07:48</td>\n",
       "      <td>f</td>\n",
       "    </tr>\n",
       "    <tr>\n",
       "      <th>1</th>\n",
       "      <td>1234653427789070336</td>\n",
       "      <td>I was thrilled to be back in the Great city of Charlotte, North Carolina with thousands of hardw...</td>\n",
       "      <td>f</td>\n",
       "      <td>f</td>\n",
       "      <td>Twitter for iPhone</td>\n",
       "      <td>73748</td>\n",
       "      <td>17404</td>\n",
       "      <td>2020-03-03 01:34:50</td>\n",
       "      <td>f</td>\n",
       "    </tr>\n",
       "    <tr>\n",
       "      <th>2</th>\n",
       "      <td>1218010753434820614</td>\n",
       "      <td>RT @CBS_Herridge: READ: Letter to surveillance court obtained by CBS News questions where there ...</td>\n",
       "      <td>t</td>\n",
       "      <td>f</td>\n",
       "      <td>Twitter for iPhone</td>\n",
       "      <td>0</td>\n",
       "      <td>7396</td>\n",
       "      <td>2020-01-17 03:22:47</td>\n",
       "      <td>f</td>\n",
       "    </tr>\n",
       "    <tr>\n",
       "      <th>3</th>\n",
       "      <td>1304875170860015617</td>\n",
       "      <td>The Unsolicited Mail In Ballot Scam is a major threat to our Democracy, &amp;amp; the Democrats know...</td>\n",
       "      <td>f</td>\n",
       "      <td>f</td>\n",
       "      <td>Twitter for iPhone</td>\n",
       "      <td>80527</td>\n",
       "      <td>23502</td>\n",
       "      <td>2020-09-12 20:10:58</td>\n",
       "      <td>f</td>\n",
       "    </tr>\n",
       "    <tr>\n",
       "      <th>4</th>\n",
       "      <td>1218159531554897920</td>\n",
       "      <td>RT @MZHemingway: Very friendly telling of events here about Comey's apparent leaking to complian...</td>\n",
       "      <td>t</td>\n",
       "      <td>f</td>\n",
       "      <td>Twitter for iPhone</td>\n",
       "      <td>0</td>\n",
       "      <td>9081</td>\n",
       "      <td>2020-01-17 13:13:59</td>\n",
       "      <td>f</td>\n",
       "    </tr>\n",
       "  </tbody>\n",
       "</table>\n",
       "</div>"
      ],
      "text/plain": [
       "                    id  \\\n",
       "0    98454970654916608   \n",
       "1  1234653427789070336   \n",
       "2  1218010753434820614   \n",
       "3  1304875170860015617   \n",
       "4  1218159531554897920   \n",
       "\n",
       "                                                                                                  text  \\\n",
       "0                                   Republicans and Democrats have both created our economic problems.   \n",
       "1  I was thrilled to be back in the Great city of Charlotte, North Carolina with thousands of hardw...   \n",
       "2  RT @CBS_Herridge: READ: Letter to surveillance court obtained by CBS News questions where there ...   \n",
       "3  The Unsolicited Mail In Ballot Scam is a major threat to our Democracy, &amp; the Democrats know...   \n",
       "4  RT @MZHemingway: Very friendly telling of events here about Comey's apparent leaking to complian...   \n",
       "\n",
       "  isRetweet isDeleted              device  favorites  retweets  \\\n",
       "0         f         f           TweetDeck         49       255   \n",
       "1         f         f  Twitter for iPhone      73748     17404   \n",
       "2         t         f  Twitter for iPhone          0      7396   \n",
       "3         f         f  Twitter for iPhone      80527     23502   \n",
       "4         t         f  Twitter for iPhone          0      9081   \n",
       "\n",
       "                  date isFlagged  \n",
       "0  2011-08-02 18:07:48         f  \n",
       "1  2020-03-03 01:34:50         f  \n",
       "2  2020-01-17 03:22:47         f  \n",
       "3  2020-09-12 20:10:58         f  \n",
       "4  2020-01-17 13:13:59         f  "
      ]
     },
     "execution_count": 40,
     "metadata": {},
     "output_type": "execute_result"
    }
   ],
   "source": [
    "trump_df.head()"
   ]
  },
  {
   "cell_type": "markdown",
   "metadata": {},
   "source": [
    "Notice how we have unique tweet IDs? We can use this ID to get the row number. Let's test this out. We'll look at Tweet ID 1304875170860015617. and get the row index position (which should be 3):"
   ]
  },
  {
   "cell_type": "code",
   "execution_count": 41,
   "metadata": {},
   "outputs": [
    {
     "data": {
      "text/plain": [
       "3"
      ]
     },
     "execution_count": 41,
     "metadata": {},
     "output_type": "execute_result"
    }
   ],
   "source": [
    "#Input a particular Tweet ID\n",
    "tweet_id = 1304875170860015617\n",
    "# USe that Tweet ID to look up the row index\n",
    "tweet_index = trump_df[trump_df['id'] == tweet_id].index[0]\n",
    "# Print the row index of that tweet\n",
    "tweet_index"
   ]
  },
  {
   "cell_type": "code",
   "execution_count": 42,
   "metadata": {},
   "outputs": [
    {
     "name": "stdout",
     "output_type": "stream",
     "text": [
      "Topic Distributions for Tweet ID: 1304875170860015617\n",
      "\n",
      "The Unsolicited Mail In Ballot Scam is a major threat to our Democracy, &amp; the Democrats know it. Almost all recent elections using this system, even though much smaller &amp;  with far fewer Ballots to count, have ended up being a disaster. Large numbers of missing Ballots &amp; Fraud!\n",
      "\n",
      "\n",
      "✨Topic 0 ['democrats', 'impeachment', 'house', 'senate', 'pelosi', 'nancy'] ✨\n",
      "Probability: 0.001\n",
      "\n",
      "✨Topic 1 ['http', 'trump', 'via', 'donald', 'barackobama', 'obama'] ✨\n",
      "Probability: 0.001\n",
      "\n",
      "✨Topic 2 ['https', 'jobs', 'american', 'back', 'ford', 'new'] ✨\n",
      "Probability: 0.0\n",
      "\n",
      "✨Topic 3 ['court', 'supreme', 'judge', 'justice', 'https', 'states'] ✨\n",
      "Probability: 0.0\n",
      "\n",
      "✨Topic 4 ['election', 'https', 'vote', 'votes', 'ballots', 'fraud'] ✨\n",
      "Probability: 0.664\n",
      "\n",
      "✨Topic 5 ['great', 'work', 'america', 'make', 'people', 'hard'] ✨\n",
      "Probability: 0.002\n",
      "\n",
      "✨Topic 6 ['trump', 'https', 'poll', 'new', 'thank', 'approval'] ✨\n",
      "Probability: 0.001\n",
      "\n",
      "✨Topic 7 ['news', 'fake', 'media', 'people', 'even', 'story'] ✨\n",
      "Probability: 0.002\n",
      "\n",
      "✨Topic 8 ['think', 'like', 'deal', 'business', 'art', 'realdonaldtrump'] ✨\n",
      "Probability: 0.001\n",
      "\n",
      "✨Topic 9 ['realdonaldtrump', 'apprentice', 'celebapprentice', 'apprenticenbc', 'great', 'show'] ✨\n",
      "Probability: 0.001\n",
      "\n",
      "✨Topic 10 ['https', 'great', 'america', 'house', 'make', 'white'] ✨\n",
      "Probability: 0.001\n",
      "\n",
      "✨Topic 11 ['fbi', 'https', 'comey', 'trump', 'clinton', 'general'] ✨\n",
      "Probability: 0.001\n",
      "\n",
      "✨Topic 12 ['united', 'president', 'states', 'great', 'korea', 'north'] ✨\n",
      "Probability: 0.001\n",
      "\n",
      "✨Topic 13 ['great', 'thank', 'congratulations', 'http', 'job', 'wind'] ✨\n",
      "Probability: 0.001\n",
      "\n",
      "✨Topic 14 ['realdonaldtrump', 'trump', 'president', 'run', 'need', 'country'] ✨\n",
      "Probability: 0.002\n",
      "\n",
      "✨Topic 15 ['law', 'https', 'police', 'people', 'enforcement', 'god'] ✨\n",
      "Probability: 0.001\n",
      "\n",
      "✨Topic 16 ['obama', 'iran', 'http', 'isis', 'syria', 'china'] ✨\n",
      "Probability: 0.001\n",
      "\n",
      "✨Topic 17 ['realdonaldtrump', 'like', 'show', 'would', 'never', 'people'] ✨\n",
      "Probability: 0.001\n",
      "\n",
      "✨Topic 18 ['realdonaldtrump', 'thanks', 'thank', 'great', 'trump', 'good'] ✨\n",
      "Probability: 0.001\n",
      "\n",
      "✨Topic 19 ['witch', 'democrats', 'hunt', 'president', 'russia', 'collusion'] ✨\n",
      "Probability: 0.001\n",
      "\n",
      "✨Topic 20 ['http', 'trump', 'golf', 'course', 'realdonaldtrump', 'great'] ✨\n",
      "Probability: 0.001\n",
      "\n",
      "✨Topic 21 ['border', 'wall', 'security', 'immigration', 'country', 'democrats'] ✨\n",
      "Probability: 0.001\n",
      "\n",
      "✨Topic 22 ['hillary', 'would', 'obama', 'never', 'people', 'said'] ✨\n",
      "Probability: 0.035\n",
      "\n",
      "✨Topic 23 ['https', 'great', 'thank', 'big', 'crowd', 'carolina'] ✨\n",
      "Probability: 0.001\n",
      "\n",
      "✨Topic 24 ['coronavirus', 'covid', 'https', 'hurricane', 'help', 'global'] ✨\n",
      "Probability: 0.001\n",
      "\n",
      "✨Topic 25 ['https', 'president', 'today', 'realdonaldtrump', 'whitehouse', 'american'] ✨\n",
      "Probability: 0.001\n",
      "\n",
      "✨Topic 26 ['trump', 'realdonaldtrump', 'president', 'donald', 'https', 'gop'] ✨\n",
      "Probability: 0.001\n",
      "\n",
      "✨Topic 27 ['happy', 'great', 'book', 'trump', 'new', 'https'] ✨\n",
      "Probability: 0.001\n",
      "\n",
      "✨Topic 28 ['big', 'time', 'get', 'like', 'good', 'win'] ✨\n",
      "Probability: 0.002\n",
      "\n",
      "✨Topic 29 ['china', 'obamacare', 'trade', 'dollars', 'deal', 'http'] ✨\n",
      "Probability: 0.234\n",
      "\n",
      "✨Topic 30 ['foxnews', 'tonight', 'great', 'enjoy', 'interview', 'morning'] ✨\n",
      "Probability: 0.001\n",
      "\n",
      "✨Topic 31 ['great', 'endorsement', 'total', 'complete', 'vote', 'https'] ✨\n",
      "Probability: 0.001\n",
      "\n",
      "✨Topic 32 ['biden', 'joe', 'https', 'sleepy', 'bernie', 'president'] ✨\n",
      "Probability: 0.001\n",
      "\n",
      "✨Topic 33 ['economy', 'ever', 'jobs', 'record', 'history', 'president'] ✨\n",
      "Probability: 0.034\n",
      "\n",
      "✨Topic 34 ['https', 'thank', 'trump', 'makeamericagreatagain', 'realdonaldtrump', 'maga'] ✨\n",
      "Probability: 0.001\n",
      "\n"
     ]
    }
   ],
   "source": [
    "# Change the Tweet ID below:\n",
    "tweet_id = 1304875170860015617\n",
    "tweet_index = trump_df[trump_df['id'] == tweet_id].index[0]\n",
    "\n",
    "\n",
    "print(f\"Topic Distributions for Tweet ID: {tweet_id}\\n\")\n",
    "print(trump_df['text'].loc[tweet_index])\n",
    "print('\\n')\n",
    "for topic_number, (topic, topic_distribution) in enumerate(zip(topics, topic_distributions[tweet_index])):\n",
    "    tweet_index = trump_df[trump_df['id'] == tweet_id].index[0]\n",
    "    print(f\"✨Topic {topic_number} {topic[:6]} ✨\\nProbability: {round(topic_distribution, 3)}\\n\")\n"
   ]
  },
  {
   "cell_type": "markdown",
   "metadata": {},
   "source": [
    "## Displaying topic words in context of the original text "
   ]
  },
  {
   "cell_type": "code",
   "execution_count": 43,
   "metadata": {},
   "outputs": [],
   "source": [
    "from IPython.display import Markdown, display\n",
    "import re\n",
    "\n",
    "def display_bolded_topic_words_in_context(topic_number=3, number_of_documents=3, custom_words=None):\n",
    "    print(f\"✨Topic {topic_number}✨\\n\\n{topics[topic_number]}\\n\")\n",
    "    \n",
    "    for probability, document in little_mallet_wrapper.get_top_docs(training_data, topic_distributions, topic_number, n=number_of_documents):\n",
    "        \n",
    "        probability = f\"✨✨✨\\n\\n**{round(probability, 4)}**\"\n",
    "        topic_words = topics[topic_number]\n",
    "        topic_words = custom_words if custom_words != None else topic_words\n",
    "\n",
    "        for word in topic_words:\n",
    "            if word in tweet_dict[document]:\n",
    "                tweet_dict[document] = re.sub(f\"\\\\b{word}\\\\b\", f\"**{word}**\", tweet_dict[document])\n",
    "\n",
    "        display(Markdown(probability)), display(Markdown(tweet_dict[document]))\n",
    "    return"
   ]
  },
  {
   "cell_type": "markdown",
   "metadata": {},
   "source": [
    "### Let's look at the three tweets with the highest probability of belonging to Topic 2"
   ]
  },
  {
   "cell_type": "code",
   "execution_count": 45,
   "metadata": {},
   "outputs": [
    {
     "name": "stdout",
     "output_type": "stream",
     "text": [
      "✨Topic 2✨\n",
      "\n",
      "['https', 'jobs', 'american', 'back', 'ford', 'new', 'bring', 'workers', 'promises', 'steve', 'apple', 'thank', 'michigan', 'made', 'whitehouse', 'america', 'plant', 'great', 'manufacturing', 'coming']\n",
      "\n"
     ]
    },
    {
     "data": {
      "text/markdown": [
       "✨✨✨\n",
       "\n",
       "**0.9205**"
      ],
      "text/plain": [
       "<IPython.core.display.Markdown object>"
      ]
     },
     "metadata": {},
     "output_type": "display_data"
    },
    {
     "data": {
      "text/markdown": [
       "Toyota &amp, Mazda to build a **new** $1.6B **plant** here in the U.S.A. and create 4K **new** American **jobs**. A **great** investment in American **manufacturing**!"
      ],
      "text/plain": [
       "<IPython.core.display.Markdown object>"
      ]
     },
     "metadata": {},
     "output_type": "display_data"
    },
    {
     "data": {
      "text/markdown": [
       "✨✨✨\n",
       "\n",
       "**0.9205**"
      ],
      "text/plain": [
       "<IPython.core.display.Markdown object>"
      ]
     },
     "metadata": {},
     "output_type": "display_data"
    },
    {
     "data": {
      "text/markdown": [
       "We’ve just set a **new** goal: raise $4 million from our grassroots supporters by MIDNIGHT! **https**://t.co/Ssrh55C6hW **https**://t.co/8E0LiC8wYE"
      ],
      "text/plain": [
       "<IPython.core.display.Markdown object>"
      ]
     },
     "metadata": {},
     "output_type": "display_data"
    },
    {
     "data": {
      "text/markdown": [
       "✨✨✨\n",
       "\n",
       "**0.9145**"
      ],
      "text/plain": [
       "<IPython.core.display.Markdown object>"
      ]
     },
     "metadata": {},
     "output_type": "display_data"
    },
    {
     "data": {
      "text/markdown": [
       "We’ve just set a **new** goal: raise $4 million from our grassroots supporters by MIDNIGHT! **https**://t.co/Ssrh55C6hW **https**://t.co/9Hd6dRcojF"
      ],
      "text/plain": [
       "<IPython.core.display.Markdown object>"
      ]
     },
     "metadata": {},
     "output_type": "display_data"
    }
   ],
   "source": [
    "display_bolded_topic_words_in_context(topic_number=2, number_of_documents=3)"
   ]
  },
  {
   "cell_type": "code",
   "execution_count": null,
   "metadata": {},
   "outputs": [],
   "source": []
  }
 ],
 "metadata": {
  "kernelspec": {
   "display_name": "Python 3",
   "language": "python",
   "name": "python3"
  },
  "language_info": {
   "codemirror_mode": {
    "name": "ipython",
    "version": 3
   },
   "file_extension": ".py",
   "mimetype": "text/x-python",
   "name": "python",
   "nbconvert_exporter": "python",
   "pygments_lexer": "ipython3",
   "version": "3.8.3"
  }
 },
 "nbformat": 4,
 "nbformat_minor": 4
}
