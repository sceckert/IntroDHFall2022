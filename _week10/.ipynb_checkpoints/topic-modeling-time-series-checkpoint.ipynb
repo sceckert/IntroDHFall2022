{
 "cells": [
  {
   "cell_type": "markdown",
   "metadata": {},
   "source": [
    "# Topic Modeling: Creating Time Series Visualizations"
   ]
  },
  {
   "cell_type": "markdown",
   "metadata": {},
   "source": [
    "A lesson from [Melanie Walsh's *Introduction to Cultural Analytics*](https://github.com/melaniewalsh/Intro-Cultural-Analytics/blob/master/book/Text-Analysis/Topic-Modeling-Time-Series.ipynb)\n",
    "\n",
    "Last week we learned about \"topic modeling\", using MALLET.\n",
    "\n",
    "In this particular lesson, we’re going to use Little MALLET Wrapper, a Python wrapper for MALLET, to topic model a CSV file of Donald Trump’s tweets and plot the fluctuation of topics over time."
   ]
  },
  {
   "cell_type": "markdown",
   "metadata": {},
   "source": [
    "### Set MALLET Path\n",
    "\n",
    "Since Little MALLET Wrapper is a Python package built around MALLET, we first need to tell it where the bigger, Java-based MALLET lives.\n",
    "\n",
    "We’re going to make a variable called path_to_mallet and assign it the file path of our MALLET program. We need to point it, specifically, to the “mallet” file inside the “bin” folder inside the “mallet-2.0.8” folder."
   ]
  },
  {
   "cell_type": "code",
   "execution_count": 1,
   "metadata": {},
   "outputs": [],
   "source": [
    "path_to_mallet = '../_week9/mallet-2.0.8/bin/mallet'"
   ]
  },
  {
   "cell_type": "markdown",
   "metadata": {},
   "source": [
    "### Install Packages"
   ]
  },
  {
   "cell_type": "code",
   "execution_count": 131,
   "metadata": {},
   "outputs": [],
   "source": [
    "#!pip install little_mallet_wrapper\n",
    "#!pip install seaborn"
   ]
  },
  {
   "cell_type": "markdown",
   "metadata": {},
   "source": [
    "### Import Packages\n",
    "\n",
    "Now let’s import the little_mallet_wrapper and the data viz library seaborn."
   ]
  },
  {
   "cell_type": "code",
   "execution_count": 2,
   "metadata": {},
   "outputs": [],
   "source": [
    "import little_mallet_wrapper\n",
    "import seaborn\n",
    "import glob\n",
    "from pathlib import Path\n",
    "import pandas as pd\n",
    "import random\n",
    "pd.options.display.max_colwidth = 100"
   ]
  },
  {
   "cell_type": "markdown",
   "metadata": {},
   "source": [
    "### Get Training Data From CSV File\n",
    "\n",
    "Before we topic model Donald Trump’s tweets, we need to process the tweets and prepare them for analysis. The steps below demonstrate how to process texts if they come from a CSV file.\n",
    "\n",
    "Note: We’re calling these text files our training data, because we’re training our topic model with these texts. The topic model will be learning and extracting topics based on these texts"
   ]
  },
  {
   "cell_type": "markdown",
   "metadata": {},
   "source": [
    "## Trump Tweets\n",
    "\n",
    "This dataset of Donald Trump’s tweets is taken from Trump Twitter Archive. To read in the CSV file, we’re going to use Pandas."
   ]
  },
  {
   "cell_type": "code",
   "execution_count": 3,
   "metadata": {},
   "outputs": [],
   "source": [
    "trump_df = pd.read_csv(\"../_datasets/trump-tweets_01-08-2021.csv\", encoding='utf-8')"
   ]
  },
  {
   "cell_type": "code",
   "execution_count": 4,
   "metadata": {},
   "outputs": [
    {
     "data": {
      "text/html": [
       "<div>\n",
       "<style scoped>\n",
       "    .dataframe tbody tr th:only-of-type {\n",
       "        vertical-align: middle;\n",
       "    }\n",
       "\n",
       "    .dataframe tbody tr th {\n",
       "        vertical-align: top;\n",
       "    }\n",
       "\n",
       "    .dataframe thead th {\n",
       "        text-align: right;\n",
       "    }\n",
       "</style>\n",
       "<table border=\"1\" class=\"dataframe\">\n",
       "  <thead>\n",
       "    <tr style=\"text-align: right;\">\n",
       "      <th></th>\n",
       "      <th>id</th>\n",
       "      <th>text</th>\n",
       "      <th>isRetweet</th>\n",
       "      <th>isDeleted</th>\n",
       "      <th>device</th>\n",
       "      <th>favorites</th>\n",
       "      <th>retweets</th>\n",
       "      <th>date</th>\n",
       "      <th>isFlagged</th>\n",
       "    </tr>\n",
       "  </thead>\n",
       "  <tbody>\n",
       "    <tr>\n",
       "      <th>0</th>\n",
       "      <td>98454970654916608</td>\n",
       "      <td>Republicans and Democrats have both created our economic problems.</td>\n",
       "      <td>f</td>\n",
       "      <td>f</td>\n",
       "      <td>TweetDeck</td>\n",
       "      <td>49</td>\n",
       "      <td>255</td>\n",
       "      <td>2011-08-02 18:07:48</td>\n",
       "      <td>f</td>\n",
       "    </tr>\n",
       "    <tr>\n",
       "      <th>1</th>\n",
       "      <td>1234653427789070336</td>\n",
       "      <td>I was thrilled to be back in the Great city of Charlotte, North Carolina with thousands of hardw...</td>\n",
       "      <td>f</td>\n",
       "      <td>f</td>\n",
       "      <td>Twitter for iPhone</td>\n",
       "      <td>73748</td>\n",
       "      <td>17404</td>\n",
       "      <td>2020-03-03 01:34:50</td>\n",
       "      <td>f</td>\n",
       "    </tr>\n",
       "    <tr>\n",
       "      <th>2</th>\n",
       "      <td>1218010753434820614</td>\n",
       "      <td>RT @CBS_Herridge: READ: Letter to surveillance court obtained by CBS News questions where there ...</td>\n",
       "      <td>t</td>\n",
       "      <td>f</td>\n",
       "      <td>Twitter for iPhone</td>\n",
       "      <td>0</td>\n",
       "      <td>7396</td>\n",
       "      <td>2020-01-17 03:22:47</td>\n",
       "      <td>f</td>\n",
       "    </tr>\n",
       "    <tr>\n",
       "      <th>3</th>\n",
       "      <td>1304875170860015617</td>\n",
       "      <td>The Unsolicited Mail In Ballot Scam is a major threat to our Democracy, &amp;amp; the Democrats know...</td>\n",
       "      <td>f</td>\n",
       "      <td>f</td>\n",
       "      <td>Twitter for iPhone</td>\n",
       "      <td>80527</td>\n",
       "      <td>23502</td>\n",
       "      <td>2020-09-12 20:10:58</td>\n",
       "      <td>f</td>\n",
       "    </tr>\n",
       "    <tr>\n",
       "      <th>4</th>\n",
       "      <td>1218159531554897920</td>\n",
       "      <td>RT @MZHemingway: Very friendly telling of events here about Comey's apparent leaking to complian...</td>\n",
       "      <td>t</td>\n",
       "      <td>f</td>\n",
       "      <td>Twitter for iPhone</td>\n",
       "      <td>0</td>\n",
       "      <td>9081</td>\n",
       "      <td>2020-01-17 13:13:59</td>\n",
       "      <td>f</td>\n",
       "    </tr>\n",
       "  </tbody>\n",
       "</table>\n",
       "</div>"
      ],
      "text/plain": [
       "                    id  \\\n",
       "0    98454970654916608   \n",
       "1  1234653427789070336   \n",
       "2  1218010753434820614   \n",
       "3  1304875170860015617   \n",
       "4  1218159531554897920   \n",
       "\n",
       "                                                                                                  text  \\\n",
       "0                                   Republicans and Democrats have both created our economic problems.   \n",
       "1  I was thrilled to be back in the Great city of Charlotte, North Carolina with thousands of hardw...   \n",
       "2  RT @CBS_Herridge: READ: Letter to surveillance court obtained by CBS News questions where there ...   \n",
       "3  The Unsolicited Mail In Ballot Scam is a major threat to our Democracy, &amp; the Democrats know...   \n",
       "4  RT @MZHemingway: Very friendly telling of events here about Comey's apparent leaking to complian...   \n",
       "\n",
       "  isRetweet isDeleted              device  favorites  retweets  \\\n",
       "0         f         f           TweetDeck         49       255   \n",
       "1         f         f  Twitter for iPhone      73748     17404   \n",
       "2         t         f  Twitter for iPhone          0      7396   \n",
       "3         f         f  Twitter for iPhone      80527     23502   \n",
       "4         t         f  Twitter for iPhone          0      9081   \n",
       "\n",
       "                  date isFlagged  \n",
       "0  2011-08-02 18:07:48         f  \n",
       "1  2020-03-03 01:34:50         f  \n",
       "2  2020-01-17 03:22:47         f  \n",
       "3  2020-09-12 20:10:58         f  \n",
       "4  2020-01-17 13:13:59         f  "
      ]
     },
     "execution_count": 4,
     "metadata": {},
     "output_type": "execute_result"
    }
   ],
   "source": [
    "trump_df.head()"
   ]
  },
  {
   "cell_type": "code",
   "execution_count": 5,
   "metadata": {},
   "outputs": [],
   "source": [
    "trump_df['text'] = trump_df['text'].astype(str)\n"
   ]
  },
  {
   "cell_type": "markdown",
   "metadata": {},
   "source": [
    "## Process Trump Tweets"
   ]
  },
  {
   "cell_type": "code",
   "execution_count": 6,
   "metadata": {},
   "outputs": [],
   "source": [
    "training_data = [little_mallet_wrapper.process_string(text, numbers='remove') for text in trump_df['text']]"
   ]
  },
  {
   "cell_type": "markdown",
   "metadata": {},
   "source": [
    "### Get Original Trump Tweets"
   ]
  },
  {
   "cell_type": "code",
   "execution_count": 7,
   "metadata": {},
   "outputs": [],
   "source": [
    "original_trump_tweets = [title for title in trump_df['text']]"
   ]
  },
  {
   "cell_type": "code",
   "execution_count": 8,
   "metadata": {},
   "outputs": [],
   "source": [
    "## Get Dataset Statistics"
   ]
  },
  {
   "cell_type": "code",
   "execution_count": 9,
   "metadata": {},
   "outputs": [
    {
     "name": "stdout",
     "output_type": "stream",
     "text": [
      "Number of Documents: 56571\n",
      "Mean Number of Words per Document: 12.0\n",
      "Vocabulary Size: 59952\n"
     ]
    }
   ],
   "source": [
    "little_mallet_wrapper.print_dataset_stats(training_data)"
   ]
  },
  {
   "cell_type": "markdown",
   "metadata": {},
   "source": [
    "## Training the Topic Model\n",
    "\n",
    "We’re going to train our topic model with the little_mallet_wrapper.train_topic_model() function.\n",
    "\n",
    "So we have to set a few things up first."
   ]
  },
  {
   "cell_type": "markdown",
   "metadata": {},
   "source": [
    "## Set Number of Topics"
   ]
  },
  {
   "cell_type": "code",
   "execution_count": 10,
   "metadata": {},
   "outputs": [],
   "source": [
    "num_topics = 35"
   ]
  },
  {
   "cell_type": "markdown",
   "metadata": {},
   "source": [
    "## Set Training Data"
   ]
  },
  {
   "cell_type": "code",
   "execution_count": 11,
   "metadata": {},
   "outputs": [],
   "source": [
    "training_data = training_data"
   ]
  },
  {
   "cell_type": "markdown",
   "metadata": {},
   "source": [
    "## Set Other MALLET File Paths"
   ]
  },
  {
   "cell_type": "code",
   "execution_count": 17,
   "metadata": {},
   "outputs": [],
   "source": [
    "#Change to your desired output directory\n",
    "output_directory_path = 'topic-model-output/Trump-Tweets'\n",
    "\n",
    "#No need to change anything below here\n",
    "Path(f\"{output_directory_path}\").mkdir(parents=True, exist_ok=True)\n",
    "\n",
    "path_to_training_data           = output_directory_path + '/training.txt'\n",
    "path_to_formatted_training_data = output_directory_path + '/mallet.training'\n",
    "path_to_model                   = output_directory_path + '/mallet.model.' + str(num_topics)\n",
    "path_to_topic_keys              = output_directory_path + '/mallet.topic_keys.' + str(num_topics)\n",
    "path_to_topic_distributions     = output_directory_path + '/mallet.topic_distributions.' + str(num_topics)\n",
    "path_to_word_weights            = output_directory_path + '/mallet.word_weights.' + str(num_topics)\n",
    "path_to_diagnostics             = output_directory_path + '/mallet.diagnostics.' + str(num_topics) + '.xml'\n",
    "\n"
   ]
  },
  {
   "cell_type": "markdown",
   "metadata": {},
   "source": [
    "## Import Data\n",
    "\n",
    "We’re going to import the data with little_mallet_wrapper.import_data()."
   ]
  },
  {
   "cell_type": "code",
   "execution_count": 18,
   "metadata": {},
   "outputs": [
    {
     "name": "stdout",
     "output_type": "stream",
     "text": [
      "Importing data...\n",
      "Complete\n"
     ]
    }
   ],
   "source": [
    "little_mallet_wrapper.import_data(path_to_mallet,\n",
    "                path_to_training_data,\n",
    "                path_to_formatted_training_data,\n",
    "                training_data)"
   ]
  },
  {
   "cell_type": "markdown",
   "metadata": {},
   "source": [
    "## Train Topic Model\n",
    "The topic model should take 1-2 minutes to complete"
   ]
  },
  {
   "cell_type": "code",
   "execution_count": 19,
   "metadata": {},
   "outputs": [
    {
     "name": "stdout",
     "output_type": "stream",
     "text": [
      "Training topic model...\n",
      "Complete\n"
     ]
    }
   ],
   "source": [
    "little_mallet_wrapper.train_topic_model(path_to_mallet,\n",
    "                      path_to_formatted_training_data,\n",
    "                      path_to_model,\n",
    "                      path_to_topic_keys,\n",
    "                      path_to_topic_distributions,\n",
    "                      path_to_word_weights,\n",
    "                      path_to_diagnostics,\n",
    "                      num_topics)"
   ]
  },
  {
   "cell_type": "markdown",
   "metadata": {},
   "source": [
    "## Display Topics and Top Words"
   ]
  },
  {
   "cell_type": "code",
   "execution_count": 20,
   "metadata": {},
   "outputs": [
    {
     "name": "stdout",
     "output_type": "stream",
     "text": [
      "✨Topic 0✨\n",
      "\n",
      "['realdonaldtrump', 'president', 'trump', 'run', 'country', 'need', 'vote', 'would', 'please', 'donald', 'america', 'needs', 'thanks', 'make', 'get', 'true', 'great', 'man', 'leader', 'thank']\n",
      "\n",
      "✨Topic 1✨\n",
      "\n",
      "['jobs', 'economy', 'record', 'https', 'ever', 'history', 'tax', 'years', 'president', 'since', 'year', 'market', 'american', 'trump', 'numbers', 'unemployment', 'realdonaldtrump', 'new', 'stock', 'best']\n",
      "\n",
      "✨Topic 2✨\n",
      "\n",
      "['democrats', 'impeachment', 'president', 'house', 'schiff', 'pelosi', 'nothing', 'senate', 'nancy', 'call', 'adam', 'dems', 'realdonaldtrump', 'hoax', 'said', 'whistleblower', 'https', 'congress', 'case', 'republicans']\n",
      "\n",
      "✨Topic 3✨\n",
      "\n",
      "['great', 'endorsement', 'total', 'complete', 'https', 'strong', 'amendment', 'military', 'vets', 'vote', 'second', 'state', 'congressman', 'crime', 'job', 'people', 'governor', 'loves', 'senator', 'border']\n",
      "\n",
      "✨Topic 4✨\n",
      "\n",
      "['biden', 'joe', 'https', 'left', 'sleepy', 'radical', 'american', 'democrats', 'police', 'president', 'democrat', 'want', 'trump', 'realdonaldtrump', 'america', 'vote', 'would', 'party', 'dbongino', 'cities']\n",
      "\n",
      "✨Topic 5✨\n",
      "\n",
      "['realdonaldtrump', 'apprentice', 'celebapprentice', 'apprenticenbc', 'show', 'celebrity', 'season', 'http', 'great', 'nbc', 'miss', 'tonight', 'watch', 'star', 'celebrityapprentice', 'night', 'wait', 'see', 'love', 'sunday']\n",
      "\n",
      "✨Topic 6✨\n",
      "\n",
      "['border', 'wall', 'security', 'immigration', 'democrats', 'illegal', 'country', 'must', 'mexico', 'want', 'southern', 'crime', 'borders', 'laws', 'national', 'congress', 'stop', 'build', 'open', 'people']\n",
      "\n",
      "✨Topic 7✨\n",
      "\n",
      "['https', 'thank', 'join', 'trump', 'maga', 'tomorrow', 'vote', 'ohio', 'mike', 'makeamericagreatagain', 'danscavino', 'rally', 'live', 'watch', 'tonight', 'pennsylvania', 'tickets', 'pence', 'get', 'wisconsin']\n",
      "\n",
      "✨Topic 8✨\n",
      "\n",
      "['realdonaldtrump', 'thanks', 'great', 'thank', 'good', 'trump', 'love', 'nice', 'true', 'best', 'luck', 'job', 'man', 'always', 'donald', 'one', 'work', 'words', 'foxandfriends', 'awesome']\n",
      "\n",
      "✨Topic 9✨\n",
      "\n",
      "['https', 'happy', 'great', 'thank', 'birthday', 'day', 'god', 'realdonaldtrump', 'family', 'christmas', 'erictrump', 'america', 'thanks', 'year', 'bless', 'father', 'proud', 'love', 'wonderful', 'men']\n",
      "\n",
      "✨Topic 10✨\n",
      "\n",
      "['court', 'supreme', 'general', 'justice', 'states', 'secretary', 'united', 'judge', 'chief', 'john', 'https', 'great', 'new', 'president', 'congratulations', 'job', 'attorney', 'federal', 'decision', 'state']\n",
      "\n",
      "✨Topic 11✨\n",
      "\n",
      "['people', 'get', 'country', 'great', 'time', 'much', 'many', 'back', 'never', 'want', 'would', 'done', 'work', 'hard', 'make', 'big', 'better', 'democrats', 'going', 'like']\n",
      "\n",
      "✨Topic 12✨\n",
      "\n",
      "['new', 'york', 'coronavirus', 'people', 'covid', 'governor', 'many', 'mayor', 'testing', 'city', 'world', 'ebola', 'job', 'cases', 'china', 'california', 'federal', 'state', 'government', 'https']\n",
      "\n",
      "✨Topic 13✨\n",
      "\n",
      "['realdonaldtrump', 'trump', 'thanks', 'ties', 'macys', 'macy', 'great', 'http', 'like', 'losers', 'sugar', 'money', 'donald', 'show', 'never', 'shirts', 'haters', 'loser', 'dannyzuker', 'true']\n",
      "\n",
      "✨Topic 14✨\n",
      "\n",
      "['https', 'jim', 'jordan', 'trump', 'president', 'pro', 'quo', 'quid', 'rep', 'israel', 'peace', 'oann', 'einstein', 'says', 'albert', 'must', 'omar', 'watch', 'used', 'rncresearch']\n",
      "\n",
      "✨Topic 15✨\n",
      "\n",
      "['https', 'president', 'whitehouse', 'realdonaldtrump', 'today', 'honor', 'great', 'live', 'american', 'thank', 'welcome', 'day', 'united', 'women', 'first', 'national', 'teamtrump', 'america', 'trump', 'flotus']\n",
      "\n",
      "✨Topic 16✨\n",
      "\n",
      "['china', 'trade', 'united', 'states', 'deal', 'korea', 'great', 'north', 'countries', 'dollars', 'president', 'many', 'tariffs', 'billion', 'much', 'country', 'mexico', 'good', 'big', 'jobs']\n",
      "\n",
      "✨Topic 17✨\n",
      "\n",
      "['https', 'hurricane', 'help', 'support', 'act', 'state', 'today', 'coronavirus', 'bill', 'whitehouse', 'federal', 'local', 'small', 'work', 'businesses', 'safe', 'relief', 'covid', 'workers', 'great']\n",
      "\n",
      "✨Topic 18✨\n",
      "\n",
      "['great', 'congratulations', 'game', 'win', 'team', 'guy', 'good', 'nfl', 'friend', 'yankees', 'https', 'player', 'national', 'job', 'time', 'rod', 'football', 'players', 'winning', 'weiner']\n",
      "\n",
      "✨Topic 19✨\n",
      "\n",
      "['would', 'obama', 'like', 'never', 'people', 'president', 'said', 'last', 'even', 'one', 'bad', 'really', 'many', 'time', 'years', 'got', 'didn', 'good', 'know', 'get']\n",
      "\n",
      "✨Topic 20✨\n",
      "\n",
      "['trump', 'http', 'golf', 'course', 'realdonaldtrump', 'hotel', 'great', 'best', 'new', 'tower', 'world', 'doral', 'beautiful', 'national', 'scotland', 'thanks', 'amazing', 'club', 'trumpdoral', 'international']\n",
      "\n",
      "✨Topic 21✨\n",
      "\n",
      "['think', 'like', 'big', 'entrepreneurs', 'success', 'work', 'keep', 'never', 'business', 'deal', 'best', 'focus', 'good', 'one', 'know', 'give', 'always', 'realdonaldtrump', 'champion', 'art']\n",
      "\n",
      "✨Topic 22✨\n",
      "\n",
      "['http', 'barackobama', 'obamacare', 'obama', 'cont', 'prices', 'debt', 'tax', 'china', 'mittromney', 'wind', 'taxes', 'jobs', 'million', 'plan', 'gas', 'oil', 'healthcare', 'energy', 'must']\n",
      "\n",
      "✨Topic 23✨\n",
      "\n",
      "['http', 'trump', 'via', 'donald', 'interview', 'discussing', 'breitbartnews', 'newsmax', 'gop', 'media', 'obama', 'bit', 'video', 'trumpvlog', 'cont', 'foxandfriends', 'today', 'new', 'mittromney', 'int']\n",
      "\n",
      "✨Topic 24✨\n",
      "\n",
      "['news', 'fake', 'media', 'story', 'new', 'cnn', 'people', 'even', 'nytimes', 'failing', 'times', 'bad', 'york', 'big', 'many', 'dishonest', 'totally', 'reporting', 'much', 'made']\n",
      "\n",
      "✨Topic 25✨\n",
      "\n",
      "['great', 'house', 'white', 'forward', 'big', 'looking', 'carolina', 'people', 'crowd', 'night', 'thank', 'today', 'see', 'https', 'north', 'rally', 'new', 'last', 'tomorrow', 'speech']\n",
      "\n",
      "✨Topic 26✨\n",
      "\n",
      "['realdonaldtrump', 'trump', 'donald', 'president', 'people', 'gop', 'truth', 'love', 'like', 'reagan', 'makeamericagreatagain', 'cnn', 'true', 'thank', 'know', 'american', 'donaldtrump', 'real', 'foxnews', 'would']\n",
      "\n",
      "✨Topic 27✨\n",
      "\n",
      "['https', 'law', 'enforcement', 'thank', 'families', 'police', 'prayers', 'today', 'first', 'great', 'people', 'god', 'victims', 'family', 'officers', 'thoughts', 'school', 'condolences', 'responders', 'bless']\n",
      "\n",
      "✨Topic 28✨\n",
      "\n",
      "['election', 'vote', 'republican', 'https', 'party', 'win', 'votes', 'state', 'voting', 'ballots', 'fraud', 'approval', 'big', 'voter', 'won', 'georgia', 'poll', 'states', 'mail', 'ballot']\n",
      "\n",
      "✨Topic 29✨\n",
      "\n",
      "['fbi', 'collusion', 'trump', 'russia', 'mueller', 'hillary', 'campaign', 'clinton', 'witch', 'hunt', 'report', 'comey', 'obama', 'https', 'crooked', 'investigation', 'russian', 'democrats', 'president', 'james']\n",
      "\n",
      "✨Topic 30✨\n",
      "\n",
      "['obama', 'iran', 'http', 'isis', 'iraq', 'syria', 'attack', 'china', 'oil', 'nuclear', 'israel', 'war', 'deal', 'barackobama', 'russia', 'president', 'east', 'killed', 'middle', 'military']\n",
      "\n",
      "✨Topic 31✨\n",
      "\n",
      "['great', 'america', 'https', 'make', 'book', 'new', 'get', 'trump', 'deal', 'let', 'realdonaldtrump', 'read', 'together', 'thank', 'art', 'keep', 'today', 'one', 'going', 'time']\n",
      "\n",
      "✨Topic 32✨\n",
      "\n",
      "['foxnews', 'tonight', 'enjoy', 'interview', 'fox', 'morning', 'interviewed', 'show', 'great', 'cnn', 'foxandfriends', 'realdonaldtrump', 'watch', 'seanhannity', 'news', 'ratings', 'night', 'chris', 'last', 'minutes']\n",
      "\n",
      "✨Topic 33✨\n",
      "\n",
      "['https', 'thank', 'trump', 'makeamericagreatagain', 'realdonaldtrump', 'maga', 'new', 'poll', 'danscavino', 'support', 'votetrump', 'hampshire', 'great', 'co/t', 'co/z', 'co/v', 'kag', 'true', 'video', 'americafirst']\n",
      "\n",
      "✨Topic 34✨\n",
      "\n",
      "['hillary', 'clinton', 'https', 'crooked', 'cruz', 'debate', 'jeb', 'ted', 'trump', 'bernie', 'rubio', 'bush', 'campaign', 'mike', 'poll', 'sanders', 'bad', 'said', 'debates', 'wall']\n",
      "\n"
     ]
    }
   ],
   "source": [
    "topics = little_mallet_wrapper.load_topic_keys(path_to_topic_keys)\n",
    "\n",
    "for topic_number, topic in enumerate(topics):\n",
    "    print(f\"✨Topic {topic_number}✨\\n\\n{topic}\\n\")"
   ]
  },
  {
   "cell_type": "markdown",
   "metadata": {},
   "source": [
    "## Display Top Tweets Per Topic\n",
    "### Load Topic Distributions\n",
    "To load topic distributions, run the following four cells"
   ]
  },
  {
   "cell_type": "code",
   "execution_count": 21,
   "metadata": {},
   "outputs": [],
   "source": [
    "topic_distributions = little_mallet_wrapper.load_topic_distributions(path_to_topic_distributions)"
   ]
  },
  {
   "cell_type": "code",
   "execution_count": 22,
   "metadata": {},
   "outputs": [],
   "source": [
    "tweet_dict = dict(zip(training_data, original_trump_tweets))"
   ]
  },
  {
   "cell_type": "code",
   "execution_count": 23,
   "metadata": {},
   "outputs": [],
   "source": [
    "def display_top_tweets_per_topic(topic_number=0, number_of_documents=5):\n",
    "    \n",
    "    print(f\"✨Topic {topic_number}✨\\n\\n{topics[topic_number]}\\n\")\n",
    "\n",
    "    for probability, document in little_mallet_wrapper.get_top_docs(training_data, topic_distributions, topic_number, n=number_of_documents):\n",
    "        print(round(probability, 4), tweet_dict[document] + \"\\n\")\n",
    "    return"
   ]
  },
  {
   "cell_type": "markdown",
   "metadata": {},
   "source": [
    "#### Display top tweets in Topic 0"
   ]
  },
  {
   "cell_type": "code",
   "execution_count": 24,
   "metadata": {},
   "outputs": [
    {
     "name": "stdout",
     "output_type": "stream",
     "text": [
      "✨Topic 0✨\n",
      "\n",
      "['realdonaldtrump', 'president', 'trump', 'run', 'country', 'need', 'vote', 'would', 'please', 'donald', 'america', 'needs', 'thanks', 'make', 'get', 'true', 'great', 'man', 'leader', 'thank']\n",
      "\n",
      "0.9258 \"\"\"@VeryOddDog: @realDonaldTrump TRUMP TRUMP - YOU ARE THE ONLY ONE AMERICA NEEDS RIGHT NOW THE ONLY ONE WHO CAN SAVE AMERCIA GOD BLESS U SIR\"\"\"\n",
      "\n",
      "0.9258 \"\"\"@TracyLynnClark1:  @YllSadiku Mister Trump please run for president this country needs you badly and I would vote for you in a heart beat.\"\"\"\n",
      "\n",
      "0.9258 \"\"\"@MauiJano You have my presidential vote! We need an assertive person like you to bring back respect and financial  repair to America!\"\" Thx\"\n",
      "\n",
      "0.9258 \"\"\"@housecalls1228: @realDonaldTrump Sure wish you'd get off the pot and start pissing off this Fed Gov by running for Pres.You've got my vote\"\n",
      "\n",
      "0.9258 \"\"\"@HaKolBzman  you would make an awesome president. We need someone who actually understands business to turn this country around\"\" Thanks.\"\n",
      "\n"
     ]
    }
   ],
   "source": [
    "display_top_tweets_per_topic(topic_number=0, number_of_documents=5)"
   ]
  },
  {
   "cell_type": "markdown",
   "metadata": {},
   "source": [
    "## Plot Topics Over Time\n"
   ]
  },
  {
   "cell_type": "markdown",
   "metadata": {},
   "source": [
    "### Load Topic Distributions"
   ]
  },
  {
   "cell_type": "code",
   "execution_count": 25,
   "metadata": {},
   "outputs": [],
   "source": [
    "topic_distributions = little_mallet_wrapper.load_topic_distributions(path_to_topic_distributions)"
   ]
  },
  {
   "cell_type": "markdown",
   "metadata": {},
   "source": [
    "### Add Topic Distribution Columns\n",
    "\n",
    "Add column with all topic distributions for every tweet"
   ]
  },
  {
   "cell_type": "code",
   "execution_count": 26,
   "metadata": {},
   "outputs": [],
   "source": [
    "trump_df['topic_distributions'] = pd.Series(topic_distributions)"
   ]
  },
  {
   "cell_type": "markdown",
   "metadata": {},
   "source": [
    "Make a separate dataframe with each topic distribution as a separate column"
   ]
  },
  {
   "cell_type": "code",
   "execution_count": 27,
   "metadata": {},
   "outputs": [],
   "source": [
    "topic_distributions_df = trump_df['topic_distributions'].apply(pd.Series)"
   ]
  },
  {
   "cell_type": "markdown",
   "metadata": {},
   "source": [
    "Rename each of those columns with the first four words from the topic"
   ]
  },
  {
   "cell_type": "code",
   "execution_count": 28,
   "metadata": {},
   "outputs": [],
   "source": [
    "topic_distributions_df.columns = [\" \".join(topic[:4]) for topic in topics]"
   ]
  },
  {
   "cell_type": "markdown",
   "metadata": {},
   "source": [
    "Merge that column into the dataframe"
   ]
  },
  {
   "cell_type": "code",
   "execution_count": 29,
   "metadata": {},
   "outputs": [],
   "source": [
    "trump_df = pd.concat([trump_df, topic_distributions_df], axis=1)"
   ]
  },
  {
   "cell_type": "markdown",
   "metadata": {},
   "source": [
    "### Date Formatting For Time Series Plot"
   ]
  },
  {
   "cell_type": "markdown",
   "metadata": {},
   "source": [
    "#### Convert to datetime"
   ]
  },
  {
   "cell_type": "code",
   "execution_count": 32,
   "metadata": {},
   "outputs": [],
   "source": [
    "trump_df['date'] = pd.to_datetime(trump_df['date'])"
   ]
  },
  {
   "cell_type": "markdown",
   "metadata": {},
   "source": [
    "#### Extract year"
   ]
  },
  {
   "cell_type": "code",
   "execution_count": 33,
   "metadata": {},
   "outputs": [],
   "source": [
    "trump_df['year'] = pd.to_datetime(trump_df['date'].dt.year, format='%Y')"
   ]
  },
  {
   "cell_type": "markdown",
   "metadata": {},
   "source": [
    "#### Extract year and month"
   ]
  },
  {
   "cell_type": "code",
   "execution_count": 34,
   "metadata": {},
   "outputs": [],
   "source": [
    "trump_df['year-month'] = trump_df['date'].dt.to_period('M')"
   ]
  },
  {
   "cell_type": "code",
   "execution_count": 35,
   "metadata": {},
   "outputs": [],
   "source": [
    "trump_df['Date (by month)'] = [month.to_timestamp() for month in trump_df['year-month']]"
   ]
  },
  {
   "cell_type": "markdown",
   "metadata": {},
   "source": [
    "#### Set year and month as Pandas Index"
   ]
  },
  {
   "cell_type": "code",
   "execution_count": 36,
   "metadata": {},
   "outputs": [],
   "source": [
    "trump_df = trump_df.set_index('Date (by month)')"
   ]
  },
  {
   "cell_type": "markdown",
   "metadata": {},
   "source": [
    "### Plot Individual Topics as Time Series"
   ]
  },
  {
   "cell_type": "markdown",
   "metadata": {},
   "source": [
    "**Topic 10 Label**:\n",
    "\n",
    "(Double-click this cell to enter your own label)"
   ]
  },
  {
   "cell_type": "markdown",
   "metadata": {},
   "source": [
    "### For every Trump tweet, plot the probability of Topic 10:"
   ]
  },
  {
   "cell_type": "code",
   "execution_count": 37,
   "metadata": {},
   "outputs": [
    {
     "data": {
      "text/plain": [
       "<matplotlib.axes._subplots.AxesSubplot at 0x7fd36069fe20>"
      ]
     },
     "execution_count": 37,
     "metadata": {},
     "output_type": "execute_result"
    },
    {
     "data": {
      "image/png": "[encoded data removed]",
      "text/plain": [
       "<Figure size 432x288 with 1 Axes>"
      ]
     },
     "metadata": {},
     "output_type": "display_data"
    }
   ],
   "source": [
    "topic_number = 10\n",
    "\n",
    "topic_label = \" \".join(topics[topic_number][:4])\n",
    "\n",
    "trump_df[topic_label].plot(style='.', title='Trump Tweets By Topic')"
   ]
  },
  {
   "cell_type": "markdown",
   "metadata": {},
   "source": [
    "### Compare to the total number of Trump tweets per month in our set"
   ]
  },
  {
   "cell_type": "code",
   "execution_count": 38,
   "metadata": {},
   "outputs": [
    {
     "data": {
      "text/plain": [
       "Text(0.5, 0, 'Date (by Month)')"
      ]
     },
     "execution_count": 38,
     "metadata": {},
     "output_type": "execute_result"
    },
    {
     "data": {
      "image/png": "[encoded data removed]",
      "text/plain": [
       "<Figure size 432x288 with 1 Axes>"
      ]
     },
     "metadata": {},
     "output_type": "display_data"
    }
   ],
   "source": [
    "ax= trump_df['year-month'].value_counts().plot(style='.', title='Trump Tweets per Month')\n",
    "ax.set_xlabel(\"Date (by Month)\")"
   ]
  },
  {
   "cell_type": "markdown",
   "metadata": {},
   "source": [
    "## 💡 CHECK-IN\n",
    "> What might this mean for how we interpret the distribution of topic 10 in our corpus?   \n",
    "> How might this graph of the total Trump tweets change how we interpret the distribution of topic 10 in our corpus?"
   ]
  },
  {
   "cell_type": "markdown",
   "metadata": {},
   "source": [
    "### For every month of Trump tweets, plot the average probability of Topic 10"
   ]
  },
  {
   "cell_type": "code",
   "execution_count": 39,
   "metadata": {},
   "outputs": [
    {
     "data": {
      "text/plain": [
       "<matplotlib.axes._subplots.AxesSubplot at 0x7fd33556c070>"
      ]
     },
     "execution_count": 39,
     "metadata": {},
     "output_type": "execute_result"
    },
    {
     "data": {
      "image/png": "[encoded data removed]",
      "text/plain": [
       "<Figure size 432x288 with 1 Axes>"
      ]
     },
     "metadata": {},
     "output_type": "display_data"
    }
   ],
   "source": [
    "topic_number = 10\n",
    "\n",
    "topic_label = \" \".join(topics[topic_number][:4])\n",
    "\n",
    "trump_df.groupby(trump_df.index)[[topic_label]].mean().plot(title='Trump Tweets By Topic', linewidth=2)"
   ]
  },
  {
   "cell_type": "markdown",
   "metadata": {},
   "source": [
    "## Your Turn!\n",
    "\n",
    "Choose 3 different topics from the Trump Twitter Archive and compare them:"
   ]
  },
  {
   "cell_type": "markdown",
   "metadata": {},
   "source": [
    "#### Topic #: (Double-Click to change this cell)"
   ]
  },
  {
   "cell_type": "code",
   "execution_count": 41,
   "metadata": {},
   "outputs": [
    {
     "data": {
      "text/plain": [
       "<matplotlib.axes._subplots.AxesSubplot at 0x7fd3356e8a30>"
      ]
     },
     "execution_count": 41,
     "metadata": {},
     "output_type": "execute_result"
    },
    {
     "data": {
      "image/png": "[encoded data removed]",
      "text/plain": [
       "<Figure size 432x288 with 1 Axes>"
      ]
     },
     "metadata": {},
     "output_type": "display_data"
    }
   ],
   "source": [
    "## Change the number here to view a different topic\n",
    "topic_number = 0\n",
    "\n",
    "topic_label = \" \".join(topics[topic_number][:4])\n",
    "\n",
    "trump_df.groupby(trump_df.index)[[topic_label]].mean().plot(title='Trump Tweets By Topic', linewidth=2)"
   ]
  },
  {
   "cell_type": "markdown",
   "metadata": {},
   "source": [
    "#### Topic #: (Double-Click to change this Cell and "
   ]
  },
  {
   "cell_type": "code",
   "execution_count": null,
   "metadata": {},
   "outputs": [],
   "source": [
    "## Change the number here to view a different topic\n",
    "topic_number = 1\n",
    "\n",
    "topic_label = \" \".join(topics[topic_number][:4])\n",
    "\n",
    "trump_df.groupby(trump_df.index)[[topic_label]].mean().plot(title='Trump Tweets By Topic', linewidth=2)"
   ]
  },
  {
   "cell_type": "markdown",
   "metadata": {},
   "source": [
    "#### Topic #: (Double-Click to change this Cell and "
   ]
  },
  {
   "cell_type": "code",
   "execution_count": null,
   "metadata": {},
   "outputs": [],
   "source": [
    "## Change the number here to view a different topic\n",
    "topic_number = 2\n",
    "\n",
    "topic_label = \" \".join(topics[topic_number][:4])\n",
    "\n",
    "trump_df.groupby(trump_df.index)[[topic_label]].mean().plot(title='Trump Tweets By Topic', linewidth=2)"
   ]
  },
  {
   "cell_type": "markdown",
   "metadata": {},
   "source": [
    "## Reflection\n",
    "\n",
    "1. What sorts of things should a digital humanist be aware of when creating a time-series visualization of topics?\n",
    "2. What kinds of things can we do to contextualize a time-series data, so that we can better understand the patterns that we're visualizing\n",
    "\n",
    "Write your reflections below:"
   ]
  },
  {
   "cell_type": "code",
   "execution_count": null,
   "metadata": {},
   "outputs": [],
   "source": []
  }
 ],
 "metadata": {
  "kernelspec": {
   "display_name": "Python 3",
   "language": "python",
   "name": "python3"
  },
  "language_info": {
   "codemirror_mode": {
    "name": "ipython",
    "version": 3
   },
   "file_extension": ".py",
   "mimetype": "text/x-python",
   "name": "python",
   "nbconvert_exporter": "python",
   "pygments_lexer": "ipython3",
   "version": "3.8.3"
  }
 },
 "nbformat": 4,
 "nbformat_minor": 4
}
